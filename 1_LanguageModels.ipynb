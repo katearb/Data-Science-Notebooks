{
  "cells": [
    {
      "cell_type": "markdown",
      "metadata": {
        "id": "view-in-github",
        "colab_type": "text"
      },
      "source": [
        "<a href=\"https://colab.research.google.com/github/katearb/Data-Science-Notebooks/blob/master/1_LanguageModels.ipynb\" target=\"_parent\"><img src=\"https://colab.research.google.com/assets/colab-badge.svg\" alt=\"Open In Colab\"/></a>"
      ]
    },
    {
      "cell_type": "markdown",
      "metadata": {
        "id": "4pvaeDpH4MEc"
      },
      "source": [
        "# Advanced NLP HW0\n",
        "\n",
        "Before starting the task please read thoroughly these chapters of Speech and Language Processing by Daniel Jurafsky & James H. Martin:\n",
        "\n",
        "•\tN-gram language models: https://web.stanford.edu/~jurafsky/slp3/3.pdf\n",
        "\n",
        "•\tNeural language models: https://web.stanford.edu/~jurafsky/slp3/7.pdf \n",
        "\n",
        "In this task you will be asked to implement the models described there.\n",
        "\n",
        "Build a text generator based on n-gram language model and neural language model.\n",
        "1.\tFind a corpus (e.g. http://cs.stanford.edu/people/karpathy/char-rnn/shakespeare_input.txt ), but you are free to use anything else of your interest\n",
        "2.\tPreprocess it if necessary (we suggest using nltk for that)\n",
        "3.\tBuild an n-gram model\n",
        "4.\tTry out different values of n, calculate perplexity on a held-out set\n",
        "5.\tBuild a simple neural network model for text generation (start from a feed-forward net for example). We suggest using tensorflow + keras for this task\n",
        "\n",
        "Criteria:\n",
        "1.\tData is split into train / validation / test, motivation for the split method is given\n",
        "2.\tN-gram model is implemented\n",
        "  *\tUnknown words are handled\n",
        "  * Add-k Smoothing is implemented\n",
        "3.\tNeural network for text generation is implemented\n",
        "4.\tPerplexity is calculated for both models\n",
        "5.\tExamples of texts generated with different models are present and compared\n",
        "6.\tOptional: Try both character-based and word-based approaches."
      ]
    },
    {
      "cell_type": "code",
      "execution_count": null,
      "metadata": {
        "id": "USVaA6AFLcfJ",
        "colab": {
          "base_uri": "https://localhost:8080/"
        },
        "outputId": "2629ef54-f645-4ffd-eabe-f73efc322784"
      },
      "outputs": [
        {
          "output_type": "stream",
          "name": "stdout",
          "text": [
            "[nltk_data] Downloading package punkt to /root/nltk_data...\n",
            "[nltk_data]   Package punkt is already up-to-date!\n"
          ]
        }
      ],
      "source": [
        "import math\n",
        "import random\n",
        "import re\n",
        "import requests\n",
        "from typing import Iterable, Union, Tuple, List\n",
        "from functools import wraps, reduce\n",
        "\n",
        "import matplotlib.pyplot as plt\n",
        "import numpy as np\n",
        "\n",
        "import nltk\n",
        "from nltk.tokenize import word_tokenize\n",
        "nltk.download('punkt')\n",
        "\n",
        "import pandas as pd\n",
        "from sklearn.model_selection import train_test_split\n",
        "\n",
        "from keras.preprocessing.sequence import pad_sequences\n",
        "from keras.preprocessing.text import Tokenizer\n",
        "from keras.layers import Dense, LSTM, Embedding\n",
        "from keras.models import Sequential\n",
        "from tensorflow.keras.utils import to_categorical"
      ]
    },
    {
      "cell_type": "markdown",
      "metadata": {
        "id": "DOZFlLKYLcfL"
      },
      "source": [
        "### Text preprocessing"
      ]
    },
    {
      "cell_type": "code",
      "execution_count": null,
      "metadata": {
        "id": "BOc4nIA7LcfO"
      },
      "outputs": [],
      "source": [
        "# loading data\n",
        "link = 'https://cs.stanford.edu/people/karpathy/char-rnn/shakespeare_input.txt'\n",
        "f = requests.get(link)\n",
        "data = f.text"
      ]
    },
    {
      "cell_type": "code",
      "source": [
        "data_train, data_test = train_test_split(data, test_size=0.2, random_state=42, shuffle=False)"
      ],
      "metadata": {
        "id": "Dj9p2nCeTBUo"
      },
      "execution_count": null,
      "outputs": []
    },
    {
      "cell_type": "code",
      "source": [
        "data_train, data_test = ''.join(data_train), ''.join(data_test)"
      ],
      "metadata": {
        "id": "ucByCySHVUcS"
      },
      "execution_count": null,
      "outputs": []
    },
    {
      "cell_type": "markdown",
      "source": [
        "Data was splitted in a such proportion because we have a lot of data, so 80% seems to be right.\n",
        "It was also important not to shuffle the data, because the word order will be broken in this case."
      ],
      "metadata": {
        "id": "81bMaKGCTQpf"
      }
    },
    {
      "cell_type": "code",
      "execution_count": null,
      "metadata": {
        "id": "y3niRLrPLcfP"
      },
      "outputs": [],
      "source": [
        "class TextPreprocesser:\n",
        "  def _remove_special_characters(self,\n",
        "                                 text: str\n",
        "                                ) -> str:\n",
        "    \"\"\"\n",
        "    This methods removes punctuation characters, except for . ! ?\n",
        "    \"\"\"\n",
        "    pattern_separators = re.compile(r\"\\n+|(?<=\\w)'(?=\\w)?\")\n",
        "    text = re.sub(pattern_separators, ' ', text)\n",
        "    \n",
        "    pattern_punctuation = re.compile(r'[^A-Za-z .!?]')\n",
        "    text = re.sub(pattern_punctuation, '', text)\n",
        "    \n",
        "    return text\n",
        "  \n",
        "  def _add_end_symbols(self,\n",
        "                       text: str\n",
        "                      ) -> str:\n",
        "    text_copy = ['<s>']\n",
        "    for i, token in enumerate(text):\n",
        "        if token in '.?!':\n",
        "            text_copy.extend(['</s>', '<s>'])\n",
        "        else:\n",
        "            text_copy.append(token)\n",
        "    \n",
        "    return text_copy\n",
        "      \n",
        "  def preprocess(self, \n",
        "                 text: str\n",
        "                ) -> List[str]:\n",
        "    \"\"\"\n",
        "    This method turns text into a token list.\n",
        "    \"\"\"\n",
        "    # lower case\n",
        "    text = text.lower()\n",
        "    \n",
        "    # remove non-termination punctuation (, - : ; \" etc.)\n",
        "    text = self._remove_special_characters(text)\n",
        "    \n",
        "    # tokenization\n",
        "    text = word_tokenize(text)\n",
        "    \n",
        "    # create end-symbols intead of .!?\n",
        "    text = self._add_end_symbols(text)\n",
        "    \n",
        "    return text"
      ]
    },
    {
      "cell_type": "code",
      "execution_count": null,
      "metadata": {
        "id": "jL0kjIhRLcfR"
      },
      "outputs": [],
      "source": [
        "t = TextPreprocesser()"
      ]
    },
    {
      "cell_type": "code",
      "execution_count": null,
      "metadata": {
        "id": "1QJdLNEyLcfR"
      },
      "outputs": [],
      "source": [
        "prep_text = t.preprocess(data_train)"
      ]
    },
    {
      "cell_type": "code",
      "source": [
        "# preprocessed text\n",
        "' '.join(prep_text[:1000])"
      ],
      "metadata": {
        "colab": {
          "base_uri": "https://localhost:8080/",
          "height": 106
        },
        "id": "lfowk1sQT1Bn",
        "outputId": "86180c2b-e69e-4648-db34-054d00ac2e65"
      },
      "execution_count": null,
      "outputs": [
        {
          "output_type": "execute_result",
          "data": {
            "application/vnd.google.colaboratory.intrinsic+json": {
              "type": "string"
            },
            "text/plain": [
              "'<s> first citizen before we proceed any further hear me speak </s> <s> all speak speak </s> <s> first citizen you are all resolved rather to die than to famish </s> <s> all resolved </s> <s> resolved </s> <s> first citizen first you know caius marcius is chief enemy to the people </s> <s> all we know t we know t. first citizen let us kill him and we ll have corn at our own price </s> <s> is t a verdict </s> <s> all no more talking on t let it be done away away </s> <s> second citizen one word good citizens </s> <s> first citizen we are accounted poor citizens the patricians good </s> <s> what authority surfeits on would relieve us if they would yield us but the superfluity while it were wholesome we might guess they relieved us humanely but they think we are too dear the leanness that afflicts us the object of our misery is as an inventory to particularise their abundance our sufferance is a gain to them let us revenge this with our pikes ere we become rakes for the gods know i speak this in hunger for bread not in thirst for revenge </s> <s> second citizen would you proceed especially against caius marcius </s> <s> all against him first he s a very dog to the commonalty </s> <s> second citizen consider you what services he has done for his country </s> <s> first citizen very well and could be content to give him good report fort but that he pays himself with being proud </s> <s> second citizen nay but speak not maliciously </s> <s> first citizen i say unto you what he hath done famously he did it to that end though softconscienced men can be content to say it was for his country he did it to please his mother and to be partly proud which he is even till the altitude of his virtue </s> <s> second citizen what he can not help in his nature you account a vice in him </s> <s> you must in no way say he is covetous </s> <s> first citizen if i must not i need not be barren of accusations he hath faults with surplus to tire in repetition </s> <s> what shouts are these </s> <s> the other side o the city is risen why stay we prating here </s> <s> to the capitol </s> <s> all come come </s> <s> first citizen soft </s> <s> who comes here </s> <s> second citizen worthy menenius agrippa one that hath always loved the people </s> <s> first citizen he s one honest enough would all the rest were so </s> <s> menenius what work s my countrymen in hand </s> <s> where go you with bats and clubs </s> <s> the matter </s> <s> speak i pray you </s> <s> first citizen our business is not unknown to the senate they have had inkling this fortnight what we intend to do which now we ll show em in deeds </s> <s> they say poor suitors have strong breaths they shall know we have strong arms too </s> <s> menenius why masters my good friends mine honest neighbours will you undo yourselves </s> <s> first citizen we can not sir we are undone already </s> <s> menenius i tell you friends most charitable care have the patricians of you </s> <s> for your wants your suffering in this dearth you may as well strike at the heaven with your staves as lift them against the roman state whose course will on the way it takes cracking ten thousand curbs of more strong link asunder than can ever appear in your impediment </s> <s> for the dearth the gods not the patricians make it and your knees to them not arms must help </s> <s> alack you are transported by calamity thither where more attends you and you slander the helms o the state who care for you like fathers when you curse them as enemies </s> <s> first citizen care for us </s> <s> true indeed </s> <s> they ne er cared for us yet suffer us to famish and their storehouses crammed with grain make edicts for usury to support usurers repeal daily any wholesome act established against the rich and provide more piercing statutes daily to chain up and restrain the poor </s> <s> if the wars eat us not up they will and there s all the love they bear us </s> <s> menenius either you must confess yourselves wondrous malicious or be accused of folly </s> <s> i shall tell you a pretty tale it may be you have heard it but since it serves my purpose i will venture to stale t a little more </s> <s> first citizen well i ll hear it sir yet you must not think to fob off our disgrace with a tale but an t please you deliver </s> <s> menenius there was a time when all the body s members rebell d against the belly thus accused it that only like a gulf it did remain i the midst o the body idle and unactive still cupboarding the viand never bearing like labour with the rest where the other instruments did see and hear devise instruct walk feel and mutually participate did minister unto the appetite and affection common of the whole body </s> <s> the belly answer d first citizen well sir what answer made the belly </s> <s> menenius sir i shall tell you </s> <s> with a kind of smile which ne er came from the lungs but even thus for look you i may make the belly smile as well as speakit tauntingly replied to the discontented members the mutinous parts that envied his receipt even so most fitly as you malign our senators for that they are not such as you </s> <s> first citizen your belly s answer </s> <s>'"
            ]
          },
          "metadata": {},
          "execution_count": 17
        }
      ]
    },
    {
      "cell_type": "markdown",
      "metadata": {
        "id": "m7FEwRuO6og0"
      },
      "source": [
        "## Custom ngram model"
      ]
    },
    {
      "cell_type": "markdown",
      "metadata": {
        "id": "hCcHNlMEFaZP"
      },
      "source": [
        "Base class for the model."
      ]
    },
    {
      "cell_type": "code",
      "execution_count": null,
      "metadata": {
        "id": "Aki99FguaeN9"
      },
      "outputs": [],
      "source": [
        "class BaseLM:\n",
        "  def _check_fit(func):\n",
        "      \"\"\"\n",
        "      A helper decorator that ensures that the LM was fit on vocab.\n",
        "      \"\"\"\n",
        "      @wraps(func)\n",
        "      def wrapper(self,*args,**kwargs):\n",
        "          if not self.is_fitted:\n",
        "              raise AttributeError(f\"Fit model before call {func.__name__} method\")\n",
        "          return func(self, *args,**kwargs)\n",
        "      return wrapper\n",
        "\n",
        "  def __init__(self, \n",
        "               n: int, \n",
        "               vocab: Iterable[str] = None, \n",
        "               unk_label: str = \"<UNK>\"\n",
        "              ):\n",
        "      \"\"\"\n",
        "      Language model constructor\n",
        "      n -- n-gram size\n",
        "      vocab -- optional fixed vocabulary for the model\n",
        "      unk_label -- special token that stands in for so-called \"unknown\" items\n",
        "      \"\"\"\n",
        "      self.n = n\n",
        "      self._vocab = vocab if vocab else None\n",
        "      self.unk_label = unk_label\n",
        "      self.is_fitted = False\n",
        "      \n",
        "      self._contexts_freqs = {}\n",
        "      self._n_grams_freqs = {}\n",
        "      self._ngram_probs = {}\n",
        "      self._ngram_probs_with_smoothing = {}\n",
        "\n",
        "  def _lookup(self, \n",
        "              words: Union[str, Iterable[str]]\n",
        "             ) -> Union[str, Tuple[str]]:\n",
        "      \"\"\"\n",
        "      Look ups words in the vocabulary\n",
        "      \"\"\"        \n",
        "      if isinstance(words, str):\n",
        "          return words if words in self._vocab\n",
        "\n",
        "      if isinstance(words, Iterable):\n",
        "          return [word for word in words if word in self._vocab]\n",
        "      \n",
        "      raise ValueError\n",
        "      \n",
        "\n",
        "  @_check_fit\n",
        "  def prob(self, \n",
        "           word: str, \n",
        "           context: Tuple[str] = None\n",
        "          ) -> float:\n",
        "      \"\"\"\n",
        "      This method returns probability of a word with given context: P(w_t | w_{t - 1}...w_{t - n + 1})\n",
        "\n",
        "      For example:\n",
        "      >>> lm.prob('hello', context=('world',))\n",
        "      0.99988\n",
        "      \"\"\"\n",
        "      if not isinstance(word, str) or not isinstance(context, tuple):\n",
        "          raise ValueError\n",
        "\n",
        "      return self._n_grams_freqs[(context, word)] / self._contexts_freqs[context]\n",
        "\n",
        "  def prob_with_smoothing(self, \n",
        "                          word: str, \n",
        "                          context: Tuple[str] = None, \n",
        "                          alpha: float = 1.0\n",
        "                          ) -> float:\n",
        "      \"\"\"\n",
        "      Proabaility with Additive smoothing\n",
        "\n",
        "      see: https://en.wikipedia.org/wiki/Additive_smoothing\n",
        "      where:\n",
        "      x - count of word in context\n",
        "      N - total\n",
        "      d - vocab size\n",
        "      a - alpha\n",
        "\n",
        "      \"\"\"\n",
        "      n_gram_freq = self._n_grams_freqs[(context, word)]\n",
        "      context_freq = self._contexts_freqs[context]\n",
        "      return (n_gram_freq + alpha) / (context_freq + alpha * len(self._vocab))\n",
        "      \n",
        "  def _find_variants(self, \n",
        "                     context:Iterable,\n",
        "                     prob: str,\n",
        "                     k: int) -> list:\n",
        "    \"\"\"\n",
        "    This method finds possible n_grams based on the givn context\n",
        "    \"\"\"\n",
        "    variants = []\n",
        "    prob = self._ngram_probs if prob == 'prob' else self._ngram_probs_with_smoothing\n",
        "      \n",
        "    while not variants:\n",
        "        variants = [(n_gram, prob[n_gram]) for n_gram in self._ngram_probs if n_gram[0][-k:] == context]\n",
        "        k -= 1\n",
        "        if k == 0:\n",
        "            k = -self.n # context becomes () and all n-grams become variants\n",
        "                        # (as context () is contained in all n_grams)\n",
        "        context = context[1:]\n",
        "    return variants\n",
        "\n",
        "  @_check_fit\n",
        "  def generate(self, \n",
        "               text_length: int, \n",
        "               text_seed: Iterable[str] = None,\n",
        "               random_seed: Union[int, random.Random] = 42,\n",
        "               prob_method: str = 'prob'\n",
        "              ) -> List[str]:\n",
        "    \"\"\"\n",
        "    This method generates text of a given length. \n",
        "\n",
        "    text_length: int -- Length for the output text including `text_seed`.\n",
        "    text_seed: List[str] -- Given text to calculate probas for next words.\n",
        "    prob_method: str -- Specifies what method to use: with or without smoothing.\n",
        "\n",
        "    For example\n",
        "    >>> lm.generate(2)\n",
        "    [\"hello\", \"world\"]\n",
        "\n",
        "    \"\"\"\n",
        "    random.seed(random_seed)\n",
        "\n",
        "    if not isinstance(text_length, int) or \\\n",
        "            (text_seed and not isinstance(text_seed, Iterable)):\n",
        "        raise ValueError\n",
        "          \n",
        "    if text_seed is None:\n",
        "      context_counts = sum(self._contexts_freqs.values())\n",
        "      weights = [con_freq / context_counts for con_freq in self._contexts_freqs.values()]\n",
        "      contexts = list(self._contexts_freqs.keys())\n",
        "\n",
        "      context = random.choices(contexts, weights=weights)\n",
        "      text_seed = context[0]\n",
        "\n",
        "    if prob_method not in ['prob', 'prob_with_smoothing']:\n",
        "      raise NotImplementedError\n",
        "  \n",
        "    text = list(text_seed)\n",
        "    k = self.n - 1\n",
        "\n",
        "    while text_length > len(text):\n",
        "        context = tuple(text[-k:])\n",
        "        variants = self._find_variants(context, prob_method, k)\n",
        "        choice = random.choices(variants, weights=[v[1] for v in variants])[0]\n",
        "        text.append(choice[0][1])\n",
        "        \n",
        "    return text\n",
        "      \n",
        "  def update_vocab(self, \n",
        "                   sequence_of_tokens: Iterable[str]\n",
        "                  ):\n",
        "    \"\"\"\n",
        "    This method adds tokens from the sequence to self._vocab if it is not\n",
        "    preseted there\n",
        "    \"\"\"\n",
        "    if not self._vocab:\n",
        "        self._vocab = []\n",
        "    for token in sequence_of_tokens:\n",
        "        if not self._lookup(token):\n",
        "            self._vocab.append(token)\n",
        "      \n",
        "  def _check_unk_label_in_vocab(self):\n",
        "    \"\"\"\n",
        "    This method adds unknown label to self._vocab if it is not presented there\n",
        "    \"\"\"\n",
        "    if not self._lookup(self.unk_label):\n",
        "        self._vocab.append(self.unk_label)\n",
        "  \n",
        "  def _label_unk_tokens(self, \n",
        "                        sequence_of_tokens: Iterable[str]\n",
        "                        ) -> List[str]:\n",
        "    \"\"\"\n",
        "    This method labels words which are not contained in self._vocab as self.ink_label\n",
        "    \"\"\"\n",
        "    return [token if self._lookup(token) else self.unk_label for token in sequence_of_tokens]\n",
        "  \n",
        "  def _create_ngrams(self, \n",
        "                      sequence: Iterable[str]\n",
        "                    ) -> List[tuple]:\n",
        "    \"\"\"\n",
        "    This method creates list of n_grams based on the given sequence\n",
        "    return: [(context, target_word)]\n",
        "    \"\"\"\n",
        "    n = self.n\n",
        "    return [(tuple(sequence[i:i+n-1]), sequence[i+n-1]) for i in range(len(sequence)-n)]\n",
        "  \n",
        "  def _count_n_grams_freqs(self, \n",
        "                            n_grams: Iterable[tuple]\n",
        "                          ):\n",
        "    \"\"\"\n",
        "    This method counts frequencies of n-grams\n",
        "    \"\"\"\n",
        "    for n_gram in n_grams:\n",
        "      self._n_grams_freqs[n_gram] = self._n_grams_freqs.get(n_gram, 0) + 1\n",
        "  \n",
        "  def _count_contexts_freqs(self, \n",
        "                            n_grams: Iterable[tuple]\n",
        "                           ):\n",
        "    \"\"\"\n",
        "    This method counts frequencies of contexts (i.e. n_gram without the last word)\n",
        "    \"\"\"\n",
        "    contexts = [n_gram[0] for n_gram in n_grams]\n",
        "    for context in contexts:\n",
        "        self._contexts_freqs[context] = self._contexts_freqs.get(context, 0) + 1\n",
        "          \n",
        "  def _calculate_n_grams_probs(self):\n",
        "    \"\"\"\n",
        "    This method calculates probabilities (with and without smoothing)\n",
        "    of n-grams based on self._n_grams_freqs\n",
        "    \"\"\"\n",
        "    for n_gram in self._n_grams_freqs:\n",
        "      context, target_word = n_gram[0], n_gram[1]\n",
        "      self._ngram_probs[n_gram] = self.prob(target_word, context)\n",
        "      self._ngram_probs_with_smoothing[n_gram] = self.prob_with_smoothing(target_word, \n",
        "                                                                          context)\n",
        "\n",
        "  def fit(self, \n",
        "          sequence_of_tokens: Iterable[str]\n",
        "         ):\n",
        "      \"\"\"\n",
        "      This method learns probabilities based on given sequence of tokens and\n",
        "      updates `self.vocab`.\n",
        "\n",
        "      sequence_of_tokens -- iterable of tokens\n",
        "\n",
        "      For example\n",
        "      >>> lm.update(['hello', 'world'])\n",
        "      \"\"\"      \n",
        "      if self._vocab:\n",
        "          self._check_unk_label_in_vocab()\n",
        "          sequence_of_tokens = self._label_unk_tokens(sequence_of_tokens)\n",
        "      else:\n",
        "          self.update_vocab(sequence_of_tokens)\n",
        "\n",
        "      n_grams = self._create_ngrams(sequence_of_tokens)\n",
        "      self._count_n_grams_freqs(n_grams)\n",
        "      self._count_contexts_freqs(n_grams)\n",
        "      self.is_fitted = True\n",
        "      self._calculate_n_grams_probs()\n",
        "      \n",
        "  @_check_fit  \n",
        "  def perplexity(self, \n",
        "                 sequence_of_tokens: Union[Iterable[str], Iterable[Tuple[str]]]\n",
        "                 ) -> float:\n",
        "      \"\"\"\n",
        "      This method returns perplexity for a given sequence of tokens\n",
        "\n",
        "      sequence_of_tokens -- iterable of tokens\n",
        "      \"\"\"\n",
        "      probs = []\n",
        "      \n",
        "      for i in range(self.n, len(sequence_of_tokens)+1):\n",
        "        n_gram = (tuple(sequence_of_tokens[i-self.n:i-1]), sequence_of_tokens[i-1])\n",
        "        probs.append(self._ngram_probs_with_smoothing.get(n_gram, 0))\n",
        "      if 0 in probs:\n",
        "        return math.inf\n",
        "      \n",
        "      return reduce(lambda x, y: x*y, probs) ** (-1/ len(probs))\n"
      ]
    },
    {
      "cell_type": "code",
      "execution_count": null,
      "metadata": {
        "colab": {
          "base_uri": "https://localhost:8080/"
        },
        "id": "6yLWY4NyLcfY",
        "outputId": "112300e6-ecfa-44d0-9b43-6b5fcf61076a"
      },
      "outputs": [
        {
          "output_type": "stream",
          "name": "stdout",
          "text": [
            "Model based on 2-grams\n",
            "Perplexity of \"first citizen\" 385.0967741935484\n",
            "30-tokens-long text beginning with \"we ll\":\n",
            "we ll question asked her face if heaven must have all the points of his own to time </s> <s> talbot sir see her brow to parley of the world\n",
            "Perplexity: 1408.9339333505075\n",
            "--------------------\n",
            "50-tokens-long text with empty text_seed:\n",
            "wise and wrath and means your main </s> <s> second lord i must be she weeps for her parentage of drops </s> <s> he carried away </s> <s> sands i hold upto a massy as on speedy scouts </s> <s> edgar i the bowels of a mile before our entrance\n",
            "Perplexity: 1476.3315468827705\n"
          ]
        }
      ],
      "source": [
        "print('Model based on 2-grams')\n",
        "text_generator = BaseLM(2)\n",
        "text_generator.fit(prep_text)\n",
        "print('Perplexity of \"first citizen\"', text_generator.perplexity(['first', 'citizen']))\n",
        "gen_text = text_generator.generate(30, ['we', 'll'], prob_method='prob_with_smoothing')\n",
        "print('30-tokens-long text beginning with \"we ll\":', ' '.join(gen_text), sep='\\n')\n",
        "text_generator.perplexity(gen_text)\n",
        "print('Perplexity:', text_generator.perplexity(gen_text))\n",
        "print('--------------------')\n",
        "gen_text = text_generator.generate(50, prob_method='prob_with_smoothing')\n",
        "print('50-tokens-long text with empty text_seed:', ' '.join(gen_text), sep='\\n')\n",
        "print('Perplexity:', text_generator.perplexity(gen_text))"
      ]
    },
    {
      "cell_type": "code",
      "source": [
        "print('Model based on 3-grams')\n",
        "text_generator = BaseLM(3)\n",
        "text_generator.fit(prep_text)\n",
        "print('Perplexity of \"first citizen\"', text_generator.perplexity(['first', 'citizen', 'll']))\n",
        "gen_text = text_generator.generate(30, ['we', 'll'], prob_method='prob_with_smoothing')\n",
        "print('30-tokens-long text beginning with \"we ll\":', ' '.join(gen_text), sep='\\n')\n",
        "text_generator.perplexity(gen_text)\n",
        "print('Perplexity:', text_generator.perplexity(gen_text))\n",
        "print('--------------------')\n",
        "gen_text = text_generator.generate(50, prob_method='prob_with_smoothing')\n",
        "print('50-tokens-long text with empty text_seed:', ' '.join(gen_text), sep='\\n')\n",
        "print('Perplexity:', text_generator.perplexity(gen_text))"
      ],
      "metadata": {
        "colab": {
          "base_uri": "https://localhost:8080/"
        },
        "id": "Ar8uHD1yBWq7",
        "outputId": "5feb18d9-6126-41a7-f014-b2533f25ca4e"
      },
      "execution_count": null,
      "outputs": [
        {
          "output_type": "stream",
          "name": "stdout",
          "text": [
            "Model based on 3-grams\n",
            "Perplexity of \"first citizen\" inf\n",
            "30-tokens-long text beginning with \"we ll\":\n",
            "we ll bring him in the wild and yet his pride and salt that season a man there s meaning in his motion </s> <s> he could not believe them\n",
            "Perplexity: 6905.567270370031\n",
            "--------------------\n",
            "50-tokens-long text with empty text_seed:\n",
            "thing yea a very doleful tune how a jest </s> <s> a health </s> <s> carry them and show what s come from pisa and is tybalt </s> <s> sands sir thomas </s> <s> hamlet it is casca one incorporate to our noble acceptance of them all </s> <s> hortensio\n",
            "Perplexity: 6405.953628877228\n"
          ]
        }
      ]
    },
    {
      "cell_type": "markdown",
      "metadata": {
        "id": "DZBhPJMwLcfb"
      },
      "source": [
        "## neural network model for text generation "
      ]
    },
    {
      "cell_type": "code",
      "execution_count": null,
      "metadata": {
        "id": "toFwdNP8Lcfc"
      },
      "outputs": [],
      "source": [
        "class Encoder:\n",
        "    def __init__(self):\n",
        "        self.encode_storage = {}\n",
        "        self.decode_storage = {}\n",
        "        self.is_fitted = False\n",
        "        \n",
        "    def _check_fit(func):\n",
        "        \"\"\"\n",
        "        A helper decorator that ensures that the LM was fit on vocab.\n",
        "        \"\"\"\n",
        "        @wraps(func)\n",
        "        def wrapper(self,*args,**kwargs):\n",
        "            if not self.is_fitted:\n",
        "                raise AttributeError(f\"Fit model before call {func.__name__} method\")\n",
        "            return func(self, *args,**kwargs)\n",
        "        return wrapper\n",
        "        \n",
        "    def fit(self, \n",
        "            sequence: Iterable[str]\n",
        "           ):\n",
        "      \"\"\"\n",
        "      This methods fills up the storages\n",
        "      \"\"\"\n",
        "      for token in sequence:\n",
        "        try:\n",
        "            self.encode_storage[token]\n",
        "        except KeyError:\n",
        "            token_id = len(self.encode_storage)\n",
        "            self.encode_storage[token] = token_id\n",
        "            self.decode_storage[token_id] = token\n",
        "      self.is_fitted = True\n",
        "      \n",
        "    @_check_fit\n",
        "    def encode(self, \n",
        "               sequence: Iterable[str]\n",
        "              ):\n",
        "      \"\"\"\n",
        "      This method encodes sequence of strings based on the storage\n",
        "      \"\"\"\n",
        "      return np.array([self.encode_storage[token] for token in sequence])\n",
        "    \n",
        "    @_check_fit\n",
        "    def decode(self,\n",
        "               sequence: Iterable[int]\n",
        "               ):\n",
        "      \"\"\"\n",
        "      This method decodes sequence of strings based on the storage\n",
        "      \"\"\"\n",
        "      return np.array([self.decode_storage[token_id] for token_id in sequence])"
      ]
    },
    {
      "cell_type": "code",
      "source": [
        "class NeuroGen:\n",
        "  def __init__(self,\n",
        "               n: int=2\n",
        "              ):\n",
        "    self.n = n\n",
        "\n",
        "    self._encoder = Encoder()\n",
        "    self._vocab_size = len(self._encoder.encode_storage)\n",
        "    self._net = None\n",
        "\n",
        "  def _build_model(self):\n",
        "    model = Sequential()\n",
        "    model.add(Embedding(self._vocab_size, 10, input_length=1))\n",
        "    model.add(LSTM(50))\n",
        "    model.add(Dense(self._vocab_size, activation='softmax'))\n",
        "    model.compile(loss='categorical_crossentropy', optimizer='adam')\n",
        "\n",
        "    return model\n",
        "  \n",
        "  def _update_vocab_size(self):\n",
        "    \"\"\"\n",
        "    This method updates vocabulary size after data preparation\n",
        "    \"\"\"\n",
        "    self._vocab_size = len(self._encoder.encode_storage)\n",
        "\n",
        "  def _create_ngrams(self, \n",
        "                     encoded_text: Iterable\n",
        "                    ):\n",
        "    \"\"\"\n",
        "    This method creates n_grams after based on encoded text\n",
        "    \"\"\"\n",
        "    n_grams = [encoded_text[i:i+self.n] for i in range(len(encoded_text)-self.n)]\n",
        "    return np.array(n_grams)\n",
        "  \n",
        "  def _prepare_data(self, \n",
        "                    text: Iterable[str]\n",
        "                   ):\n",
        "    \"\"\"\n",
        "    This method prepares the textual data for the net input\n",
        "    \"\"\"\n",
        "    self._encoder.fit(text)\n",
        "    self._update_vocab_size()\n",
        "\n",
        "    encoded_text = self._encoder.encode(text)\n",
        "    encoded_ngrams = self._create_ngrams(encoded_text)\n",
        "    X, y = encoded_ngrams[:, :-1], to_categorical(encoded_ngrams[:, -1])\n",
        "\n",
        "    return X, y\n",
        "  \n",
        "  def fit(self, \n",
        "          text: Iterable[str]\n",
        "         ):\n",
        "    \"\"\"\n",
        "    This method prepares the textual data and fits the net\n",
        "    \"\"\"\n",
        "    X, y = self._prepare_data(text)\n",
        "    self._net = self._build_model()\n",
        "    self._net.fit(X, y, epochs=10, verbose=2)\n",
        "\n",
        "  def _encode_text_seed(self, \n",
        "                        text_seed: str):\n",
        "    \"\"\"\n",
        "    This method creates text_seed if it is not given and encodes it.\n",
        "    \"\"\"\n",
        "    if text_seed is None:\n",
        "      return random.choices(self._encoder.encode_storage.keys(),\n",
        "                            k=self.n-1)\n",
        "    \n",
        "    return self._encoder.encode(text_seed)\n",
        "\n",
        "  def generate(self,\n",
        "               text_seed: Iterable[str],\n",
        "               text_len: int = 10):\n",
        "\n",
        "    text = list(self._encode_text_seed(text_seed))\n",
        "    k = self.n - 1 \n",
        "    context = text[-k:]\n",
        "\n",
        "    while len(text) < text_len:\n",
        "      pred = self._net.predict(pad_sequences([context], maxlen=k, padding='pre')) \n",
        "      word = np.argmax(pred)\n",
        "      text.append(word)\n",
        "      context = text[-k:]\n",
        "\n",
        "    return self._encoder.decode(text)\n"
      ],
      "metadata": {
        "id": "exuso5jZuRc0"
      },
      "execution_count": null,
      "outputs": []
    },
    {
      "cell_type": "code",
      "execution_count": null,
      "metadata": {
        "id": "-hbQ-yttLcfd"
      },
      "outputs": [],
      "source": [
        "prep_text_short = prep_text[:200000]"
      ]
    },
    {
      "cell_type": "markdown",
      "source": [
        "I've cut the text down to 200k tokens because if I use the whole text, colab crushes due to lack of RAM :("
      ],
      "metadata": {
        "id": "GWVGSxNyUZKy"
      }
    },
    {
      "cell_type": "code",
      "execution_count": null,
      "metadata": {
        "id": "KQxy2eEfLcfd",
        "colab": {
          "base_uri": "https://localhost:8080/"
        },
        "outputId": "9f9d7b18-b3fe-49c4-d261-c4d5d533b0a5"
      },
      "outputs": [
        {
          "output_type": "stream",
          "name": "stdout",
          "text": [
            "Neuronet based on 2-grams\n",
            "Epoch 1/10\n",
            "6250/6250 - 65s - loss: 6.3001 - 65s/epoch - 10ms/step\n",
            "Epoch 2/10\n",
            "6250/6250 - 64s - loss: 5.8099 - 64s/epoch - 10ms/step\n",
            "Epoch 3/10\n",
            "6250/6250 - 62s - loss: 5.5630 - 62s/epoch - 10ms/step\n",
            "Epoch 4/10\n",
            "6250/6250 - 62s - loss: 5.4351 - 62s/epoch - 10ms/step\n",
            "Epoch 5/10\n",
            "6250/6250 - 60s - loss: 5.3481 - 60s/epoch - 10ms/step\n",
            "Epoch 6/10\n",
            "6250/6250 - 61s - loss: 5.2797 - 61s/epoch - 10ms/step\n",
            "Epoch 7/10\n",
            "6250/6250 - 65s - loss: 5.2235 - 65s/epoch - 10ms/step\n",
            "Epoch 8/10\n",
            "6250/6250 - 66s - loss: 5.1746 - 66s/epoch - 11ms/step\n",
            "Epoch 9/10\n",
            "6250/6250 - 66s - loss: 5.1328 - 66s/epoch - 10ms/step\n",
            "Epoch 10/10\n",
            "6250/6250 - 69s - loss: 5.0956 - 69s/epoch - 11ms/step\n"
          ]
        }
      ],
      "source": [
        "print('Neuronet based on 2-grams')\n",
        "neuro_gen = NeuroGen()\n",
        "neuro_gen.fit(prep_text_short)"
      ]
    },
    {
      "cell_type": "code",
      "source": [
        "# 2-grams after 10 epochs\n",
        "neuro_gen_text = neuro_gen.generate(['mother', 'll'], 30)\n",
        "print('30-tokens-long text with \"mother ll\" beginning:\\n', ' '.join(neuro_gen_text))\n",
        "gen.perplexity(neuro_gen_text)\n",
        "print('Perplexity:', gen.perplexity(neuro_gen_text))"
      ],
      "metadata": {
        "colab": {
          "base_uri": "https://localhost:8080/"
        },
        "id": "y3y6C7W0VecY",
        "outputId": "992c4470-2db7-4aa4-89d3-22c51ffa9305"
      },
      "execution_count": null,
      "outputs": [
        {
          "output_type": "stream",
          "name": "stdout",
          "text": [
            "30-tokens-long text with \"mother ll\" beginning:\n",
            " mother ll be a man </s> <s> king richard iii i am a man </s> <s> king richard iii i am a man </s> <s> king richard iii i am\n",
            "Perplexity: inf\n"
          ]
        }
      ]
    },
    {
      "cell_type": "markdown",
      "source": [
        "Result of 2-grams after 30 epochs"
      ],
      "metadata": {
        "id": "kTz20f8tuvog"
      }
    },
    {
      "cell_type": "markdown",
      "source": [
        "![2021-12-11_12-00-51.png](data:image/png;base64,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)"
      ],
      "metadata": {
        "id": "5vyhccyXu2_G"
      }
    },
    {
      "cell_type": "code",
      "source": [
        "# 3-grams after 10 epochs\n",
        "print('Neuronet based on 3-grams')\n",
        "neuro_gen = NeuroGen(n=3)\n",
        "neuro_gen.fit(prep_text_short)\n",
        "neuro_gen_text = neuro_gen.generate(['mother', 'll'], 30)\n",
        "print('30-tokens-long text with \"mother ll\" beginning:\\n', ' '.join(neuro_gen_text))\n",
        "gen.perplexity(neuro_gen_text)\n",
        "print('Perplexity:', gen.perplexity(neuro_gen_text))"
      ],
      "metadata": {
        "colab": {
          "base_uri": "https://localhost:8080/"
        },
        "id": "pxmcpLn9RS0G",
        "outputId": "8c97f32c-3f91-4014-e5bb-a7be0815ae65"
      },
      "execution_count": null,
      "outputs": [
        {
          "output_type": "stream",
          "name": "stdout",
          "text": [
            "Neuronet based on 3-grams\n",
            "Epoch 1/10\n",
            "WARNING:tensorflow:Model was constructed with shape (None, 1) for input KerasTensor(type_spec=TensorSpec(shape=(None, 1), dtype=tf.float32, name='embedding_1_input'), name='embedding_1_input', description=\"created by layer 'embedding_1_input'\"), but it was called on an input with incompatible shape (None, 2).\n",
            "WARNING:tensorflow:Model was constructed with shape (None, 1) for input KerasTensor(type_spec=TensorSpec(shape=(None, 1), dtype=tf.float32, name='embedding_1_input'), name='embedding_1_input', description=\"created by layer 'embedding_1_input'\"), but it was called on an input with incompatible shape (None, 2).\n",
            "6250/6250 - 68s - loss: 6.2470 - 68s/epoch - 11ms/step\n",
            "Epoch 2/10\n",
            "6250/6250 - 69s - loss: 5.7541 - 69s/epoch - 11ms/step\n",
            "Epoch 3/10\n",
            "6250/6250 - 66s - loss: 5.5081 - 66s/epoch - 11ms/step\n",
            "Epoch 4/10\n",
            "6250/6250 - 66s - loss: 5.3590 - 66s/epoch - 10ms/step\n",
            "Epoch 5/10\n",
            "6250/6250 - 66s - loss: 5.2431 - 66s/epoch - 11ms/step\n",
            "Epoch 6/10\n",
            "6250/6250 - 68s - loss: 5.1511 - 68s/epoch - 11ms/step\n",
            "Epoch 7/10\n",
            "6250/6250 - 67s - loss: 5.0727 - 67s/epoch - 11ms/step\n",
            "Epoch 8/10\n",
            "6250/6250 - 66s - loss: 5.0066 - 66s/epoch - 10ms/step\n",
            "Epoch 9/10\n",
            "6250/6250 - 66s - loss: 4.9496 - 66s/epoch - 11ms/step\n",
            "Epoch 10/10\n",
            "6250/6250 - 67s - loss: 4.8976 - 67s/epoch - 11ms/step\n",
            "WARNING:tensorflow:Model was constructed with shape (None, 1) for input KerasTensor(type_spec=TensorSpec(shape=(None, 1), dtype=tf.float32, name='embedding_1_input'), name='embedding_1_input', description=\"created by layer 'embedding_1_input'\"), but it was called on an input with incompatible shape (None, 2).\n",
            "30-tokens-long text with \"mother ll\" beginning:\n",
            " mother ll be a man </s> <s> i am a man </s> <s> i am a man </s> <s> i am a man </s> <s> i am a man </s>\n",
            "Perplexity: inf\n"
          ]
        }
      ]
    },
    {
      "cell_type": "markdown",
      "source": [
        "### Comparison\n",
        "\n",
        "So, after observing  sentences generated by n-gram-model and Neuronet-model, I can assume that n-grams managed the task much better and was fitted much faster than neuronet. N-gram model's sentences are more creative and \"natural\", but still have not so much sense. 3-grams model is able to create longer syntactic correct sequences of words that can be easily understood bu a human.\n",
        "\n",
        "Maybe, such an unsatisfied performance of the net could be connected with the amount of data used and/or with the low complexity of the net, but as far as I understood Building complex deep net was not the point of the task.\n"
      ],
      "metadata": {
        "id": "Vd8gq_ScAjQx"
      }
    },
    {
      "cell_type": "markdown",
      "source": [
        "### Character level for generating"
      ],
      "metadata": {
        "id": "DfHCCiftCcrh"
      }
    },
    {
      "cell_type": "markdown",
      "source": [
        "I would also examine n-gram model on character level."
      ],
      "metadata": {
        "id": "fhHO_Il3CmBV"
      }
    },
    {
      "cell_type": "code",
      "source": [
        "def convert_tokens_to_characters(tokens: List[str]) -> List[str]:\n",
        "  characters_list = []\n",
        "  for token in tokens:\n",
        "    if token not in ['<s>', '</s>']:\n",
        "      for char in token:\n",
        "        characters_list.append(char)\n",
        "      characters_list.append(' ')\n",
        "    else:\n",
        "      characters_list.append(token)\n",
        "  return characters_list"
      ],
      "metadata": {
        "id": "sL7B_MQXCz2s"
      },
      "execution_count": null,
      "outputs": []
    },
    {
      "cell_type": "code",
      "source": [
        "prep_chars = convert_tokens_to_characters(prep_text)"
      ],
      "metadata": {
        "id": "PmHD3kVhEkRq"
      },
      "execution_count": null,
      "outputs": []
    },
    {
      "cell_type": "code",
      "source": [
        "print('Model based on 4-grams')\n",
        "char_gen = BaseLM(4)\n",
        "char_gen.fit(prep_chars)\n",
        "\n",
        "print('Perplexity of \"we ll\":', char_gen.perplexity(['w', 'e', ' ', 'l', 'l']))\n",
        "\n",
        "gen_text = char_gen.generate(100, ['w', 'e'], prob_method='prob_with_smoothing')\n",
        "print('100-chars-long text beginning with \"we\":', ''.join(gen_text), sep='\\n')\n",
        "char_gen.perplexity(gen_text)\n",
        "print('Perplexity:', char_gen.perplexity(gen_text))\n",
        "print('--------------------')\n",
        "\n",
        "gen_text = char_gen.generate(100, prob_method='prob_with_smoothing')\n",
        "print('100-chars-long text with empty text_seed:', ''.join(gen_text), sep='\\n')\n",
        "print('Perplexity:', char_gen.perplexity(gen_text))"
      ],
      "metadata": {
        "colab": {
          "base_uri": "https://localhost:8080/"
        },
        "id": "Z5IJil0GIfhS",
        "outputId": "1f483d02-2284-431c-f147-d9baa71e97fe"
      },
      "execution_count": null,
      "outputs": [
        {
          "output_type": "stream",
          "name": "stdout",
          "text": [
            "Model based on 4-grams\n",
            "Perplexity of \"we ll\": 9.535800633090133\n",
            "100-chars-long text beginning with \"we\":\n",
            "were to and that calmost if thou dorses i can that words and nighter he lish it and abould your macb\n",
            "Perplexity: 3.956769794533862\n",
            "--------------------\n",
            "100-chars-long text with empty text_seed:\n",
            "usation fore </s><s>some had ant thou dorses i can that words and nighter he lish it and abould your macb\n",
            "Perplexity: 4.161217337979212\n"
          ]
        }
      ]
    },
    {
      "cell_type": "markdown",
      "source": [
        "Here, we can see how some words are actually created of the given characters, but only 4 and less character-long words are meaningful. There are even some connections which are correct in terms of syntax, e.g. \"i can\"."
      ],
      "metadata": {
        "id": "vdwMJRAVH4kr"
      }
    },
    {
      "cell_type": "code",
      "source": [
        "print('Model based on 10-grams')\n",
        "char_gen = BaseLM(10)\n",
        "char_gen.fit(prep_chars)\n",
        "\n",
        "print('Perplexity of \"we ll see \":', char_gen.perplexity(['w', 'e', ' ', 'l', 'l', ' ', 's', 'e', 'e', ' ']))\n",
        "\n",
        "gen_text = char_gen.generate(100, ['w', 'e'], prob_method='prob_with_smoothing')\n",
        "\n",
        "print('100-tokens-long text beginning with \"we\":', ''.join(gen_text), sep='\\n')\n",
        "char_gen.perplexity(gen_text)\n",
        "print('Perplexity:', char_gen.perplexity(gen_text))\n",
        "print('--------------------')\n",
        "\n",
        "gen_text = char_gen.generate(100, prob_method='prob_with_smoothing')\n",
        "print('100-tokens-long text with empty text_seed:', ''.join(gen_text), sep='\\n')\n",
        "print('Perplexity:', char_gen.perplexity(gen_text))"
      ],
      "metadata": {
        "colab": {
          "base_uri": "https://localhost:8080/"
        },
        "id": "5QcvOx-BG0vM",
        "outputId": "54f321cf-deef-42a9-d2be-277834c728d5"
      },
      "execution_count": null,
      "outputs": [
        {
          "output_type": "stream",
          "name": "stdout",
          "text": [
            "Model based on 10-grams\n",
            "Perplexity of \"we ll see \": 8.5\n",
            "100-tokens-long text beginning with \"we\":\n",
            "weoec eain madam juliet </s><s>she s born to undo the deed </s><s>o hateful griefs </s><s>for what i hate but think\n",
            "Perplexity: inf\n",
            "--------------------\n",
            "100-tokens-long text with empty text_seed:\n",
            " is one </s><s>macduff i believe him </s><s>duchess of york o illdispersing with interest to try since you cou\n",
            "Perplexity: 8.422469812320847\n"
          ]
        }
      ]
    },
    {
      "cell_type": "markdown",
      "source": [
        "Here, there are longer meaningful words and more and longer syntaсtic connections (\"she s born to\", \"what i hate\", \"i believe him\" etc.)"
      ],
      "metadata": {
        "id": "oRdvMaJRJPMq"
      }
    }
  ],
  "metadata": {
    "colab": {
      "collapsed_sections": [],
      "name": "1_LanguageModels.ipynb",
      "provenance": [],
      "include_colab_link": true
    },
    "kernelspec": {
      "display_name": "Python 3",
      "language": "python",
      "name": "python3"
    },
    "language_info": {
      "codemirror_mode": {
        "name": "ipython",
        "version": 3
      },
      "file_extension": ".py",
      "mimetype": "text/x-python",
      "name": "python",
      "nbconvert_exporter": "python",
      "pygments_lexer": "ipython3",
      "version": "3.8.8"
    }
  },
  "nbformat": 4,
  "nbformat_minor": 0
}