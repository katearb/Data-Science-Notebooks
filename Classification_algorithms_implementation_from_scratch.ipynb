{
  "nbformat": 4,
  "nbformat_minor": 0,
  "metadata": {
    "colab": {
      "name": "Classification algorithms implementation from scratch.ipynb",
      "provenance": [],
      "collapsed_sections": [],
      "authorship_tag": "ABX9TyPO87jUSPgFjKkVPERXurv+",
      "include_colab_link": true
    },
    "kernelspec": {
      "name": "python3",
      "display_name": "Python 3"
    },
    "language_info": {
      "name": "python"
    }
  },
  "cells": [
    {
      "cell_type": "markdown",
      "metadata": {
        "id": "view-in-github",
        "colab_type": "text"
      },
      "source": [
        "<a href=\"https://colab.research.google.com/github/katearb/ipynb-projects/blob/master/Classification_algorithms_implementation_from_scratch.ipynb\" target=\"_parent\"><img src=\"https://colab.research.google.com/assets/colab-badge.svg\" alt=\"Open In Colab\"/></a>"
      ]
    },
    {
      "cell_type": "markdown",
      "source": [
        "This notebook is designed to work out machine learning algorithms by implementing them from scratch.\n",
        "\n",
        "The Titanic dataset was used to test the algorithms."
      ],
      "metadata": {
        "id": "N2kNh6yL3aCD"
      }
    },
    {
      "cell_type": "markdown",
      "source": [
        "**Plan**:\n",
        "1. Data Preprocessing\n",
        "2. Logistic Regression (binary)\n",
        "3. KNN\n",
        "4. Decision Tree (TODO)\n"
      ],
      "metadata": {
        "id": "zJNM8YGZvYSK"
      }
    },
    {
      "cell_type": "markdown",
      "source": [
        "# The Data"
      ],
      "metadata": {
        "id": "JnANjOt55F-y"
      }
    },
    {
      "cell_type": "code",
      "source": [
        "import pandas as pd"
      ],
      "metadata": {
        "id": "41mGKrNY7Hlb"
      },
      "execution_count": null,
      "outputs": []
    },
    {
      "cell_type": "code",
      "execution_count": null,
      "metadata": {
        "id": "98Dmp16C3KxJ"
      },
      "outputs": [],
      "source": [
        "!wget https://github.com/katearb/files/raw/main/titanic_train.csv"
      ]
    },
    {
      "cell_type": "code",
      "source": [
        "data = pd.read_csv('/content/titanic_train.csv')"
      ],
      "metadata": {
        "id": "3aT5FdPP6PIc"
      },
      "execution_count": null,
      "outputs": []
    },
    {
      "cell_type": "code",
      "source": [
        "data"
      ],
      "metadata": {
        "colab": {
          "base_uri": "https://localhost:8080/",
          "height": 423
        },
        "id": "6URZQ4Sq7KaO",
        "outputId": "cae4e24b-1096-4d08-c073-2eb187e223b7"
      },
      "execution_count": null,
      "outputs": [
        {
          "output_type": "execute_result",
          "data": {
            "text/plain": [
              "     PassengerId  Survived  Pclass  \\\n",
              "0              1         0       3   \n",
              "1              2         1       1   \n",
              "2              3         1       3   \n",
              "3              4         1       1   \n",
              "4              5         0       3   \n",
              "..           ...       ...     ...   \n",
              "886          887         0       2   \n",
              "887          888         1       1   \n",
              "888          889         0       3   \n",
              "889          890         1       1   \n",
              "890          891         0       3   \n",
              "\n",
              "                                                  Name     Sex   Age  SibSp  \\\n",
              "0                              Braund, Mr. Owen Harris    male  22.0      1   \n",
              "1    Cumings, Mrs. John Bradley (Florence Briggs Th...  female  38.0      1   \n",
              "2                               Heikkinen, Miss. Laina  female  26.0      0   \n",
              "3         Futrelle, Mrs. Jacques Heath (Lily May Peel)  female  35.0      1   \n",
              "4                             Allen, Mr. William Henry    male  35.0      0   \n",
              "..                                                 ...     ...   ...    ...   \n",
              "886                              Montvila, Rev. Juozas    male  27.0      0   \n",
              "887                       Graham, Miss. Margaret Edith  female  19.0      0   \n",
              "888           Johnston, Miss. Catherine Helen \"Carrie\"  female   NaN      1   \n",
              "889                              Behr, Mr. Karl Howell    male  26.0      0   \n",
              "890                                Dooley, Mr. Patrick    male  32.0      0   \n",
              "\n",
              "     Parch            Ticket     Fare Cabin Embarked  \n",
              "0        0         A/5 21171   7.2500   NaN        S  \n",
              "1        0          PC 17599  71.2833   C85        C  \n",
              "2        0  STON/O2. 3101282   7.9250   NaN        S  \n",
              "3        0            113803  53.1000  C123        S  \n",
              "4        0            373450   8.0500   NaN        S  \n",
              "..     ...               ...      ...   ...      ...  \n",
              "886      0            211536  13.0000   NaN        S  \n",
              "887      0            112053  30.0000   B42        S  \n",
              "888      2        W./C. 6607  23.4500   NaN        S  \n",
              "889      0            111369  30.0000  C148        C  \n",
              "890      0            370376   7.7500   NaN        Q  \n",
              "\n",
              "[891 rows x 12 columns]"
            ],
            "text/html": [
              "\n",
              "  <div id=\"df-4a32683c-c17d-4f86-bcb7-48c0bb62d588\">\n",
              "    <div class=\"colab-df-container\">\n",
              "      <div>\n",
              "<style scoped>\n",
              "    .dataframe tbody tr th:only-of-type {\n",
              "        vertical-align: middle;\n",
              "    }\n",
              "\n",
              "    .dataframe tbody tr th {\n",
              "        vertical-align: top;\n",
              "    }\n",
              "\n",
              "    .dataframe thead th {\n",
              "        text-align: right;\n",
              "    }\n",
              "</style>\n",
              "<table border=\"1\" class=\"dataframe\">\n",
              "  <thead>\n",
              "    <tr style=\"text-align: right;\">\n",
              "      <th></th>\n",
              "      <th>PassengerId</th>\n",
              "      <th>Survived</th>\n",
              "      <th>Pclass</th>\n",
              "      <th>Name</th>\n",
              "      <th>Sex</th>\n",
              "      <th>Age</th>\n",
              "      <th>SibSp</th>\n",
              "      <th>Parch</th>\n",
              "      <th>Ticket</th>\n",
              "      <th>Fare</th>\n",
              "      <th>Cabin</th>\n",
              "      <th>Embarked</th>\n",
              "    </tr>\n",
              "  </thead>\n",
              "  <tbody>\n",
              "    <tr>\n",
              "      <th>0</th>\n",
              "      <td>1</td>\n",
              "      <td>0</td>\n",
              "      <td>3</td>\n",
              "      <td>Braund, Mr. Owen Harris</td>\n",
              "      <td>male</td>\n",
              "      <td>22.0</td>\n",
              "      <td>1</td>\n",
              "      <td>0</td>\n",
              "      <td>A/5 21171</td>\n",
              "      <td>7.2500</td>\n",
              "      <td>NaN</td>\n",
              "      <td>S</td>\n",
              "    </tr>\n",
              "    <tr>\n",
              "      <th>1</th>\n",
              "      <td>2</td>\n",
              "      <td>1</td>\n",
              "      <td>1</td>\n",
              "      <td>Cumings, Mrs. John Bradley (Florence Briggs Th...</td>\n",
              "      <td>female</td>\n",
              "      <td>38.0</td>\n",
              "      <td>1</td>\n",
              "      <td>0</td>\n",
              "      <td>PC 17599</td>\n",
              "      <td>71.2833</td>\n",
              "      <td>C85</td>\n",
              "      <td>C</td>\n",
              "    </tr>\n",
              "    <tr>\n",
              "      <th>2</th>\n",
              "      <td>3</td>\n",
              "      <td>1</td>\n",
              "      <td>3</td>\n",
              "      <td>Heikkinen, Miss. Laina</td>\n",
              "      <td>female</td>\n",
              "      <td>26.0</td>\n",
              "      <td>0</td>\n",
              "      <td>0</td>\n",
              "      <td>STON/O2. 3101282</td>\n",
              "      <td>7.9250</td>\n",
              "      <td>NaN</td>\n",
              "      <td>S</td>\n",
              "    </tr>\n",
              "    <tr>\n",
              "      <th>3</th>\n",
              "      <td>4</td>\n",
              "      <td>1</td>\n",
              "      <td>1</td>\n",
              "      <td>Futrelle, Mrs. Jacques Heath (Lily May Peel)</td>\n",
              "      <td>female</td>\n",
              "      <td>35.0</td>\n",
              "      <td>1</td>\n",
              "      <td>0</td>\n",
              "      <td>113803</td>\n",
              "      <td>53.1000</td>\n",
              "      <td>C123</td>\n",
              "      <td>S</td>\n",
              "    </tr>\n",
              "    <tr>\n",
              "      <th>4</th>\n",
              "      <td>5</td>\n",
              "      <td>0</td>\n",
              "      <td>3</td>\n",
              "      <td>Allen, Mr. William Henry</td>\n",
              "      <td>male</td>\n",
              "      <td>35.0</td>\n",
              "      <td>0</td>\n",
              "      <td>0</td>\n",
              "      <td>373450</td>\n",
              "      <td>8.0500</td>\n",
              "      <td>NaN</td>\n",
              "      <td>S</td>\n",
              "    </tr>\n",
              "    <tr>\n",
              "      <th>...</th>\n",
              "      <td>...</td>\n",
              "      <td>...</td>\n",
              "      <td>...</td>\n",
              "      <td>...</td>\n",
              "      <td>...</td>\n",
              "      <td>...</td>\n",
              "      <td>...</td>\n",
              "      <td>...</td>\n",
              "      <td>...</td>\n",
              "      <td>...</td>\n",
              "      <td>...</td>\n",
              "      <td>...</td>\n",
              "    </tr>\n",
              "    <tr>\n",
              "      <th>886</th>\n",
              "      <td>887</td>\n",
              "      <td>0</td>\n",
              "      <td>2</td>\n",
              "      <td>Montvila, Rev. Juozas</td>\n",
              "      <td>male</td>\n",
              "      <td>27.0</td>\n",
              "      <td>0</td>\n",
              "      <td>0</td>\n",
              "      <td>211536</td>\n",
              "      <td>13.0000</td>\n",
              "      <td>NaN</td>\n",
              "      <td>S</td>\n",
              "    </tr>\n",
              "    <tr>\n",
              "      <th>887</th>\n",
              "      <td>888</td>\n",
              "      <td>1</td>\n",
              "      <td>1</td>\n",
              "      <td>Graham, Miss. Margaret Edith</td>\n",
              "      <td>female</td>\n",
              "      <td>19.0</td>\n",
              "      <td>0</td>\n",
              "      <td>0</td>\n",
              "      <td>112053</td>\n",
              "      <td>30.0000</td>\n",
              "      <td>B42</td>\n",
              "      <td>S</td>\n",
              "    </tr>\n",
              "    <tr>\n",
              "      <th>888</th>\n",
              "      <td>889</td>\n",
              "      <td>0</td>\n",
              "      <td>3</td>\n",
              "      <td>Johnston, Miss. Catherine Helen \"Carrie\"</td>\n",
              "      <td>female</td>\n",
              "      <td>NaN</td>\n",
              "      <td>1</td>\n",
              "      <td>2</td>\n",
              "      <td>W./C. 6607</td>\n",
              "      <td>23.4500</td>\n",
              "      <td>NaN</td>\n",
              "      <td>S</td>\n",
              "    </tr>\n",
              "    <tr>\n",
              "      <th>889</th>\n",
              "      <td>890</td>\n",
              "      <td>1</td>\n",
              "      <td>1</td>\n",
              "      <td>Behr, Mr. Karl Howell</td>\n",
              "      <td>male</td>\n",
              "      <td>26.0</td>\n",
              "      <td>0</td>\n",
              "      <td>0</td>\n",
              "      <td>111369</td>\n",
              "      <td>30.0000</td>\n",
              "      <td>C148</td>\n",
              "      <td>C</td>\n",
              "    </tr>\n",
              "    <tr>\n",
              "      <th>890</th>\n",
              "      <td>891</td>\n",
              "      <td>0</td>\n",
              "      <td>3</td>\n",
              "      <td>Dooley, Mr. Patrick</td>\n",
              "      <td>male</td>\n",
              "      <td>32.0</td>\n",
              "      <td>0</td>\n",
              "      <td>0</td>\n",
              "      <td>370376</td>\n",
              "      <td>7.7500</td>\n",
              "      <td>NaN</td>\n",
              "      <td>Q</td>\n",
              "    </tr>\n",
              "  </tbody>\n",
              "</table>\n",
              "<p>891 rows × 12 columns</p>\n",
              "</div>\n",
              "      <button class=\"colab-df-convert\" onclick=\"convertToInteractive('df-4a32683c-c17d-4f86-bcb7-48c0bb62d588')\"\n",
              "              title=\"Convert this dataframe to an interactive table.\"\n",
              "              style=\"display:none;\">\n",
              "        \n",
              "  <svg xmlns=\"http://www.w3.org/2000/svg\" height=\"24px\"viewBox=\"0 0 24 24\"\n",
              "       width=\"24px\">\n",
              "    <path d=\"M0 0h24v24H0V0z\" fill=\"none\"/>\n",
              "    <path d=\"M18.56 5.44l.94 2.06.94-2.06 2.06-.94-2.06-.94-.94-2.06-.94 2.06-2.06.94zm-11 1L8.5 8.5l.94-2.06 2.06-.94-2.06-.94L8.5 2.5l-.94 2.06-2.06.94zm10 10l.94 2.06.94-2.06 2.06-.94-2.06-.94-.94-2.06-.94 2.06-2.06.94z\"/><path d=\"M17.41 7.96l-1.37-1.37c-.4-.4-.92-.59-1.43-.59-.52 0-1.04.2-1.43.59L10.3 9.45l-7.72 7.72c-.78.78-.78 2.05 0 2.83L4 21.41c.39.39.9.59 1.41.59.51 0 1.02-.2 1.41-.59l7.78-7.78 2.81-2.81c.8-.78.8-2.07 0-2.86zM5.41 20L4 18.59l7.72-7.72 1.47 1.35L5.41 20z\"/>\n",
              "  </svg>\n",
              "      </button>\n",
              "      \n",
              "  <style>\n",
              "    .colab-df-container {\n",
              "      display:flex;\n",
              "      flex-wrap:wrap;\n",
              "      gap: 12px;\n",
              "    }\n",
              "\n",
              "    .colab-df-convert {\n",
              "      background-color: #E8F0FE;\n",
              "      border: none;\n",
              "      border-radius: 50%;\n",
              "      cursor: pointer;\n",
              "      display: none;\n",
              "      fill: #1967D2;\n",
              "      height: 32px;\n",
              "      padding: 0 0 0 0;\n",
              "      width: 32px;\n",
              "    }\n",
              "\n",
              "    .colab-df-convert:hover {\n",
              "      background-color: #E2EBFA;\n",
              "      box-shadow: 0px 1px 2px rgba(60, 64, 67, 0.3), 0px 1px 3px 1px rgba(60, 64, 67, 0.15);\n",
              "      fill: #174EA6;\n",
              "    }\n",
              "\n",
              "    [theme=dark] .colab-df-convert {\n",
              "      background-color: #3B4455;\n",
              "      fill: #D2E3FC;\n",
              "    }\n",
              "\n",
              "    [theme=dark] .colab-df-convert:hover {\n",
              "      background-color: #434B5C;\n",
              "      box-shadow: 0px 1px 3px 1px rgba(0, 0, 0, 0.15);\n",
              "      filter: drop-shadow(0px 1px 2px rgba(0, 0, 0, 0.3));\n",
              "      fill: #FFFFFF;\n",
              "    }\n",
              "  </style>\n",
              "\n",
              "      <script>\n",
              "        const buttonEl =\n",
              "          document.querySelector('#df-4a32683c-c17d-4f86-bcb7-48c0bb62d588 button.colab-df-convert');\n",
              "        buttonEl.style.display =\n",
              "          google.colab.kernel.accessAllowed ? 'block' : 'none';\n",
              "\n",
              "        async function convertToInteractive(key) {\n",
              "          const element = document.querySelector('#df-4a32683c-c17d-4f86-bcb7-48c0bb62d588');\n",
              "          const dataTable =\n",
              "            await google.colab.kernel.invokeFunction('convertToInteractive',\n",
              "                                                     [key], {});\n",
              "          if (!dataTable) return;\n",
              "\n",
              "          const docLinkHtml = 'Like what you see? Visit the ' +\n",
              "            '<a target=\"_blank\" href=https://colab.research.google.com/notebooks/data_table.ipynb>data table notebook</a>'\n",
              "            + ' to learn more about interactive tables.';\n",
              "          element.innerHTML = '';\n",
              "          dataTable['output_type'] = 'display_data';\n",
              "          await google.colab.output.renderOutput(dataTable, element);\n",
              "          const docLink = document.createElement('div');\n",
              "          docLink.innerHTML = docLinkHtml;\n",
              "          element.appendChild(docLink);\n",
              "        }\n",
              "      </script>\n",
              "    </div>\n",
              "  </div>\n",
              "  "
            ]
          },
          "metadata": {},
          "execution_count": 4
        }
      ]
    },
    {
      "cell_type": "code",
      "source": [
        "data.info()"
      ],
      "metadata": {
        "colab": {
          "base_uri": "https://localhost:8080/"
        },
        "id": "oAmKT3f_7LXe",
        "outputId": "16ac49a3-e8da-4dfe-e214-720eead190fe"
      },
      "execution_count": null,
      "outputs": [
        {
          "output_type": "stream",
          "name": "stdout",
          "text": [
            "<class 'pandas.core.frame.DataFrame'>\n",
            "RangeIndex: 891 entries, 0 to 890\n",
            "Data columns (total 12 columns):\n",
            " #   Column       Non-Null Count  Dtype  \n",
            "---  ------       --------------  -----  \n",
            " 0   PassengerId  891 non-null    int64  \n",
            " 1   Survived     891 non-null    int64  \n",
            " 2   Pclass       891 non-null    int64  \n",
            " 3   Name         891 non-null    object \n",
            " 4   Sex          891 non-null    object \n",
            " 5   Age          714 non-null    float64\n",
            " 6   SibSp        891 non-null    int64  \n",
            " 7   Parch        891 non-null    int64  \n",
            " 8   Ticket       891 non-null    object \n",
            " 9   Fare         891 non-null    float64\n",
            " 10  Cabin        204 non-null    object \n",
            " 11  Embarked     889 non-null    object \n",
            "dtypes: float64(2), int64(5), object(5)\n",
            "memory usage: 83.7+ KB\n"
          ]
        }
      ]
    },
    {
      "cell_type": "markdown",
      "source": [
        "## Preparation"
      ],
      "metadata": {
        "id": "Mk-pAjT17Vf-"
      }
    },
    {
      "cell_type": "code",
      "source": [
        "from sklearn.impute import KNNImputer\n",
        "from sklearn.preprocessing import FunctionTransformer, OneHotEncoder\n",
        "from sklearn.compose import ColumnTransformer\n",
        "from sklearn.preprocessing import MinMaxScaler"
      ],
      "metadata": {
        "id": "tBTXcFbZGJgD"
      },
      "execution_count": null,
      "outputs": []
    },
    {
      "cell_type": "code",
      "source": [
        "# reset index\n",
        "data.index = data['PassengerId']"
      ],
      "metadata": {
        "id": "CcuCOTJS7OEc"
      },
      "execution_count": null,
      "outputs": []
    },
    {
      "cell_type": "code",
      "source": [
        "data.drop('PassengerId', inplace=True, axis=1)"
      ],
      "metadata": {
        "id": "_-9K-VsP7etK"
      },
      "execution_count": null,
      "outputs": []
    },
    {
      "cell_type": "code",
      "source": [
        "# count nans\n",
        "data.isnull().sum()"
      ],
      "metadata": {
        "colab": {
          "base_uri": "https://localhost:8080/"
        },
        "id": "1_vhEB6r7odl",
        "outputId": "3829bb18-f2df-4a5e-de59-8991ea941415"
      },
      "execution_count": null,
      "outputs": [
        {
          "output_type": "execute_result",
          "data": {
            "text/plain": [
              "Survived      0\n",
              "Pclass        0\n",
              "Name          0\n",
              "Sex           0\n",
              "Age         177\n",
              "SibSp         0\n",
              "Parch         0\n",
              "Ticket        0\n",
              "Fare          0\n",
              "Cabin       687\n",
              "Embarked      2\n",
              "dtype: int64"
            ]
          },
          "metadata": {},
          "execution_count": 276
        }
      ]
    },
    {
      "cell_type": "code",
      "source": [
        "# feature engineering\n",
        "data['Age_known'] = ~data['Age'].isnull()\n",
        "data['Cabin_known'] = ~data['Cabin'].isnull()"
      ],
      "metadata": {
        "id": "LSsH7yte8EmO"
      },
      "execution_count": null,
      "outputs": []
    },
    {
      "cell_type": "code",
      "source": [
        "# drop some columns\n",
        "data.drop(['Cabin', 'Name', 'Ticket', 'Embarked'], inplace=True, axis=1)"
      ],
      "metadata": {
        "id": "ZJrk5PJc8nGJ"
      },
      "execution_count": null,
      "outputs": []
    },
    {
      "cell_type": "code",
      "source": [
        "# map binary feature\n",
        "sex_map_dict = {'male': 1, \n",
        "           'female': 0}\n",
        "\n",
        "data['Sex'] = data['Sex'].map(sex_map_dict)"
      ],
      "metadata": {
        "id": "mnUnviDR9Cbh"
      },
      "execution_count": null,
      "outputs": []
    },
    {
      "cell_type": "code",
      "source": [
        "# Impute Nans\n",
        "data = pd.DataFrame(KNNImputer().fit_transform(data), columns=data.columns)"
      ],
      "metadata": {
        "id": "-L8I-KkVE3kI"
      },
      "execution_count": null,
      "outputs": []
    },
    {
      "cell_type": "code",
      "source": [
        "X = data.drop('Survived', axis=1)\n",
        "y = data['Survived']"
      ],
      "metadata": {
        "id": "jRL-n-x6KUFn"
      },
      "execution_count": null,
      "outputs": []
    },
    {
      "cell_type": "code",
      "source": [
        "from sklearn.model_selection import train_test_split\n",
        "X_train, X_test, y_train, y_test = train_test_split(X, y,\n",
        "                                                    stratify=y,\n",
        "                                                    test_size=0.33,\n",
        "                                                    shuffle=True)"
      ],
      "metadata": {
        "id": "XHeffYGBrIXa"
      },
      "execution_count": null,
      "outputs": []
    },
    {
      "cell_type": "markdown",
      "source": [
        "# Models"
      ],
      "metadata": {
        "id": "H_Ov3t19GqwO"
      }
    },
    {
      "cell_type": "code",
      "source": [
        "from sklearn.base import BaseEstimator\n",
        "import numpy as np\n",
        "\n",
        "from sklearn.metrics import classification_report\n",
        "\n",
        "import random\n",
        "random.seed(0)"
      ],
      "metadata": {
        "id": "Zyp7Pi0vHmtC"
      },
      "execution_count": null,
      "outputs": []
    },
    {
      "cell_type": "code",
      "source": [
        "import matplotlib.pyplot as plt\n",
        "from IPython.display import clear_output\n",
        "\n",
        "def draw_errors(errors):\n",
        "  plt.clf()\n",
        "  clear_output(wait=True)\n",
        "  plt.ion()\n",
        "  x = list(range(len(errors)))\n",
        "  plt.plot(errors)\n",
        "  plt.title(f'Epoch {len(x)}')\n",
        "  plt.show()"
      ],
      "metadata": {
        "id": "mrY0JvdL7-rQ"
      },
      "execution_count": null,
      "outputs": []
    },
    {
      "cell_type": "markdown",
      "source": [
        "## Logistic regression"
      ],
      "metadata": {
        "id": "B9avDIOLG5AI"
      }
    },
    {
      "cell_type": "markdown",
      "source": [
        "Logistic regression is one of the fundamental algorithms used in machine learning. Logistic Regression predicts the probability of belonging to 0 or 1. It is based on linear equation and sigmoid.\n",
        "\n",
        "Assumptions it requires:\n",
        "1. No multicollinearity\n",
        "2. No outliers\n",
        "\n",
        "Advantages:\n",
        "1. return probabilities\n",
        "2. efficient and fast to train\n",
        "3. Doesn't require large dataset\n",
        "4. Useful for feature importance estimation\n",
        "5. May be modified for multiclass task.\n"
      ],
      "metadata": {
        "id": "rr_mDfjc5GkK"
      }
    },
    {
      "cell_type": "code",
      "source": [
        "from math import exp, sqrt\n",
        "\n",
        "def sigmoid(z):\n",
        "  return 1.0 / (1 + np.exp(-z))\n",
        "\n",
        "class LogisticRegression(BaseEstimator):\n",
        "  def __init__(self, penalty: {'l1', 'l2', 'elasticnet', None}=None,  # type of regularization\n",
        "               C: float=10.0,  # inverse strength of regularization\n",
        "               l1_ratio: float=0.5,  # ratio of l1 regularization\n",
        "               lr: float=0.1,  # learning rate for gradient descend\n",
        "               epochs: int=1,  # number of iteration through data\n",
        "               threshold: float=0.5,  # threshold for making decision on predict\n",
        "               batch_size: int=10):  # number of samples used for 1 gradient descend iteration\n",
        "    self.penalty = penalty\n",
        "    self.C = C\n",
        "    self.lr = lr\n",
        "    self.epochs = epochs\n",
        "    self.threshold = threshold\n",
        "    self.batch_size = batch_size\n",
        "    self.l1_ratio = l1_ratio\n",
        "\n",
        "  def fit(self, X: pd.DataFrame,\n",
        "                y: pd.Series):\n",
        "    '''\n",
        "    This method updates coefficients using gradient descend.\n",
        "    '''\n",
        "    self.coefs = np.array([0.0 for _ in range(X.shape[1]+1)])  # init coefs\n",
        "\n",
        "    epochs_errors = []  # list for accumulating epochs' errors\n",
        "    for epoch in range(self.epochs):\n",
        "      mean_error = []  # collect epoch error\n",
        "\n",
        "      # iterate through dataset\n",
        "      for start in range(0, len(X), self.batch_size): \n",
        "\n",
        "        # 1. get features and labels\n",
        "        features = np.array(X.iloc[start:start +self.batch_size, :])\n",
        "        labels = y[start:start+self.batch_size]\n",
        "\n",
        "        # 2. make predictions of probabilities\n",
        "        predictions = self.predict_proba(features)\n",
        "\n",
        "        # 3. calculate error\n",
        "        error = predictions - labels\n",
        "\n",
        "        # 4. update coefs -- gradient descend iteration\n",
        "        exit = self._update_coefs(features, error)  # gradient descend iteration\n",
        "\n",
        "        if exit == -1:  # if gradient becomes inf\n",
        "          break\n",
        "        \n",
        "        # 5. calculate LogLoss\n",
        "        cost = self._cost_function(labels, predictions)\n",
        "        mean_error.append(cost)\n",
        "\n",
        "      else:  # if break was not triggered\n",
        "        epochs_errors.append(np.mean(mean_error))  # collect epochs' errors\n",
        "        draw_errors(epochs_errors)  # draw progress\n",
        "        continue\n",
        "\n",
        "      return\n",
        "  \n",
        "\n",
        "  def _cost_function(self, labels, predictions):\n",
        "      '''\n",
        "      LogLoss = (labels*log(predictions) + (1-labels)*log(1-predictions) ) / len(labels)\n",
        "      '''\n",
        "\n",
        "      # take the error when label = 1\n",
        "      class1_cost = -labels*np.log1p(predictions)\n",
        "\n",
        "      # take the error when label = 0\n",
        "      class2_cost = (1-labels)*np.log1p(1-predictions)\n",
        "\n",
        "      # take the sum of both costs\n",
        "      cost = class1_cost + class2_cost\n",
        "\n",
        "      # take the average cost on batch\n",
        "      cost = - cost.sum() / self.batch_size\n",
        "\n",
        "      return cost\n",
        "\n",
        "  def _update_coefs(self, features: pd.DataFrame,\n",
        "                          error: pd.Series):\n",
        "    '''\n",
        "    Vectorized Gradient Descent\n",
        "    '''\n",
        "\n",
        "    # 1. calculate gradient with resrect to weights\n",
        "    gradient = self.C * np.dot(features.T,  error) + self._penalize()\n",
        "\n",
        "    # 2. multiply by learning rate\n",
        "    gradient *= self.lr\n",
        "\n",
        "    # check if gradient is proper\n",
        "    if np.inf in gradient:\n",
        "      return -1\n",
        "\n",
        "    # 3. take the average\n",
        "    gradient /= self.batch_size\n",
        "\n",
        "    # 4. update intercept and slope\n",
        "    self.coefs[0] -= self.lr * np.mean(self.C * error + self._penalize())\n",
        "    self.coefs[1:] -= gradient\n",
        "\n",
        "  def _penalize(self):\n",
        "    '''\n",
        "    Regularization term estimation\n",
        "    return: float\n",
        "    '''\n",
        "\n",
        "    if self.penalty is None:\n",
        "      return 0.0\n",
        "    \n",
        "    if self.penalty == 'l1':\n",
        "      return np.sum(abs(self.coefs))\n",
        "\n",
        "    if self.penalty == 'l2':\n",
        "      return np.sum(self.coefs**2)\n",
        "    \n",
        "    # elasticnet\n",
        "    return (self.l1_ratio * np.sum(abs(self.coefs)) + \\\n",
        "            (1 - self.l1_ratio) * np.sum(self.coefs**2))\n",
        "\n",
        "  def predict(self, X: pd.DataFrame):\n",
        "    '''\n",
        "    Make decisions based on the probabilities and the threshold\n",
        "    return: np.array\n",
        "    '''\n",
        "    preds = np.array([])\n",
        "    for row in range(len(X)):\n",
        "      features = X.iloc[row, :]\n",
        "      pred_proba = 1 if self.predict_proba([features])[0] > self.threshold else 0\n",
        "      preds = np.append(preds,  pred_proba)\n",
        "    return preds\n",
        "\n",
        "  def predict_proba(self, X: pd.DataFrame):\n",
        "    '''\n",
        "    The probability estimation based on sigmoid\n",
        "    return: np.array\n",
        "    '''\n",
        "    z = np.dot(X, self.coefs[1:]) + self.coefs[0]\n",
        "    return sigmoid(z)\n"
      ],
      "metadata": {
        "id": "P6kfln-kG4NO"
      },
      "execution_count": null,
      "outputs": []
    },
    {
      "cell_type": "code",
      "source": [
        "lr = LogisticRegression(epochs=100, lr=0.00025, batch_size=5, penalty='l2', C=0.8)"
      ],
      "metadata": {
        "id": "mB1Zn3ssJ_dQ"
      },
      "execution_count": null,
      "outputs": []
    },
    {
      "cell_type": "code",
      "source": [
        "lr.fit(X_train, y_train)"
      ],
      "metadata": {
        "colab": {
          "base_uri": "https://localhost:8080/",
          "height": 281
        },
        "id": "iZkunUKiKQwm",
        "outputId": "fdf83f8b-a1ba-4d4a-8cfa-2e75e6c843ff"
      },
      "execution_count": null,
      "outputs": [
        {
          "output_type": "display_data",
          "data": {
            "text/plain": [
              "<Figure size 432x288 with 1 Axes>"
            ],
            "image/png": "[encoded data removed]"
          },
          "metadata": {
            "needs_background": "light"
          }
        }
      ]
    },
    {
      "cell_type": "code",
      "source": [
        "print(classification_report(y_test, lr.predict(X_test)))"
      ],
      "metadata": {
        "colab": {
          "base_uri": "https://localhost:8080/"
        },
        "id": "V7IDcG5jnqbE",
        "outputId": "f18cfc8a-171b-4b91-edf3-fb4200f43b87"
      },
      "execution_count": null,
      "outputs": [
        {
          "output_type": "stream",
          "name": "stdout",
          "text": [
            "              precision    recall  f1-score   support\n",
            "\n",
            "         0.0       0.69      0.95      0.80       182\n",
            "         1.0       0.78      0.31      0.44       113\n",
            "\n",
            "    accuracy                           0.70       295\n",
            "   macro avg       0.73      0.63      0.62       295\n",
            "weighted avg       0.72      0.70      0.66       295\n",
            "\n"
          ]
        }
      ]
    },
    {
      "cell_type": "code",
      "source": [
        "lr.coefs"
      ],
      "metadata": {
        "colab": {
          "base_uri": "https://localhost:8080/"
        },
        "id": "N2rFWAMnMjaC",
        "outputId": "dd790a78-b9e3-4bd2-eedf-85adb61ede62"
      },
      "execution_count": null,
      "outputs": [
        {
          "output_type": "execute_result",
          "data": {
            "text/plain": [
              "array([-0.09177831, -0.1240795 , -0.25357525, -0.0222695 , -0.15844224,\n",
              "       -0.02024587,  0.01990588, -0.00381722,  0.04764612])"
            ]
          },
          "metadata": {},
          "execution_count": 287
        }
      ]
    },
    {
      "cell_type": "markdown",
      "source": [
        "# K-Nearest-Neighbors"
      ],
      "metadata": {
        "id": "jE2L9Oi-7FlQ"
      }
    },
    {
      "cell_type": "markdown",
      "source": [
        "KNN is a non-parametric algorithm that makes predictions based on distances from the input sample and samples in the training data. It allows to build non-linear decision boundaries.\n",
        "\n",
        "The main hyper-parameter is k -- number of neighbors to consider while predictions making.\n",
        "\n",
        "It is also important to scale the data as distances are calculated.\n",
        "\n",
        "Advantages:\n",
        "1. Non-linear boundary\n",
        "2. Fast to train as there is no training process per se\n",
        "3. Makes no assumptions on data distribution\n",
        "\n",
        "Disadvatages:\n",
        "1. Requires a lot of memory to store the data\n",
        "2. Takes a lot of time to make predictions as it computes distances from the input sample to the whole training set"
      ],
      "metadata": {
        "id": "GAfwL6QZObhB"
      }
    },
    {
      "cell_type": "code",
      "source": [
        "from scipy.spatial import distance_matrix"
      ],
      "metadata": {
        "id": "Ns9LZS_ivSmt"
      },
      "execution_count": null,
      "outputs": []
    },
    {
      "cell_type": "code",
      "source": [
        "# scale\n",
        "scaler = MinMaxScaler()\n",
        "data = pd.DataFrame(scaler.fit_transform(data), columns=data.columns)"
      ],
      "metadata": {
        "id": "QtwGFMVKM3D2"
      },
      "execution_count": null,
      "outputs": []
    },
    {
      "cell_type": "code",
      "source": [
        "class KNearestNeighbors(BaseEstimator):\n",
        "  def __init__(self, k: int=3,  # number of nearest neighbors\n",
        "               weights: Dict['uniform', 'distance']='uniform',  # weight function used in prediction\n",
        "               p: int=2):  # minkowski metric parameter\n",
        "    self.k = k\n",
        "    self.weights = weights\n",
        "    self.p = p\n",
        "\n",
        "  def _predict_uniform(self, k_nearest):\n",
        "    '''\n",
        "    Make predictions without taking distances into consideration \n",
        "    '''\n",
        "    # take classes of the nearest neigbors, count and sort them\n",
        "    classes = self.labels[self.labels.index.isin(k_nearest.index)].value_counts()\n",
        "\n",
        "    # take the most frequent one\n",
        "    return classes.index[0]\n",
        "\n",
        "  def _predict_distance(self, k_nearest):\n",
        "    '''\n",
        "    Make predictions based on distances to the nearest neighbors\n",
        "    '''\n",
        "    classes_weights = {}  # dictionary for sums of inverse distances\n",
        "    for id, dist in zip(k_nearest.index, k_nearest):\n",
        "      label = self.labels[id]\n",
        "      # add inverse distance\n",
        "      classes_weights[label] = classes_weights.get(label, 0) + 1/(dist + 0.1e5)\n",
        "\n",
        "    # sort weights\n",
        "    sorted_w = sorted([(k, v) for k, v in classes_weights.items()], \n",
        "                      key=lambda x: x[1],\n",
        "                      reverse=True)\n",
        "    \n",
        "    # take label with the biggest weight\n",
        "    return sorted_w[0][0]\n",
        "\n",
        "  def fit(self, X, y):\n",
        "    '''\n",
        "    Store training set and labels\n",
        "    '''\n",
        "    X.index = y.index = range(len(X))\n",
        "\n",
        "    self.X_train = X\n",
        "    self.labels = y\n",
        "\n",
        "  def predict(self, X):\n",
        "    '''\n",
        "    Compute distances and make predictions\n",
        "    '''\n",
        "    # compute distances\n",
        "    distances = pd.DataFrame(distance_matrix(self.X_train, X, p=self.p), \n",
        "                             index=self.labels.index)\n",
        "\n",
        "    predictions = np.array([])\n",
        "    for sample in distances:\n",
        "      k_nearest = distances[sample].sort_values()[:self.k]  # find k nearest \n",
        "\n",
        "      # make predictions based on the choosen method\n",
        "      if self.weights == 'uniform':\n",
        "        predictions = np.append(predictions, self._predict_uniform(k_nearest))\n",
        "      else:\n",
        "        predictions = np.append(predictions, self._predict_distance(k_nearest))\n",
        "      \n",
        "    return predictions"
      ],
      "metadata": {
        "id": "Tafi50YJ4irg"
      },
      "execution_count": null,
      "outputs": []
    },
    {
      "cell_type": "code",
      "source": [
        "knn = KNearestNeighbors(k=10, weights='distance')"
      ],
      "metadata": {
        "id": "s44riX8O71h4"
      },
      "execution_count": null,
      "outputs": []
    },
    {
      "cell_type": "code",
      "source": [
        "knn.fit(X_train, y_train)"
      ],
      "metadata": {
        "id": "JTesHOmM-Q0k"
      },
      "execution_count": null,
      "outputs": []
    },
    {
      "cell_type": "code",
      "source": [
        "print(classification_report(y_test, knn.predict(X_test)))"
      ],
      "metadata": {
        "colab": {
          "base_uri": "https://localhost:8080/"
        },
        "id": "_woPDaGzJSN4",
        "outputId": "37ac4cc3-2bc5-498c-993c-02670a7edd41"
      },
      "execution_count": null,
      "outputs": [
        {
          "output_type": "stream",
          "name": "stdout",
          "text": [
            "              precision    recall  f1-score   support\n",
            "\n",
            "         0.0       0.78      0.91      0.84       182\n",
            "         1.0       0.80      0.59      0.68       113\n",
            "\n",
            "    accuracy                           0.79       295\n",
            "   macro avg       0.79      0.75      0.76       295\n",
            "weighted avg       0.79      0.79      0.78       295\n",
            "\n"
          ]
        }
      ]
    },
    {
      "cell_type": "code",
      "source": [
        ""
      ],
      "metadata": {
        "id": "6ZTnh_tCJVKG"
      },
      "execution_count": null,
      "outputs": []
    }
  ]
}