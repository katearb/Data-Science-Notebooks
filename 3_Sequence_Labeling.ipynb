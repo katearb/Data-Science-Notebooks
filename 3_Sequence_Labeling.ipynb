{
  "nbformat": 4,
  "nbformat_minor": 0,
  "metadata": {
    "colab": {
      "name": "3_Sequence_Labeling",
      "provenance": [],
      "collapsed_sections": [],
      "mount_file_id": "1yIqDhv5pyTegpTA2RdGxdRDlNqoxuYBY",
      "authorship_tag": "ABX9TyM+xLY6MCIl1f+lnsnw5qTc",
      "include_colab_link": true
    },
    "kernelspec": {
      "name": "python3",
      "display_name": "Python 3"
    },
    "language_info": {
      "name": "python"
    },
    "accelerator": "GPU",
    "widgets": {
      "application/vnd.jupyter.widget-state+json": {
        "5844b8277b3f4e8eb9f0bcac9a9f9427": {
          "model_module": "@jupyter-widgets/controls",
          "model_name": "HBoxModel",
          "model_module_version": "1.5.0",
          "state": {
            "_view_name": "HBoxView",
            "_dom_classes": [],
            "_model_name": "HBoxModel",
            "_view_module": "@jupyter-widgets/controls",
            "_model_module_version": "1.5.0",
            "_view_count": null,
            "_view_module_version": "1.5.0",
            "box_style": "",
            "layout": "IPY_MODEL_551cf3f30a5749ab9cf14180b0b16534",
            "_model_module": "@jupyter-widgets/controls",
            "children": [
              "IPY_MODEL_59a774378a484ee2b8dd65b30671590a",
              "IPY_MODEL_de7a883aec8c473baccc21a8a19c5ffe",
              "IPY_MODEL_338e3d6d3d1c49118c934b67b73be1e4"
            ]
          }
        },
        "551cf3f30a5749ab9cf14180b0b16534": {
          "model_module": "@jupyter-widgets/base",
          "model_name": "LayoutModel",
          "model_module_version": "1.2.0",
          "state": {
            "_view_name": "LayoutView",
            "grid_template_rows": null,
            "right": null,
            "justify_content": null,
            "_view_module": "@jupyter-widgets/base",
            "overflow": null,
            "_model_module_version": "1.2.0",
            "_view_count": null,
            "flex_flow": null,
            "width": null,
            "min_width": null,
            "border": null,
            "align_items": null,
            "bottom": null,
            "_model_module": "@jupyter-widgets/base",
            "top": null,
            "grid_column": null,
            "overflow_y": null,
            "overflow_x": null,
            "grid_auto_flow": null,
            "grid_area": null,
            "grid_template_columns": null,
            "flex": null,
            "_model_name": "LayoutModel",
            "justify_items": null,
            "grid_row": null,
            "max_height": null,
            "align_content": null,
            "visibility": null,
            "align_self": null,
            "height": null,
            "min_height": null,
            "padding": null,
            "grid_auto_rows": null,
            "grid_gap": null,
            "max_width": null,
            "order": null,
            "_view_module_version": "1.2.0",
            "grid_template_areas": null,
            "object_position": null,
            "object_fit": null,
            "grid_auto_columns": null,
            "margin": null,
            "display": null,
            "left": null
          }
        },
        "59a774378a484ee2b8dd65b30671590a": {
          "model_module": "@jupyter-widgets/controls",
          "model_name": "HTMLModel",
          "model_module_version": "1.5.0",
          "state": {
            "_view_name": "HTMLView",
            "style": "IPY_MODEL_502bf514be714917af138d8e132d8063",
            "_dom_classes": [],
            "description": "",
            "_model_name": "HTMLModel",
            "placeholder": "​",
            "_view_module": "@jupyter-widgets/controls",
            "_model_module_version": "1.5.0",
            "value": "Downloading: 100%",
            "_view_count": null,
            "_view_module_version": "1.5.0",
            "description_tooltip": null,
            "_model_module": "@jupyter-widgets/controls",
            "layout": "IPY_MODEL_d16682f6098441aabe63fc2deca9fa5b"
          }
        },
        "de7a883aec8c473baccc21a8a19c5ffe": {
          "model_module": "@jupyter-widgets/controls",
          "model_name": "FloatProgressModel",
          "model_module_version": "1.5.0",
          "state": {
            "_view_name": "ProgressView",
            "style": "IPY_MODEL_ba1d40b0672443bead3d6b9a1a32aa5a",
            "_dom_classes": [],
            "description": "",
            "_model_name": "FloatProgressModel",
            "bar_style": "success",
            "max": 29,
            "_view_module": "@jupyter-widgets/controls",
            "_model_module_version": "1.5.0",
            "value": 29,
            "_view_count": null,
            "_view_module_version": "1.5.0",
            "orientation": "horizontal",
            "min": 0,
            "description_tooltip": null,
            "_model_module": "@jupyter-widgets/controls",
            "layout": "IPY_MODEL_a920e4c3009848a1b9c1dc68d0f42f68"
          }
        },
        "338e3d6d3d1c49118c934b67b73be1e4": {
          "model_module": "@jupyter-widgets/controls",
          "model_name": "HTMLModel",
          "model_module_version": "1.5.0",
          "state": {
            "_view_name": "HTMLView",
            "style": "IPY_MODEL_3b3636d93b8943e58c896615c7705f07",
            "_dom_classes": [],
            "description": "",
            "_model_name": "HTMLModel",
            "placeholder": "​",
            "_view_module": "@jupyter-widgets/controls",
            "_model_module_version": "1.5.0",
            "value": " 29.0/29.0 [00:00&lt;00:00, 703B/s]",
            "_view_count": null,
            "_view_module_version": "1.5.0",
            "description_tooltip": null,
            "_model_module": "@jupyter-widgets/controls",
            "layout": "IPY_MODEL_17e6fa5e6b26416e842ac099a3cefe5a"
          }
        },
        "502bf514be714917af138d8e132d8063": {
          "model_module": "@jupyter-widgets/controls",
          "model_name": "DescriptionStyleModel",
          "model_module_version": "1.5.0",
          "state": {
            "_view_name": "StyleView",
            "_model_name": "DescriptionStyleModel",
            "description_width": "",
            "_view_module": "@jupyter-widgets/base",
            "_model_module_version": "1.5.0",
            "_view_count": null,
            "_view_module_version": "1.2.0",
            "_model_module": "@jupyter-widgets/controls"
          }
        },
        "d16682f6098441aabe63fc2deca9fa5b": {
          "model_module": "@jupyter-widgets/base",
          "model_name": "LayoutModel",
          "model_module_version": "1.2.0",
          "state": {
            "_view_name": "LayoutView",
            "grid_template_rows": null,
            "right": null,
            "justify_content": null,
            "_view_module": "@jupyter-widgets/base",
            "overflow": null,
            "_model_module_version": "1.2.0",
            "_view_count": null,
            "flex_flow": null,
            "width": null,
            "min_width": null,
            "border": null,
            "align_items": null,
            "bottom": null,
            "_model_module": "@jupyter-widgets/base",
            "top": null,
            "grid_column": null,
            "overflow_y": null,
            "overflow_x": null,
            "grid_auto_flow": null,
            "grid_area": null,
            "grid_template_columns": null,
            "flex": null,
            "_model_name": "LayoutModel",
            "justify_items": null,
            "grid_row": null,
            "max_height": null,
            "align_content": null,
            "visibility": null,
            "align_self": null,
            "height": null,
            "min_height": null,
            "padding": null,
            "grid_auto_rows": null,
            "grid_gap": null,
            "max_width": null,
            "order": null,
            "_view_module_version": "1.2.0",
            "grid_template_areas": null,
            "object_position": null,
            "object_fit": null,
            "grid_auto_columns": null,
            "margin": null,
            "display": null,
            "left": null
          }
        },
        "ba1d40b0672443bead3d6b9a1a32aa5a": {
          "model_module": "@jupyter-widgets/controls",
          "model_name": "ProgressStyleModel",
          "model_module_version": "1.5.0",
          "state": {
            "_view_name": "StyleView",
            "_model_name": "ProgressStyleModel",
            "description_width": "",
            "_view_module": "@jupyter-widgets/base",
            "_model_module_version": "1.5.0",
            "_view_count": null,
            "_view_module_version": "1.2.0",
            "bar_color": null,
            "_model_module": "@jupyter-widgets/controls"
          }
        },
        "a920e4c3009848a1b9c1dc68d0f42f68": {
          "model_module": "@jupyter-widgets/base",
          "model_name": "LayoutModel",
          "model_module_version": "1.2.0",
          "state": {
            "_view_name": "LayoutView",
            "grid_template_rows": null,
            "right": null,
            "justify_content": null,
            "_view_module": "@jupyter-widgets/base",
            "overflow": null,
            "_model_module_version": "1.2.0",
            "_view_count": null,
            "flex_flow": null,
            "width": null,
            "min_width": null,
            "border": null,
            "align_items": null,
            "bottom": null,
            "_model_module": "@jupyter-widgets/base",
            "top": null,
            "grid_column": null,
            "overflow_y": null,
            "overflow_x": null,
            "grid_auto_flow": null,
            "grid_area": null,
            "grid_template_columns": null,
            "flex": null,
            "_model_name": "LayoutModel",
            "justify_items": null,
            "grid_row": null,
            "max_height": null,
            "align_content": null,
            "visibility": null,
            "align_self": null,
            "height": null,
            "min_height": null,
            "padding": null,
            "grid_auto_rows": null,
            "grid_gap": null,
            "max_width": null,
            "order": null,
            "_view_module_version": "1.2.0",
            "grid_template_areas": null,
            "object_position": null,
            "object_fit": null,
            "grid_auto_columns": null,
            "margin": null,
            "display": null,
            "left": null
          }
        },
        "3b3636d93b8943e58c896615c7705f07": {
          "model_module": "@jupyter-widgets/controls",
          "model_name": "DescriptionStyleModel",
          "model_module_version": "1.5.0",
          "state": {
            "_view_name": "StyleView",
            "_model_name": "DescriptionStyleModel",
            "description_width": "",
            "_view_module": "@jupyter-widgets/base",
            "_model_module_version": "1.5.0",
            "_view_count": null,
            "_view_module_version": "1.2.0",
            "_model_module": "@jupyter-widgets/controls"
          }
        },
        "17e6fa5e6b26416e842ac099a3cefe5a": {
          "model_module": "@jupyter-widgets/base",
          "model_name": "LayoutModel",
          "model_module_version": "1.2.0",
          "state": {
            "_view_name": "LayoutView",
            "grid_template_rows": null,
            "right": null,
            "justify_content": null,
            "_view_module": "@jupyter-widgets/base",
            "overflow": null,
            "_model_module_version": "1.2.0",
            "_view_count": null,
            "flex_flow": null,
            "width": null,
            "min_width": null,
            "border": null,
            "align_items": null,
            "bottom": null,
            "_model_module": "@jupyter-widgets/base",
            "top": null,
            "grid_column": null,
            "overflow_y": null,
            "overflow_x": null,
            "grid_auto_flow": null,
            "grid_area": null,
            "grid_template_columns": null,
            "flex": null,
            "_model_name": "LayoutModel",
            "justify_items": null,
            "grid_row": null,
            "max_height": null,
            "align_content": null,
            "visibility": null,
            "align_self": null,
            "height": null,
            "min_height": null,
            "padding": null,
            "grid_auto_rows": null,
            "grid_gap": null,
            "max_width": null,
            "order": null,
            "_view_module_version": "1.2.0",
            "grid_template_areas": null,
            "object_position": null,
            "object_fit": null,
            "grid_auto_columns": null,
            "margin": null,
            "display": null,
            "left": null
          }
        },
        "49dfefd9aebc4628906a23a68f0fe492": {
          "model_module": "@jupyter-widgets/controls",
          "model_name": "HBoxModel",
          "model_module_version": "1.5.0",
          "state": {
            "_view_name": "HBoxView",
            "_dom_classes": [],
            "_model_name": "HBoxModel",
            "_view_module": "@jupyter-widgets/controls",
            "_model_module_version": "1.5.0",
            "_view_count": null,
            "_view_module_version": "1.5.0",
            "box_style": "",
            "layout": "IPY_MODEL_e6b0e66856dd495a91e46752485ddcb1",
            "_model_module": "@jupyter-widgets/controls",
            "children": [
              "IPY_MODEL_87137664d5f24f1fa025d626ae2df61b",
              "IPY_MODEL_66b05822ee434a4b98d67b1e85f5b926",
              "IPY_MODEL_b98b11c94b0a4b49b730347c6830a20c"
            ]
          }
        },
        "e6b0e66856dd495a91e46752485ddcb1": {
          "model_module": "@jupyter-widgets/base",
          "model_name": "LayoutModel",
          "model_module_version": "1.2.0",
          "state": {
            "_view_name": "LayoutView",
            "grid_template_rows": null,
            "right": null,
            "justify_content": null,
            "_view_module": "@jupyter-widgets/base",
            "overflow": null,
            "_model_module_version": "1.2.0",
            "_view_count": null,
            "flex_flow": null,
            "width": null,
            "min_width": null,
            "border": null,
            "align_items": null,
            "bottom": null,
            "_model_module": "@jupyter-widgets/base",
            "top": null,
            "grid_column": null,
            "overflow_y": null,
            "overflow_x": null,
            "grid_auto_flow": null,
            "grid_area": null,
            "grid_template_columns": null,
            "flex": null,
            "_model_name": "LayoutModel",
            "justify_items": null,
            "grid_row": null,
            "max_height": null,
            "align_content": null,
            "visibility": null,
            "align_self": null,
            "height": null,
            "min_height": null,
            "padding": null,
            "grid_auto_rows": null,
            "grid_gap": null,
            "max_width": null,
            "order": null,
            "_view_module_version": "1.2.0",
            "grid_template_areas": null,
            "object_position": null,
            "object_fit": null,
            "grid_auto_columns": null,
            "margin": null,
            "display": null,
            "left": null
          }
        },
        "87137664d5f24f1fa025d626ae2df61b": {
          "model_module": "@jupyter-widgets/controls",
          "model_name": "HTMLModel",
          "model_module_version": "1.5.0",
          "state": {
            "_view_name": "HTMLView",
            "style": "IPY_MODEL_348a8b9376164ba4a00f8a5fa3638afc",
            "_dom_classes": [],
            "description": "",
            "_model_name": "HTMLModel",
            "placeholder": "​",
            "_view_module": "@jupyter-widgets/controls",
            "_model_module_version": "1.5.0",
            "value": "Downloading: 100%",
            "_view_count": null,
            "_view_module_version": "1.5.0",
            "description_tooltip": null,
            "_model_module": "@jupyter-widgets/controls",
            "layout": "IPY_MODEL_b4e1182d4414412691c0c72a16e92f5f"
          }
        },
        "66b05822ee434a4b98d67b1e85f5b926": {
          "model_module": "@jupyter-widgets/controls",
          "model_name": "FloatProgressModel",
          "model_module_version": "1.5.0",
          "state": {
            "_view_name": "ProgressView",
            "style": "IPY_MODEL_1bf6d6e4eca44024a579b7aaeda4fc70",
            "_dom_classes": [],
            "description": "",
            "_model_name": "FloatProgressModel",
            "bar_style": "success",
            "max": 213450,
            "_view_module": "@jupyter-widgets/controls",
            "_model_module_version": "1.5.0",
            "value": 213450,
            "_view_count": null,
            "_view_module_version": "1.5.0",
            "orientation": "horizontal",
            "min": 0,
            "description_tooltip": null,
            "_model_module": "@jupyter-widgets/controls",
            "layout": "IPY_MODEL_2acf5f941c4540ec8391e1a8b2e34040"
          }
        },
        "b98b11c94b0a4b49b730347c6830a20c": {
          "model_module": "@jupyter-widgets/controls",
          "model_name": "HTMLModel",
          "model_module_version": "1.5.0",
          "state": {
            "_view_name": "HTMLView",
            "style": "IPY_MODEL_b62518d68613483e99f28379d2d6efc4",
            "_dom_classes": [],
            "description": "",
            "_model_name": "HTMLModel",
            "placeholder": "​",
            "_view_module": "@jupyter-widgets/controls",
            "_model_module_version": "1.5.0",
            "value": " 208k/208k [00:00&lt;00:00, 1.30MB/s]",
            "_view_count": null,
            "_view_module_version": "1.5.0",
            "description_tooltip": null,
            "_model_module": "@jupyter-widgets/controls",
            "layout": "IPY_MODEL_2b228be977a041c59ad1809be4cef9eb"
          }
        },
        "348a8b9376164ba4a00f8a5fa3638afc": {
          "model_module": "@jupyter-widgets/controls",
          "model_name": "DescriptionStyleModel",
          "model_module_version": "1.5.0",
          "state": {
            "_view_name": "StyleView",
            "_model_name": "DescriptionStyleModel",
            "description_width": "",
            "_view_module": "@jupyter-widgets/base",
            "_model_module_version": "1.5.0",
            "_view_count": null,
            "_view_module_version": "1.2.0",
            "_model_module": "@jupyter-widgets/controls"
          }
        },
        "b4e1182d4414412691c0c72a16e92f5f": {
          "model_module": "@jupyter-widgets/base",
          "model_name": "LayoutModel",
          "model_module_version": "1.2.0",
          "state": {
            "_view_name": "LayoutView",
            "grid_template_rows": null,
            "right": null,
            "justify_content": null,
            "_view_module": "@jupyter-widgets/base",
            "overflow": null,
            "_model_module_version": "1.2.0",
            "_view_count": null,
            "flex_flow": null,
            "width": null,
            "min_width": null,
            "border": null,
            "align_items": null,
            "bottom": null,
            "_model_module": "@jupyter-widgets/base",
            "top": null,
            "grid_column": null,
            "overflow_y": null,
            "overflow_x": null,
            "grid_auto_flow": null,
            "grid_area": null,
            "grid_template_columns": null,
            "flex": null,
            "_model_name": "LayoutModel",
            "justify_items": null,
            "grid_row": null,
            "max_height": null,
            "align_content": null,
            "visibility": null,
            "align_self": null,
            "height": null,
            "min_height": null,
            "padding": null,
            "grid_auto_rows": null,
            "grid_gap": null,
            "max_width": null,
            "order": null,
            "_view_module_version": "1.2.0",
            "grid_template_areas": null,
            "object_position": null,
            "object_fit": null,
            "grid_auto_columns": null,
            "margin": null,
            "display": null,
            "left": null
          }
        },
        "1bf6d6e4eca44024a579b7aaeda4fc70": {
          "model_module": "@jupyter-widgets/controls",
          "model_name": "ProgressStyleModel",
          "model_module_version": "1.5.0",
          "state": {
            "_view_name": "StyleView",
            "_model_name": "ProgressStyleModel",
            "description_width": "",
            "_view_module": "@jupyter-widgets/base",
            "_model_module_version": "1.5.0",
            "_view_count": null,
            "_view_module_version": "1.2.0",
            "bar_color": null,
            "_model_module": "@jupyter-widgets/controls"
          }
        },
        "2acf5f941c4540ec8391e1a8b2e34040": {
          "model_module": "@jupyter-widgets/base",
          "model_name": "LayoutModel",
          "model_module_version": "1.2.0",
          "state": {
            "_view_name": "LayoutView",
            "grid_template_rows": null,
            "right": null,
            "justify_content": null,
            "_view_module": "@jupyter-widgets/base",
            "overflow": null,
            "_model_module_version": "1.2.0",
            "_view_count": null,
            "flex_flow": null,
            "width": null,
            "min_width": null,
            "border": null,
            "align_items": null,
            "bottom": null,
            "_model_module": "@jupyter-widgets/base",
            "top": null,
            "grid_column": null,
            "overflow_y": null,
            "overflow_x": null,
            "grid_auto_flow": null,
            "grid_area": null,
            "grid_template_columns": null,
            "flex": null,
            "_model_name": "LayoutModel",
            "justify_items": null,
            "grid_row": null,
            "max_height": null,
            "align_content": null,
            "visibility": null,
            "align_self": null,
            "height": null,
            "min_height": null,
            "padding": null,
            "grid_auto_rows": null,
            "grid_gap": null,
            "max_width": null,
            "order": null,
            "_view_module_version": "1.2.0",
            "grid_template_areas": null,
            "object_position": null,
            "object_fit": null,
            "grid_auto_columns": null,
            "margin": null,
            "display": null,
            "left": null
          }
        },
        "b62518d68613483e99f28379d2d6efc4": {
          "model_module": "@jupyter-widgets/controls",
          "model_name": "DescriptionStyleModel",
          "model_module_version": "1.5.0",
          "state": {
            "_view_name": "StyleView",
            "_model_name": "DescriptionStyleModel",
            "description_width": "",
            "_view_module": "@jupyter-widgets/base",
            "_model_module_version": "1.5.0",
            "_view_count": null,
            "_view_module_version": "1.2.0",
            "_model_module": "@jupyter-widgets/controls"
          }
        },
        "2b228be977a041c59ad1809be4cef9eb": {
          "model_module": "@jupyter-widgets/base",
          "model_name": "LayoutModel",
          "model_module_version": "1.2.0",
          "state": {
            "_view_name": "LayoutView",
            "grid_template_rows": null,
            "right": null,
            "justify_content": null,
            "_view_module": "@jupyter-widgets/base",
            "overflow": null,
            "_model_module_version": "1.2.0",
            "_view_count": null,
            "flex_flow": null,
            "width": null,
            "min_width": null,
            "border": null,
            "align_items": null,
            "bottom": null,
            "_model_module": "@jupyter-widgets/base",
            "top": null,
            "grid_column": null,
            "overflow_y": null,
            "overflow_x": null,
            "grid_auto_flow": null,
            "grid_area": null,
            "grid_template_columns": null,
            "flex": null,
            "_model_name": "LayoutModel",
            "justify_items": null,
            "grid_row": null,
            "max_height": null,
            "align_content": null,
            "visibility": null,
            "align_self": null,
            "height": null,
            "min_height": null,
            "padding": null,
            "grid_auto_rows": null,
            "grid_gap": null,
            "max_width": null,
            "order": null,
            "_view_module_version": "1.2.0",
            "grid_template_areas": null,
            "object_position": null,
            "object_fit": null,
            "grid_auto_columns": null,
            "margin": null,
            "display": null,
            "left": null
          }
        },
        "0135cbdd5cc84fa58204545251a6fe8c": {
          "model_module": "@jupyter-widgets/controls",
          "model_name": "HBoxModel",
          "model_module_version": "1.5.0",
          "state": {
            "_view_name": "HBoxView",
            "_dom_classes": [],
            "_model_name": "HBoxModel",
            "_view_module": "@jupyter-widgets/controls",
            "_model_module_version": "1.5.0",
            "_view_count": null,
            "_view_module_version": "1.5.0",
            "box_style": "",
            "layout": "IPY_MODEL_fdcf724677804a2196af7066aadcf2ae",
            "_model_module": "@jupyter-widgets/controls",
            "children": [
              "IPY_MODEL_057ee253b0c74f18a4797c6820d4c511",
              "IPY_MODEL_c15e02a31993471dbec5b04d7982a700",
              "IPY_MODEL_c9e9ba638e7344169c47b31ef079ae9a"
            ]
          }
        },
        "fdcf724677804a2196af7066aadcf2ae": {
          "model_module": "@jupyter-widgets/base",
          "model_name": "LayoutModel",
          "model_module_version": "1.2.0",
          "state": {
            "_view_name": "LayoutView",
            "grid_template_rows": null,
            "right": null,
            "justify_content": null,
            "_view_module": "@jupyter-widgets/base",
            "overflow": null,
            "_model_module_version": "1.2.0",
            "_view_count": null,
            "flex_flow": null,
            "width": null,
            "min_width": null,
            "border": null,
            "align_items": null,
            "bottom": null,
            "_model_module": "@jupyter-widgets/base",
            "top": null,
            "grid_column": null,
            "overflow_y": null,
            "overflow_x": null,
            "grid_auto_flow": null,
            "grid_area": null,
            "grid_template_columns": null,
            "flex": null,
            "_model_name": "LayoutModel",
            "justify_items": null,
            "grid_row": null,
            "max_height": null,
            "align_content": null,
            "visibility": null,
            "align_self": null,
            "height": null,
            "min_height": null,
            "padding": null,
            "grid_auto_rows": null,
            "grid_gap": null,
            "max_width": null,
            "order": null,
            "_view_module_version": "1.2.0",
            "grid_template_areas": null,
            "object_position": null,
            "object_fit": null,
            "grid_auto_columns": null,
            "margin": null,
            "display": null,
            "left": null
          }
        },
        "057ee253b0c74f18a4797c6820d4c511": {
          "model_module": "@jupyter-widgets/controls",
          "model_name": "HTMLModel",
          "model_module_version": "1.5.0",
          "state": {
            "_view_name": "HTMLView",
            "style": "IPY_MODEL_316a24b23fbf440eba42c9d2d44e0d7f",
            "_dom_classes": [],
            "description": "",
            "_model_name": "HTMLModel",
            "placeholder": "​",
            "_view_module": "@jupyter-widgets/controls",
            "_model_module_version": "1.5.0",
            "value": "Downloading: 100%",
            "_view_count": null,
            "_view_module_version": "1.5.0",
            "description_tooltip": null,
            "_model_module": "@jupyter-widgets/controls",
            "layout": "IPY_MODEL_8d627a4a1bc848eaa2716dedefd356d7"
          }
        },
        "c15e02a31993471dbec5b04d7982a700": {
          "model_module": "@jupyter-widgets/controls",
          "model_name": "FloatProgressModel",
          "model_module_version": "1.5.0",
          "state": {
            "_view_name": "ProgressView",
            "style": "IPY_MODEL_320047ad334749dc9c16cab856bbaef6",
            "_dom_classes": [],
            "description": "",
            "_model_name": "FloatProgressModel",
            "bar_style": "success",
            "max": 435797,
            "_view_module": "@jupyter-widgets/controls",
            "_model_module_version": "1.5.0",
            "value": 435797,
            "_view_count": null,
            "_view_module_version": "1.5.0",
            "orientation": "horizontal",
            "min": 0,
            "description_tooltip": null,
            "_model_module": "@jupyter-widgets/controls",
            "layout": "IPY_MODEL_0d2848a01e644519934649d031a47347"
          }
        },
        "c9e9ba638e7344169c47b31ef079ae9a": {
          "model_module": "@jupyter-widgets/controls",
          "model_name": "HTMLModel",
          "model_module_version": "1.5.0",
          "state": {
            "_view_name": "HTMLView",
            "style": "IPY_MODEL_4083373e493246609523536bcda3c6cc",
            "_dom_classes": [],
            "description": "",
            "_model_name": "HTMLModel",
            "placeholder": "​",
            "_view_module": "@jupyter-widgets/controls",
            "_model_module_version": "1.5.0",
            "value": " 426k/426k [00:00&lt;00:00, 1.69MB/s]",
            "_view_count": null,
            "_view_module_version": "1.5.0",
            "description_tooltip": null,
            "_model_module": "@jupyter-widgets/controls",
            "layout": "IPY_MODEL_a8868beefeee43b28fd42ab209bcc2cb"
          }
        },
        "316a24b23fbf440eba42c9d2d44e0d7f": {
          "model_module": "@jupyter-widgets/controls",
          "model_name": "DescriptionStyleModel",
          "model_module_version": "1.5.0",
          "state": {
            "_view_name": "StyleView",
            "_model_name": "DescriptionStyleModel",
            "description_width": "",
            "_view_module": "@jupyter-widgets/base",
            "_model_module_version": "1.5.0",
            "_view_count": null,
            "_view_module_version": "1.2.0",
            "_model_module": "@jupyter-widgets/controls"
          }
        },
        "8d627a4a1bc848eaa2716dedefd356d7": {
          "model_module": "@jupyter-widgets/base",
          "model_name": "LayoutModel",
          "model_module_version": "1.2.0",
          "state": {
            "_view_name": "LayoutView",
            "grid_template_rows": null,
            "right": null,
            "justify_content": null,
            "_view_module": "@jupyter-widgets/base",
            "overflow": null,
            "_model_module_version": "1.2.0",
            "_view_count": null,
            "flex_flow": null,
            "width": null,
            "min_width": null,
            "border": null,
            "align_items": null,
            "bottom": null,
            "_model_module": "@jupyter-widgets/base",
            "top": null,
            "grid_column": null,
            "overflow_y": null,
            "overflow_x": null,
            "grid_auto_flow": null,
            "grid_area": null,
            "grid_template_columns": null,
            "flex": null,
            "_model_name": "LayoutModel",
            "justify_items": null,
            "grid_row": null,
            "max_height": null,
            "align_content": null,
            "visibility": null,
            "align_self": null,
            "height": null,
            "min_height": null,
            "padding": null,
            "grid_auto_rows": null,
            "grid_gap": null,
            "max_width": null,
            "order": null,
            "_view_module_version": "1.2.0",
            "grid_template_areas": null,
            "object_position": null,
            "object_fit": null,
            "grid_auto_columns": null,
            "margin": null,
            "display": null,
            "left": null
          }
        },
        "320047ad334749dc9c16cab856bbaef6": {
          "model_module": "@jupyter-widgets/controls",
          "model_name": "ProgressStyleModel",
          "model_module_version": "1.5.0",
          "state": {
            "_view_name": "StyleView",
            "_model_name": "ProgressStyleModel",
            "description_width": "",
            "_view_module": "@jupyter-widgets/base",
            "_model_module_version": "1.5.0",
            "_view_count": null,
            "_view_module_version": "1.2.0",
            "bar_color": null,
            "_model_module": "@jupyter-widgets/controls"
          }
        },
        "0d2848a01e644519934649d031a47347": {
          "model_module": "@jupyter-widgets/base",
          "model_name": "LayoutModel",
          "model_module_version": "1.2.0",
          "state": {
            "_view_name": "LayoutView",
            "grid_template_rows": null,
            "right": null,
            "justify_content": null,
            "_view_module": "@jupyter-widgets/base",
            "overflow": null,
            "_model_module_version": "1.2.0",
            "_view_count": null,
            "flex_flow": null,
            "width": null,
            "min_width": null,
            "border": null,
            "align_items": null,
            "bottom": null,
            "_model_module": "@jupyter-widgets/base",
            "top": null,
            "grid_column": null,
            "overflow_y": null,
            "overflow_x": null,
            "grid_auto_flow": null,
            "grid_area": null,
            "grid_template_columns": null,
            "flex": null,
            "_model_name": "LayoutModel",
            "justify_items": null,
            "grid_row": null,
            "max_height": null,
            "align_content": null,
            "visibility": null,
            "align_self": null,
            "height": null,
            "min_height": null,
            "padding": null,
            "grid_auto_rows": null,
            "grid_gap": null,
            "max_width": null,
            "order": null,
            "_view_module_version": "1.2.0",
            "grid_template_areas": null,
            "object_position": null,
            "object_fit": null,
            "grid_auto_columns": null,
            "margin": null,
            "display": null,
            "left": null
          }
        },
        "4083373e493246609523536bcda3c6cc": {
          "model_module": "@jupyter-widgets/controls",
          "model_name": "DescriptionStyleModel",
          "model_module_version": "1.5.0",
          "state": {
            "_view_name": "StyleView",
            "_model_name": "DescriptionStyleModel",
            "description_width": "",
            "_view_module": "@jupyter-widgets/base",
            "_model_module_version": "1.5.0",
            "_view_count": null,
            "_view_module_version": "1.2.0",
            "_model_module": "@jupyter-widgets/controls"
          }
        },
        "a8868beefeee43b28fd42ab209bcc2cb": {
          "model_module": "@jupyter-widgets/base",
          "model_name": "LayoutModel",
          "model_module_version": "1.2.0",
          "state": {
            "_view_name": "LayoutView",
            "grid_template_rows": null,
            "right": null,
            "justify_content": null,
            "_view_module": "@jupyter-widgets/base",
            "overflow": null,
            "_model_module_version": "1.2.0",
            "_view_count": null,
            "flex_flow": null,
            "width": null,
            "min_width": null,
            "border": null,
            "align_items": null,
            "bottom": null,
            "_model_module": "@jupyter-widgets/base",
            "top": null,
            "grid_column": null,
            "overflow_y": null,
            "overflow_x": null,
            "grid_auto_flow": null,
            "grid_area": null,
            "grid_template_columns": null,
            "flex": null,
            "_model_name": "LayoutModel",
            "justify_items": null,
            "grid_row": null,
            "max_height": null,
            "align_content": null,
            "visibility": null,
            "align_self": null,
            "height": null,
            "min_height": null,
            "padding": null,
            "grid_auto_rows": null,
            "grid_gap": null,
            "max_width": null,
            "order": null,
            "_view_module_version": "1.2.0",
            "grid_template_areas": null,
            "object_position": null,
            "object_fit": null,
            "grid_auto_columns": null,
            "margin": null,
            "display": null,
            "left": null
          }
        },
        "78d8d7695bc54e13bc7ef27f801442af": {
          "model_module": "@jupyter-widgets/controls",
          "model_name": "HBoxModel",
          "model_module_version": "1.5.0",
          "state": {
            "_view_name": "HBoxView",
            "_dom_classes": [],
            "_model_name": "HBoxModel",
            "_view_module": "@jupyter-widgets/controls",
            "_model_module_version": "1.5.0",
            "_view_count": null,
            "_view_module_version": "1.5.0",
            "box_style": "",
            "layout": "IPY_MODEL_35cd7ea4e94f4207a022a40913538595",
            "_model_module": "@jupyter-widgets/controls",
            "children": [
              "IPY_MODEL_6e4a4d7288db45bea9f4da05efbe41f7",
              "IPY_MODEL_73be81c0c1f441489166a8da427f5ed8",
              "IPY_MODEL_51cb2e89cbd54c67a688ad8522049d17"
            ]
          }
        },
        "35cd7ea4e94f4207a022a40913538595": {
          "model_module": "@jupyter-widgets/base",
          "model_name": "LayoutModel",
          "model_module_version": "1.2.0",
          "state": {
            "_view_name": "LayoutView",
            "grid_template_rows": null,
            "right": null,
            "justify_content": null,
            "_view_module": "@jupyter-widgets/base",
            "overflow": null,
            "_model_module_version": "1.2.0",
            "_view_count": null,
            "flex_flow": null,
            "width": null,
            "min_width": null,
            "border": null,
            "align_items": null,
            "bottom": null,
            "_model_module": "@jupyter-widgets/base",
            "top": null,
            "grid_column": null,
            "overflow_y": null,
            "overflow_x": null,
            "grid_auto_flow": null,
            "grid_area": null,
            "grid_template_columns": null,
            "flex": null,
            "_model_name": "LayoutModel",
            "justify_items": null,
            "grid_row": null,
            "max_height": null,
            "align_content": null,
            "visibility": null,
            "align_self": null,
            "height": null,
            "min_height": null,
            "padding": null,
            "grid_auto_rows": null,
            "grid_gap": null,
            "max_width": null,
            "order": null,
            "_view_module_version": "1.2.0",
            "grid_template_areas": null,
            "object_position": null,
            "object_fit": null,
            "grid_auto_columns": null,
            "margin": null,
            "display": null,
            "left": null
          }
        },
        "6e4a4d7288db45bea9f4da05efbe41f7": {
          "model_module": "@jupyter-widgets/controls",
          "model_name": "HTMLModel",
          "model_module_version": "1.5.0",
          "state": {
            "_view_name": "HTMLView",
            "style": "IPY_MODEL_35a637333c1643ac88e5466c5ed12bc9",
            "_dom_classes": [],
            "description": "",
            "_model_name": "HTMLModel",
            "placeholder": "​",
            "_view_module": "@jupyter-widgets/controls",
            "_model_module_version": "1.5.0",
            "value": "Downloading: 100%",
            "_view_count": null,
            "_view_module_version": "1.5.0",
            "description_tooltip": null,
            "_model_module": "@jupyter-widgets/controls",
            "layout": "IPY_MODEL_8a23adb77f554efb966b5f2fe63fc7c9"
          }
        },
        "73be81c0c1f441489166a8da427f5ed8": {
          "model_module": "@jupyter-widgets/controls",
          "model_name": "FloatProgressModel",
          "model_module_version": "1.5.0",
          "state": {
            "_view_name": "ProgressView",
            "style": "IPY_MODEL_5d02bd16e2ed43e1b389773e71536c20",
            "_dom_classes": [],
            "description": "",
            "_model_name": "FloatProgressModel",
            "bar_style": "success",
            "max": 570,
            "_view_module": "@jupyter-widgets/controls",
            "_model_module_version": "1.5.0",
            "value": 570,
            "_view_count": null,
            "_view_module_version": "1.5.0",
            "orientation": "horizontal",
            "min": 0,
            "description_tooltip": null,
            "_model_module": "@jupyter-widgets/controls",
            "layout": "IPY_MODEL_5911ad55ff214d36b961395906af4999"
          }
        },
        "51cb2e89cbd54c67a688ad8522049d17": {
          "model_module": "@jupyter-widgets/controls",
          "model_name": "HTMLModel",
          "model_module_version": "1.5.0",
          "state": {
            "_view_name": "HTMLView",
            "style": "IPY_MODEL_3f9fda193b484361bc076bb83a706b26",
            "_dom_classes": [],
            "description": "",
            "_model_name": "HTMLModel",
            "placeholder": "​",
            "_view_module": "@jupyter-widgets/controls",
            "_model_module_version": "1.5.0",
            "value": " 570/570 [00:00&lt;00:00, 10.3kB/s]",
            "_view_count": null,
            "_view_module_version": "1.5.0",
            "description_tooltip": null,
            "_model_module": "@jupyter-widgets/controls",
            "layout": "IPY_MODEL_282393fa18194dc88405b3b0fd5316b4"
          }
        },
        "35a637333c1643ac88e5466c5ed12bc9": {
          "model_module": "@jupyter-widgets/controls",
          "model_name": "DescriptionStyleModel",
          "model_module_version": "1.5.0",
          "state": {
            "_view_name": "StyleView",
            "_model_name": "DescriptionStyleModel",
            "description_width": "",
            "_view_module": "@jupyter-widgets/base",
            "_model_module_version": "1.5.0",
            "_view_count": null,
            "_view_module_version": "1.2.0",
            "_model_module": "@jupyter-widgets/controls"
          }
        },
        "8a23adb77f554efb966b5f2fe63fc7c9": {
          "model_module": "@jupyter-widgets/base",
          "model_name": "LayoutModel",
          "model_module_version": "1.2.0",
          "state": {
            "_view_name": "LayoutView",
            "grid_template_rows": null,
            "right": null,
            "justify_content": null,
            "_view_module": "@jupyter-widgets/base",
            "overflow": null,
            "_model_module_version": "1.2.0",
            "_view_count": null,
            "flex_flow": null,
            "width": null,
            "min_width": null,
            "border": null,
            "align_items": null,
            "bottom": null,
            "_model_module": "@jupyter-widgets/base",
            "top": null,
            "grid_column": null,
            "overflow_y": null,
            "overflow_x": null,
            "grid_auto_flow": null,
            "grid_area": null,
            "grid_template_columns": null,
            "flex": null,
            "_model_name": "LayoutModel",
            "justify_items": null,
            "grid_row": null,
            "max_height": null,
            "align_content": null,
            "visibility": null,
            "align_self": null,
            "height": null,
            "min_height": null,
            "padding": null,
            "grid_auto_rows": null,
            "grid_gap": null,
            "max_width": null,
            "order": null,
            "_view_module_version": "1.2.0",
            "grid_template_areas": null,
            "object_position": null,
            "object_fit": null,
            "grid_auto_columns": null,
            "margin": null,
            "display": null,
            "left": null
          }
        },
        "5d02bd16e2ed43e1b389773e71536c20": {
          "model_module": "@jupyter-widgets/controls",
          "model_name": "ProgressStyleModel",
          "model_module_version": "1.5.0",
          "state": {
            "_view_name": "StyleView",
            "_model_name": "ProgressStyleModel",
            "description_width": "",
            "_view_module": "@jupyter-widgets/base",
            "_model_module_version": "1.5.0",
            "_view_count": null,
            "_view_module_version": "1.2.0",
            "bar_color": null,
            "_model_module": "@jupyter-widgets/controls"
          }
        },
        "5911ad55ff214d36b961395906af4999": {
          "model_module": "@jupyter-widgets/base",
          "model_name": "LayoutModel",
          "model_module_version": "1.2.0",
          "state": {
            "_view_name": "LayoutView",
            "grid_template_rows": null,
            "right": null,
            "justify_content": null,
            "_view_module": "@jupyter-widgets/base",
            "overflow": null,
            "_model_module_version": "1.2.0",
            "_view_count": null,
            "flex_flow": null,
            "width": null,
            "min_width": null,
            "border": null,
            "align_items": null,
            "bottom": null,
            "_model_module": "@jupyter-widgets/base",
            "top": null,
            "grid_column": null,
            "overflow_y": null,
            "overflow_x": null,
            "grid_auto_flow": null,
            "grid_area": null,
            "grid_template_columns": null,
            "flex": null,
            "_model_name": "LayoutModel",
            "justify_items": null,
            "grid_row": null,
            "max_height": null,
            "align_content": null,
            "visibility": null,
            "align_self": null,
            "height": null,
            "min_height": null,
            "padding": null,
            "grid_auto_rows": null,
            "grid_gap": null,
            "max_width": null,
            "order": null,
            "_view_module_version": "1.2.0",
            "grid_template_areas": null,
            "object_position": null,
            "object_fit": null,
            "grid_auto_columns": null,
            "margin": null,
            "display": null,
            "left": null
          }
        },
        "3f9fda193b484361bc076bb83a706b26": {
          "model_module": "@jupyter-widgets/controls",
          "model_name": "DescriptionStyleModel",
          "model_module_version": "1.5.0",
          "state": {
            "_view_name": "StyleView",
            "_model_name": "DescriptionStyleModel",
            "description_width": "",
            "_view_module": "@jupyter-widgets/base",
            "_model_module_version": "1.5.0",
            "_view_count": null,
            "_view_module_version": "1.2.0",
            "_model_module": "@jupyter-widgets/controls"
          }
        },
        "282393fa18194dc88405b3b0fd5316b4": {
          "model_module": "@jupyter-widgets/base",
          "model_name": "LayoutModel",
          "model_module_version": "1.2.0",
          "state": {
            "_view_name": "LayoutView",
            "grid_template_rows": null,
            "right": null,
            "justify_content": null,
            "_view_module": "@jupyter-widgets/base",
            "overflow": null,
            "_model_module_version": "1.2.0",
            "_view_count": null,
            "flex_flow": null,
            "width": null,
            "min_width": null,
            "border": null,
            "align_items": null,
            "bottom": null,
            "_model_module": "@jupyter-widgets/base",
            "top": null,
            "grid_column": null,
            "overflow_y": null,
            "overflow_x": null,
            "grid_auto_flow": null,
            "grid_area": null,
            "grid_template_columns": null,
            "flex": null,
            "_model_name": "LayoutModel",
            "justify_items": null,
            "grid_row": null,
            "max_height": null,
            "align_content": null,
            "visibility": null,
            "align_self": null,
            "height": null,
            "min_height": null,
            "padding": null,
            "grid_auto_rows": null,
            "grid_gap": null,
            "max_width": null,
            "order": null,
            "_view_module_version": "1.2.0",
            "grid_template_areas": null,
            "object_position": null,
            "object_fit": null,
            "grid_auto_columns": null,
            "margin": null,
            "display": null,
            "left": null
          }
        },
        "160836ad526946dcaf25d8607b02eec5": {
          "model_module": "@jupyter-widgets/controls",
          "model_name": "HBoxModel",
          "model_module_version": "1.5.0",
          "state": {
            "_view_name": "HBoxView",
            "_dom_classes": [],
            "_model_name": "HBoxModel",
            "_view_module": "@jupyter-widgets/controls",
            "_model_module_version": "1.5.0",
            "_view_count": null,
            "_view_module_version": "1.5.0",
            "box_style": "",
            "layout": "IPY_MODEL_5324180278d54e18aa2b04f8a6fc3f50",
            "_model_module": "@jupyter-widgets/controls",
            "children": [
              "IPY_MODEL_ddc99b7a76604b558546ece3d442c2e2",
              "IPY_MODEL_f7f032e58337414986f265f921d9d20f",
              "IPY_MODEL_76a38d71808c4667afc8cb9dc7a9c4b6"
            ]
          }
        },
        "5324180278d54e18aa2b04f8a6fc3f50": {
          "model_module": "@jupyter-widgets/base",
          "model_name": "LayoutModel",
          "model_module_version": "1.2.0",
          "state": {
            "_view_name": "LayoutView",
            "grid_template_rows": null,
            "right": null,
            "justify_content": null,
            "_view_module": "@jupyter-widgets/base",
            "overflow": null,
            "_model_module_version": "1.2.0",
            "_view_count": null,
            "flex_flow": "row wrap",
            "width": "100%",
            "min_width": null,
            "border": null,
            "align_items": null,
            "bottom": null,
            "_model_module": "@jupyter-widgets/base",
            "top": null,
            "grid_column": null,
            "overflow_y": null,
            "overflow_x": null,
            "grid_auto_flow": null,
            "grid_area": null,
            "grid_template_columns": null,
            "flex": null,
            "_model_name": "LayoutModel",
            "justify_items": null,
            "grid_row": null,
            "max_height": null,
            "align_content": null,
            "visibility": null,
            "align_self": null,
            "height": null,
            "min_height": null,
            "padding": null,
            "grid_auto_rows": null,
            "grid_gap": null,
            "max_width": null,
            "order": null,
            "_view_module_version": "1.2.0",
            "grid_template_areas": null,
            "object_position": null,
            "object_fit": null,
            "grid_auto_columns": null,
            "margin": null,
            "display": "inline-flex",
            "left": null
          }
        },
        "ddc99b7a76604b558546ece3d442c2e2": {
          "model_module": "@jupyter-widgets/controls",
          "model_name": "HTMLModel",
          "model_module_version": "1.5.0",
          "state": {
            "_view_name": "HTMLView",
            "style": "IPY_MODEL_dab044cc4b0a4b6697ecd6afd54dbea3",
            "_dom_classes": [],
            "description": "",
            "_model_name": "HTMLModel",
            "placeholder": "​",
            "_view_module": "@jupyter-widgets/controls",
            "_model_module_version": "1.5.0",
            "value": "Validation sanity check: 100%",
            "_view_count": null,
            "_view_module_version": "1.5.0",
            "description_tooltip": null,
            "_model_module": "@jupyter-widgets/controls",
            "layout": "IPY_MODEL_7d45766186014c33bddb7cca01c87576"
          }
        },
        "f7f032e58337414986f265f921d9d20f": {
          "model_module": "@jupyter-widgets/controls",
          "model_name": "FloatProgressModel",
          "model_module_version": "1.5.0",
          "state": {
            "_view_name": "ProgressView",
            "style": "IPY_MODEL_77005a78617a4fa7a7d0765c83c489f0",
            "_dom_classes": [],
            "description": "",
            "_model_name": "FloatProgressModel",
            "bar_style": "",
            "max": 2,
            "_view_module": "@jupyter-widgets/controls",
            "_model_module_version": "1.5.0",
            "value": 2,
            "_view_count": null,
            "_view_module_version": "1.5.0",
            "orientation": "horizontal",
            "min": 0,
            "description_tooltip": null,
            "_model_module": "@jupyter-widgets/controls",
            "layout": "IPY_MODEL_bd73c670b5c24ab3ab9e313ba7bbd938"
          }
        },
        "76a38d71808c4667afc8cb9dc7a9c4b6": {
          "model_module": "@jupyter-widgets/controls",
          "model_name": "HTMLModel",
          "model_module_version": "1.5.0",
          "state": {
            "_view_name": "HTMLView",
            "style": "IPY_MODEL_3f709d376ca3459d9a26364a5de0653a",
            "_dom_classes": [],
            "description": "",
            "_model_name": "HTMLModel",
            "placeholder": "​",
            "_view_module": "@jupyter-widgets/controls",
            "_model_module_version": "1.5.0",
            "value": " 2/2 [00:00&lt;00:00,  3.89it/s]",
            "_view_count": null,
            "_view_module_version": "1.5.0",
            "description_tooltip": null,
            "_model_module": "@jupyter-widgets/controls",
            "layout": "IPY_MODEL_e0577c995fd546a8ab329840a01513d2"
          }
        },
        "dab044cc4b0a4b6697ecd6afd54dbea3": {
          "model_module": "@jupyter-widgets/controls",
          "model_name": "DescriptionStyleModel",
          "model_module_version": "1.5.0",
          "state": {
            "_view_name": "StyleView",
            "_model_name": "DescriptionStyleModel",
            "description_width": "",
            "_view_module": "@jupyter-widgets/base",
            "_model_module_version": "1.5.0",
            "_view_count": null,
            "_view_module_version": "1.2.0",
            "_model_module": "@jupyter-widgets/controls"
          }
        },
        "7d45766186014c33bddb7cca01c87576": {
          "model_module": "@jupyter-widgets/base",
          "model_name": "LayoutModel",
          "model_module_version": "1.2.0",
          "state": {
            "_view_name": "LayoutView",
            "grid_template_rows": null,
            "right": null,
            "justify_content": null,
            "_view_module": "@jupyter-widgets/base",
            "overflow": null,
            "_model_module_version": "1.2.0",
            "_view_count": null,
            "flex_flow": null,
            "width": null,
            "min_width": null,
            "border": null,
            "align_items": null,
            "bottom": null,
            "_model_module": "@jupyter-widgets/base",
            "top": null,
            "grid_column": null,
            "overflow_y": null,
            "overflow_x": null,
            "grid_auto_flow": null,
            "grid_area": null,
            "grid_template_columns": null,
            "flex": null,
            "_model_name": "LayoutModel",
            "justify_items": null,
            "grid_row": null,
            "max_height": null,
            "align_content": null,
            "visibility": null,
            "align_self": null,
            "height": null,
            "min_height": null,
            "padding": null,
            "grid_auto_rows": null,
            "grid_gap": null,
            "max_width": null,
            "order": null,
            "_view_module_version": "1.2.0",
            "grid_template_areas": null,
            "object_position": null,
            "object_fit": null,
            "grid_auto_columns": null,
            "margin": null,
            "display": null,
            "left": null
          }
        },
        "77005a78617a4fa7a7d0765c83c489f0": {
          "model_module": "@jupyter-widgets/controls",
          "model_name": "ProgressStyleModel",
          "model_module_version": "1.5.0",
          "state": {
            "_view_name": "StyleView",
            "_model_name": "ProgressStyleModel",
            "description_width": "",
            "_view_module": "@jupyter-widgets/base",
            "_model_module_version": "1.5.0",
            "_view_count": null,
            "_view_module_version": "1.2.0",
            "bar_color": null,
            "_model_module": "@jupyter-widgets/controls"
          }
        },
        "bd73c670b5c24ab3ab9e313ba7bbd938": {
          "model_module": "@jupyter-widgets/base",
          "model_name": "LayoutModel",
          "model_module_version": "1.2.0",
          "state": {
            "_view_name": "LayoutView",
            "grid_template_rows": null,
            "right": null,
            "justify_content": null,
            "_view_module": "@jupyter-widgets/base",
            "overflow": null,
            "_model_module_version": "1.2.0",
            "_view_count": null,
            "flex_flow": null,
            "width": null,
            "min_width": null,
            "border": null,
            "align_items": null,
            "bottom": null,
            "_model_module": "@jupyter-widgets/base",
            "top": null,
            "grid_column": null,
            "overflow_y": null,
            "overflow_x": null,
            "grid_auto_flow": null,
            "grid_area": null,
            "grid_template_columns": null,
            "flex": "2",
            "_model_name": "LayoutModel",
            "justify_items": null,
            "grid_row": null,
            "max_height": null,
            "align_content": null,
            "visibility": null,
            "align_self": null,
            "height": null,
            "min_height": null,
            "padding": null,
            "grid_auto_rows": null,
            "grid_gap": null,
            "max_width": null,
            "order": null,
            "_view_module_version": "1.2.0",
            "grid_template_areas": null,
            "object_position": null,
            "object_fit": null,
            "grid_auto_columns": null,
            "margin": null,
            "display": null,
            "left": null
          }
        },
        "3f709d376ca3459d9a26364a5de0653a": {
          "model_module": "@jupyter-widgets/controls",
          "model_name": "DescriptionStyleModel",
          "model_module_version": "1.5.0",
          "state": {
            "_view_name": "StyleView",
            "_model_name": "DescriptionStyleModel",
            "description_width": "",
            "_view_module": "@jupyter-widgets/base",
            "_model_module_version": "1.5.0",
            "_view_count": null,
            "_view_module_version": "1.2.0",
            "_model_module": "@jupyter-widgets/controls"
          }
        },
        "e0577c995fd546a8ab329840a01513d2": {
          "model_module": "@jupyter-widgets/base",
          "model_name": "LayoutModel",
          "model_module_version": "1.2.0",
          "state": {
            "_view_name": "LayoutView",
            "grid_template_rows": null,
            "right": null,
            "justify_content": null,
            "_view_module": "@jupyter-widgets/base",
            "overflow": null,
            "_model_module_version": "1.2.0",
            "_view_count": null,
            "flex_flow": null,
            "width": null,
            "min_width": null,
            "border": null,
            "align_items": null,
            "bottom": null,
            "_model_module": "@jupyter-widgets/base",
            "top": null,
            "grid_column": null,
            "overflow_y": null,
            "overflow_x": null,
            "grid_auto_flow": null,
            "grid_area": null,
            "grid_template_columns": null,
            "flex": null,
            "_model_name": "LayoutModel",
            "justify_items": null,
            "grid_row": null,
            "max_height": null,
            "align_content": null,
            "visibility": null,
            "align_self": null,
            "height": null,
            "min_height": null,
            "padding": null,
            "grid_auto_rows": null,
            "grid_gap": null,
            "max_width": null,
            "order": null,
            "_view_module_version": "1.2.0",
            "grid_template_areas": null,
            "object_position": null,
            "object_fit": null,
            "grid_auto_columns": null,
            "margin": null,
            "display": null,
            "left": null
          }
        },
        "c5b3887759c74f34978125b484902f5d": {
          "model_module": "@jupyter-widgets/controls",
          "model_name": "HBoxModel",
          "model_module_version": "1.5.0",
          "state": {
            "_view_name": "HBoxView",
            "_dom_classes": [],
            "_model_name": "HBoxModel",
            "_view_module": "@jupyter-widgets/controls",
            "_model_module_version": "1.5.0",
            "_view_count": null,
            "_view_module_version": "1.5.0",
            "box_style": "",
            "layout": "IPY_MODEL_23a237c724c4466899dbb9fb723295e3",
            "_model_module": "@jupyter-widgets/controls",
            "children": [
              "IPY_MODEL_b95e8eb6133f423085085fff9527a970",
              "IPY_MODEL_1ebce883ff614f41b746bcccff939dbc",
              "IPY_MODEL_f5cdf2faf69b437f9d487a21b8cdacad"
            ]
          }
        },
        "23a237c724c4466899dbb9fb723295e3": {
          "model_module": "@jupyter-widgets/base",
          "model_name": "LayoutModel",
          "model_module_version": "1.2.0",
          "state": {
            "_view_name": "LayoutView",
            "grid_template_rows": null,
            "right": null,
            "justify_content": null,
            "_view_module": "@jupyter-widgets/base",
            "overflow": null,
            "_model_module_version": "1.2.0",
            "_view_count": null,
            "flex_flow": "row wrap",
            "width": "100%",
            "min_width": null,
            "border": null,
            "align_items": null,
            "bottom": null,
            "_model_module": "@jupyter-widgets/base",
            "top": null,
            "grid_column": null,
            "overflow_y": null,
            "overflow_x": null,
            "grid_auto_flow": null,
            "grid_area": null,
            "grid_template_columns": null,
            "flex": null,
            "_model_name": "LayoutModel",
            "justify_items": null,
            "grid_row": null,
            "max_height": null,
            "align_content": null,
            "visibility": null,
            "align_self": null,
            "height": null,
            "min_height": null,
            "padding": null,
            "grid_auto_rows": null,
            "grid_gap": null,
            "max_width": null,
            "order": null,
            "_view_module_version": "1.2.0",
            "grid_template_areas": null,
            "object_position": null,
            "object_fit": null,
            "grid_auto_columns": null,
            "margin": null,
            "display": "inline-flex",
            "left": null
          }
        },
        "b95e8eb6133f423085085fff9527a970": {
          "model_module": "@jupyter-widgets/controls",
          "model_name": "HTMLModel",
          "model_module_version": "1.5.0",
          "state": {
            "_view_name": "HTMLView",
            "style": "IPY_MODEL_3ef078dc21c445b890d6ce0b931b8eb6",
            "_dom_classes": [],
            "description": "",
            "_model_name": "HTMLModel",
            "placeholder": "​",
            "_view_module": "@jupyter-widgets/controls",
            "_model_module_version": "1.5.0",
            "value": "Epoch 5:  21%",
            "_view_count": null,
            "_view_module_version": "1.5.0",
            "description_tooltip": null,
            "_model_module": "@jupyter-widgets/controls",
            "layout": "IPY_MODEL_1c78ffbba998476380e5d3bbc9272301"
          }
        },
        "1ebce883ff614f41b746bcccff939dbc": {
          "model_module": "@jupyter-widgets/controls",
          "model_name": "FloatProgressModel",
          "model_module_version": "1.5.0",
          "state": {
            "_view_name": "ProgressView",
            "style": "IPY_MODEL_90ca80ec2d054cd8ab5d02af52c7d58e",
            "_dom_classes": [],
            "description": "",
            "_model_name": "FloatProgressModel",
            "bar_style": "",
            "max": 7015,
            "_view_module": "@jupyter-widgets/controls",
            "_model_module_version": "1.5.0",
            "value": 1440,
            "_view_count": null,
            "_view_module_version": "1.5.0",
            "orientation": "horizontal",
            "min": 0,
            "description_tooltip": null,
            "_model_module": "@jupyter-widgets/controls",
            "layout": "IPY_MODEL_bd6360970749465c93a53b89bf1dd20e"
          }
        },
        "f5cdf2faf69b437f9d487a21b8cdacad": {
          "model_module": "@jupyter-widgets/controls",
          "model_name": "HTMLModel",
          "model_module_version": "1.5.0",
          "state": {
            "_view_name": "HTMLView",
            "style": "IPY_MODEL_b01add1963954c879ac6f48b8b1c8218",
            "_dom_classes": [],
            "description": "",
            "_model_name": "HTMLModel",
            "placeholder": "​",
            "_view_module": "@jupyter-widgets/controls",
            "_model_module_version": "1.5.0",
            "value": " 1440/7015 [07:55&lt;30:40,  3.03it/s, loss=0.159, v_num=0]",
            "_view_count": null,
            "_view_module_version": "1.5.0",
            "description_tooltip": null,
            "_model_module": "@jupyter-widgets/controls",
            "layout": "IPY_MODEL_28725e97dbcc40cf82896636652ebc8f"
          }
        },
        "3ef078dc21c445b890d6ce0b931b8eb6": {
          "model_module": "@jupyter-widgets/controls",
          "model_name": "DescriptionStyleModel",
          "model_module_version": "1.5.0",
          "state": {
            "_view_name": "StyleView",
            "_model_name": "DescriptionStyleModel",
            "description_width": "",
            "_view_module": "@jupyter-widgets/base",
            "_model_module_version": "1.5.0",
            "_view_count": null,
            "_view_module_version": "1.2.0",
            "_model_module": "@jupyter-widgets/controls"
          }
        },
        "1c78ffbba998476380e5d3bbc9272301": {
          "model_module": "@jupyter-widgets/base",
          "model_name": "LayoutModel",
          "model_module_version": "1.2.0",
          "state": {
            "_view_name": "LayoutView",
            "grid_template_rows": null,
            "right": null,
            "justify_content": null,
            "_view_module": "@jupyter-widgets/base",
            "overflow": null,
            "_model_module_version": "1.2.0",
            "_view_count": null,
            "flex_flow": null,
            "width": null,
            "min_width": null,
            "border": null,
            "align_items": null,
            "bottom": null,
            "_model_module": "@jupyter-widgets/base",
            "top": null,
            "grid_column": null,
            "overflow_y": null,
            "overflow_x": null,
            "grid_auto_flow": null,
            "grid_area": null,
            "grid_template_columns": null,
            "flex": null,
            "_model_name": "LayoutModel",
            "justify_items": null,
            "grid_row": null,
            "max_height": null,
            "align_content": null,
            "visibility": null,
            "align_self": null,
            "height": null,
            "min_height": null,
            "padding": null,
            "grid_auto_rows": null,
            "grid_gap": null,
            "max_width": null,
            "order": null,
            "_view_module_version": "1.2.0",
            "grid_template_areas": null,
            "object_position": null,
            "object_fit": null,
            "grid_auto_columns": null,
            "margin": null,
            "display": null,
            "left": null
          }
        },
        "90ca80ec2d054cd8ab5d02af52c7d58e": {
          "model_module": "@jupyter-widgets/controls",
          "model_name": "ProgressStyleModel",
          "model_module_version": "1.5.0",
          "state": {
            "_view_name": "StyleView",
            "_model_name": "ProgressStyleModel",
            "description_width": "",
            "_view_module": "@jupyter-widgets/base",
            "_model_module_version": "1.5.0",
            "_view_count": null,
            "_view_module_version": "1.2.0",
            "bar_color": null,
            "_model_module": "@jupyter-widgets/controls"
          }
        },
        "bd6360970749465c93a53b89bf1dd20e": {
          "model_module": "@jupyter-widgets/base",
          "model_name": "LayoutModel",
          "model_module_version": "1.2.0",
          "state": {
            "_view_name": "LayoutView",
            "grid_template_rows": null,
            "right": null,
            "justify_content": null,
            "_view_module": "@jupyter-widgets/base",
            "overflow": null,
            "_model_module_version": "1.2.0",
            "_view_count": null,
            "flex_flow": null,
            "width": null,
            "min_width": null,
            "border": null,
            "align_items": null,
            "bottom": null,
            "_model_module": "@jupyter-widgets/base",
            "top": null,
            "grid_column": null,
            "overflow_y": null,
            "overflow_x": null,
            "grid_auto_flow": null,
            "grid_area": null,
            "grid_template_columns": null,
            "flex": "2",
            "_model_name": "LayoutModel",
            "justify_items": null,
            "grid_row": null,
            "max_height": null,
            "align_content": null,
            "visibility": null,
            "align_self": null,
            "height": null,
            "min_height": null,
            "padding": null,
            "grid_auto_rows": null,
            "grid_gap": null,
            "max_width": null,
            "order": null,
            "_view_module_version": "1.2.0",
            "grid_template_areas": null,
            "object_position": null,
            "object_fit": null,
            "grid_auto_columns": null,
            "margin": null,
            "display": null,
            "left": null
          }
        },
        "b01add1963954c879ac6f48b8b1c8218": {
          "model_module": "@jupyter-widgets/controls",
          "model_name": "DescriptionStyleModel",
          "model_module_version": "1.5.0",
          "state": {
            "_view_name": "StyleView",
            "_model_name": "DescriptionStyleModel",
            "description_width": "",
            "_view_module": "@jupyter-widgets/base",
            "_model_module_version": "1.5.0",
            "_view_count": null,
            "_view_module_version": "1.2.0",
            "_model_module": "@jupyter-widgets/controls"
          }
        },
        "28725e97dbcc40cf82896636652ebc8f": {
          "model_module": "@jupyter-widgets/base",
          "model_name": "LayoutModel",
          "model_module_version": "1.2.0",
          "state": {
            "_view_name": "LayoutView",
            "grid_template_rows": null,
            "right": null,
            "justify_content": null,
            "_view_module": "@jupyter-widgets/base",
            "overflow": null,
            "_model_module_version": "1.2.0",
            "_view_count": null,
            "flex_flow": null,
            "width": null,
            "min_width": null,
            "border": null,
            "align_items": null,
            "bottom": null,
            "_model_module": "@jupyter-widgets/base",
            "top": null,
            "grid_column": null,
            "overflow_y": null,
            "overflow_x": null,
            "grid_auto_flow": null,
            "grid_area": null,
            "grid_template_columns": null,
            "flex": null,
            "_model_name": "LayoutModel",
            "justify_items": null,
            "grid_row": null,
            "max_height": null,
            "align_content": null,
            "visibility": null,
            "align_self": null,
            "height": null,
            "min_height": null,
            "padding": null,
            "grid_auto_rows": null,
            "grid_gap": null,
            "max_width": null,
            "order": null,
            "_view_module_version": "1.2.0",
            "grid_template_areas": null,
            "object_position": null,
            "object_fit": null,
            "grid_auto_columns": null,
            "margin": null,
            "display": null,
            "left": null
          }
        },
        "3ecb350482084e9dae373fc0fc35bad6": {
          "model_module": "@jupyter-widgets/controls",
          "model_name": "HBoxModel",
          "model_module_version": "1.5.0",
          "state": {
            "_view_name": "HBoxView",
            "_dom_classes": [],
            "_model_name": "HBoxModel",
            "_view_module": "@jupyter-widgets/controls",
            "_model_module_version": "1.5.0",
            "_view_count": null,
            "_view_module_version": "1.5.0",
            "box_style": "",
            "layout": "IPY_MODEL_1464a1efa0494a0a81f6279035ffd2ac",
            "_model_module": "@jupyter-widgets/controls",
            "children": [
              "IPY_MODEL_0fbed498baa44764ae1fab61eab2cbc5",
              "IPY_MODEL_0cd5bbea2df1477a8c1926712f90a812",
              "IPY_MODEL_21054c8b36c3402092f2b98555ee55ab"
            ]
          }
        },
        "1464a1efa0494a0a81f6279035ffd2ac": {
          "model_module": "@jupyter-widgets/base",
          "model_name": "LayoutModel",
          "model_module_version": "1.2.0",
          "state": {
            "_view_name": "LayoutView",
            "grid_template_rows": null,
            "right": null,
            "justify_content": null,
            "_view_module": "@jupyter-widgets/base",
            "overflow": null,
            "_model_module_version": "1.2.0",
            "_view_count": null,
            "flex_flow": "row wrap",
            "width": "100%",
            "min_width": null,
            "border": null,
            "align_items": null,
            "bottom": null,
            "_model_module": "@jupyter-widgets/base",
            "top": null,
            "grid_column": null,
            "overflow_y": null,
            "overflow_x": null,
            "grid_auto_flow": null,
            "grid_area": null,
            "grid_template_columns": null,
            "flex": null,
            "_model_name": "LayoutModel",
            "justify_items": null,
            "grid_row": null,
            "max_height": null,
            "align_content": null,
            "visibility": null,
            "align_self": null,
            "height": null,
            "min_height": null,
            "padding": null,
            "grid_auto_rows": null,
            "grid_gap": null,
            "max_width": null,
            "order": null,
            "_view_module_version": "1.2.0",
            "grid_template_areas": null,
            "object_position": null,
            "object_fit": null,
            "grid_auto_columns": null,
            "margin": null,
            "display": "inline-flex",
            "left": null
          }
        },
        "0fbed498baa44764ae1fab61eab2cbc5": {
          "model_module": "@jupyter-widgets/controls",
          "model_name": "HTMLModel",
          "model_module_version": "1.5.0",
          "state": {
            "_view_name": "HTMLView",
            "style": "IPY_MODEL_b981a42babe64485904807b04673a9e3",
            "_dom_classes": [],
            "description": "",
            "_model_name": "HTMLModel",
            "placeholder": "​",
            "_view_module": "@jupyter-widgets/controls",
            "_model_module_version": "1.5.0",
            "value": "Validating: 100%",
            "_view_count": null,
            "_view_module_version": "1.5.0",
            "description_tooltip": null,
            "_model_module": "@jupyter-widgets/controls",
            "layout": "IPY_MODEL_e442b11a53bd438f95af362bee8259cf"
          }
        },
        "0cd5bbea2df1477a8c1926712f90a812": {
          "model_module": "@jupyter-widgets/controls",
          "model_name": "FloatProgressModel",
          "model_module_version": "1.5.0",
          "state": {
            "_view_name": "ProgressView",
            "style": "IPY_MODEL_9fd50eb43a584b1bac13f181508c8c7a",
            "_dom_classes": [],
            "description": "",
            "_model_name": "FloatProgressModel",
            "bar_style": "",
            "max": 2159,
            "_view_module": "@jupyter-widgets/controls",
            "_model_module_version": "1.5.0",
            "value": 2159,
            "_view_count": null,
            "_view_module_version": "1.5.0",
            "orientation": "horizontal",
            "min": 0,
            "description_tooltip": null,
            "_model_module": "@jupyter-widgets/controls",
            "layout": "IPY_MODEL_1e4af110946340119d566b171cb037bf"
          }
        },
        "21054c8b36c3402092f2b98555ee55ab": {
          "model_module": "@jupyter-widgets/controls",
          "model_name": "HTMLModel",
          "model_module_version": "1.5.0",
          "state": {
            "_view_name": "HTMLView",
            "style": "IPY_MODEL_7443950b091d4f8f86a6995f4abe5eec",
            "_dom_classes": [],
            "description": "",
            "_model_name": "HTMLModel",
            "placeholder": "​",
            "_view_module": "@jupyter-widgets/controls",
            "_model_module_version": "1.5.0",
            "value": " 2159/2159 [02:17&lt;00:00, 15.51it/s]",
            "_view_count": null,
            "_view_module_version": "1.5.0",
            "description_tooltip": null,
            "_model_module": "@jupyter-widgets/controls",
            "layout": "IPY_MODEL_da63405cb820439da19e4e46d25fdbca"
          }
        },
        "b981a42babe64485904807b04673a9e3": {
          "model_module": "@jupyter-widgets/controls",
          "model_name": "DescriptionStyleModel",
          "model_module_version": "1.5.0",
          "state": {
            "_view_name": "StyleView",
            "_model_name": "DescriptionStyleModel",
            "description_width": "",
            "_view_module": "@jupyter-widgets/base",
            "_model_module_version": "1.5.0",
            "_view_count": null,
            "_view_module_version": "1.2.0",
            "_model_module": "@jupyter-widgets/controls"
          }
        },
        "e442b11a53bd438f95af362bee8259cf": {
          "model_module": "@jupyter-widgets/base",
          "model_name": "LayoutModel",
          "model_module_version": "1.2.0",
          "state": {
            "_view_name": "LayoutView",
            "grid_template_rows": null,
            "right": null,
            "justify_content": null,
            "_view_module": "@jupyter-widgets/base",
            "overflow": null,
            "_model_module_version": "1.2.0",
            "_view_count": null,
            "flex_flow": null,
            "width": null,
            "min_width": null,
            "border": null,
            "align_items": null,
            "bottom": null,
            "_model_module": "@jupyter-widgets/base",
            "top": null,
            "grid_column": null,
            "overflow_y": null,
            "overflow_x": null,
            "grid_auto_flow": null,
            "grid_area": null,
            "grid_template_columns": null,
            "flex": null,
            "_model_name": "LayoutModel",
            "justify_items": null,
            "grid_row": null,
            "max_height": null,
            "align_content": null,
            "visibility": null,
            "align_self": null,
            "height": null,
            "min_height": null,
            "padding": null,
            "grid_auto_rows": null,
            "grid_gap": null,
            "max_width": null,
            "order": null,
            "_view_module_version": "1.2.0",
            "grid_template_areas": null,
            "object_position": null,
            "object_fit": null,
            "grid_auto_columns": null,
            "margin": null,
            "display": null,
            "left": null
          }
        },
        "9fd50eb43a584b1bac13f181508c8c7a": {
          "model_module": "@jupyter-widgets/controls",
          "model_name": "ProgressStyleModel",
          "model_module_version": "1.5.0",
          "state": {
            "_view_name": "StyleView",
            "_model_name": "ProgressStyleModel",
            "description_width": "",
            "_view_module": "@jupyter-widgets/base",
            "_model_module_version": "1.5.0",
            "_view_count": null,
            "_view_module_version": "1.2.0",
            "bar_color": null,
            "_model_module": "@jupyter-widgets/controls"
          }
        },
        "1e4af110946340119d566b171cb037bf": {
          "model_module": "@jupyter-widgets/base",
          "model_name": "LayoutModel",
          "model_module_version": "1.2.0",
          "state": {
            "_view_name": "LayoutView",
            "grid_template_rows": null,
            "right": null,
            "justify_content": null,
            "_view_module": "@jupyter-widgets/base",
            "overflow": null,
            "_model_module_version": "1.2.0",
            "_view_count": null,
            "flex_flow": null,
            "width": null,
            "min_width": null,
            "border": null,
            "align_items": null,
            "bottom": null,
            "_model_module": "@jupyter-widgets/base",
            "top": null,
            "grid_column": null,
            "overflow_y": null,
            "overflow_x": null,
            "grid_auto_flow": null,
            "grid_area": null,
            "grid_template_columns": null,
            "flex": "2",
            "_model_name": "LayoutModel",
            "justify_items": null,
            "grid_row": null,
            "max_height": null,
            "align_content": null,
            "visibility": null,
            "align_self": null,
            "height": null,
            "min_height": null,
            "padding": null,
            "grid_auto_rows": null,
            "grid_gap": null,
            "max_width": null,
            "order": null,
            "_view_module_version": "1.2.0",
            "grid_template_areas": null,
            "object_position": null,
            "object_fit": null,
            "grid_auto_columns": null,
            "margin": null,
            "display": null,
            "left": null
          }
        },
        "7443950b091d4f8f86a6995f4abe5eec": {
          "model_module": "@jupyter-widgets/controls",
          "model_name": "DescriptionStyleModel",
          "model_module_version": "1.5.0",
          "state": {
            "_view_name": "StyleView",
            "_model_name": "DescriptionStyleModel",
            "description_width": "",
            "_view_module": "@jupyter-widgets/base",
            "_model_module_version": "1.5.0",
            "_view_count": null,
            "_view_module_version": "1.2.0",
            "_model_module": "@jupyter-widgets/controls"
          }
        },
        "da63405cb820439da19e4e46d25fdbca": {
          "model_module": "@jupyter-widgets/base",
          "model_name": "LayoutModel",
          "model_module_version": "1.2.0",
          "state": {
            "_view_name": "LayoutView",
            "grid_template_rows": null,
            "right": null,
            "justify_content": null,
            "_view_module": "@jupyter-widgets/base",
            "overflow": null,
            "_model_module_version": "1.2.0",
            "_view_count": null,
            "flex_flow": null,
            "width": null,
            "min_width": null,
            "border": null,
            "align_items": null,
            "bottom": null,
            "_model_module": "@jupyter-widgets/base",
            "top": null,
            "grid_column": null,
            "overflow_y": null,
            "overflow_x": null,
            "grid_auto_flow": null,
            "grid_area": null,
            "grid_template_columns": null,
            "flex": null,
            "_model_name": "LayoutModel",
            "justify_items": null,
            "grid_row": null,
            "max_height": null,
            "align_content": null,
            "visibility": null,
            "align_self": null,
            "height": null,
            "min_height": null,
            "padding": null,
            "grid_auto_rows": null,
            "grid_gap": null,
            "max_width": null,
            "order": null,
            "_view_module_version": "1.2.0",
            "grid_template_areas": null,
            "object_position": null,
            "object_fit": null,
            "grid_auto_columns": null,
            "margin": null,
            "display": null,
            "left": null
          }
        },
        "8d17b1c2a02641d7997975af8b6e38e8": {
          "model_module": "@jupyter-widgets/controls",
          "model_name": "HBoxModel",
          "model_module_version": "1.5.0",
          "state": {
            "_view_name": "HBoxView",
            "_dom_classes": [],
            "_model_name": "HBoxModel",
            "_view_module": "@jupyter-widgets/controls",
            "_model_module_version": "1.5.0",
            "_view_count": null,
            "_view_module_version": "1.5.0",
            "box_style": "",
            "layout": "IPY_MODEL_14c554ae9632451f8cc082386a5e0426",
            "_model_module": "@jupyter-widgets/controls",
            "children": [
              "IPY_MODEL_35f4656c4451462a8c14d8b4113689c2",
              "IPY_MODEL_22c00b90c18d409c82dc34a9ab441b95",
              "IPY_MODEL_4dae62f41be941749b7e2bbeace8edd6"
            ]
          }
        },
        "14c554ae9632451f8cc082386a5e0426": {
          "model_module": "@jupyter-widgets/base",
          "model_name": "LayoutModel",
          "model_module_version": "1.2.0",
          "state": {
            "_view_name": "LayoutView",
            "grid_template_rows": null,
            "right": null,
            "justify_content": null,
            "_view_module": "@jupyter-widgets/base",
            "overflow": null,
            "_model_module_version": "1.2.0",
            "_view_count": null,
            "flex_flow": "row wrap",
            "width": "100%",
            "min_width": null,
            "border": null,
            "align_items": null,
            "bottom": null,
            "_model_module": "@jupyter-widgets/base",
            "top": null,
            "grid_column": null,
            "overflow_y": null,
            "overflow_x": null,
            "grid_auto_flow": null,
            "grid_area": null,
            "grid_template_columns": null,
            "flex": null,
            "_model_name": "LayoutModel",
            "justify_items": null,
            "grid_row": null,
            "max_height": null,
            "align_content": null,
            "visibility": null,
            "align_self": null,
            "height": null,
            "min_height": null,
            "padding": null,
            "grid_auto_rows": null,
            "grid_gap": null,
            "max_width": null,
            "order": null,
            "_view_module_version": "1.2.0",
            "grid_template_areas": null,
            "object_position": null,
            "object_fit": null,
            "grid_auto_columns": null,
            "margin": null,
            "display": "inline-flex",
            "left": null
          }
        },
        "35f4656c4451462a8c14d8b4113689c2": {
          "model_module": "@jupyter-widgets/controls",
          "model_name": "HTMLModel",
          "model_module_version": "1.5.0",
          "state": {
            "_view_name": "HTMLView",
            "style": "IPY_MODEL_9849de6e75e743cfac7e32e9d0e7c46c",
            "_dom_classes": [],
            "description": "",
            "_model_name": "HTMLModel",
            "placeholder": "​",
            "_view_module": "@jupyter-widgets/controls",
            "_model_module_version": "1.5.0",
            "value": "Validating: 100%",
            "_view_count": null,
            "_view_module_version": "1.5.0",
            "description_tooltip": null,
            "_model_module": "@jupyter-widgets/controls",
            "layout": "IPY_MODEL_1ea5a7d8173b4038b14dfda79b5b9a51"
          }
        },
        "22c00b90c18d409c82dc34a9ab441b95": {
          "model_module": "@jupyter-widgets/controls",
          "model_name": "FloatProgressModel",
          "model_module_version": "1.5.0",
          "state": {
            "_view_name": "ProgressView",
            "style": "IPY_MODEL_78493696c2b74509a9a71ca4d1003565",
            "_dom_classes": [],
            "description": "",
            "_model_name": "FloatProgressModel",
            "bar_style": "",
            "max": 2159,
            "_view_module": "@jupyter-widgets/controls",
            "_model_module_version": "1.5.0",
            "value": 2159,
            "_view_count": null,
            "_view_module_version": "1.5.0",
            "orientation": "horizontal",
            "min": 0,
            "description_tooltip": null,
            "_model_module": "@jupyter-widgets/controls",
            "layout": "IPY_MODEL_d1fde1fb4d84465189e4de944b1aceef"
          }
        },
        "4dae62f41be941749b7e2bbeace8edd6": {
          "model_module": "@jupyter-widgets/controls",
          "model_name": "HTMLModel",
          "model_module_version": "1.5.0",
          "state": {
            "_view_name": "HTMLView",
            "style": "IPY_MODEL_fac6fca493d54079ab783678f42da098",
            "_dom_classes": [],
            "description": "",
            "_model_name": "HTMLModel",
            "placeholder": "​",
            "_view_module": "@jupyter-widgets/controls",
            "_model_module_version": "1.5.0",
            "value": " 2159/2159 [02:18&lt;00:00, 15.37it/s]",
            "_view_count": null,
            "_view_module_version": "1.5.0",
            "description_tooltip": null,
            "_model_module": "@jupyter-widgets/controls",
            "layout": "IPY_MODEL_c767a4da71614a44b25c6c163dbe9d5e"
          }
        },
        "9849de6e75e743cfac7e32e9d0e7c46c": {
          "model_module": "@jupyter-widgets/controls",
          "model_name": "DescriptionStyleModel",
          "model_module_version": "1.5.0",
          "state": {
            "_view_name": "StyleView",
            "_model_name": "DescriptionStyleModel",
            "description_width": "",
            "_view_module": "@jupyter-widgets/base",
            "_model_module_version": "1.5.0",
            "_view_count": null,
            "_view_module_version": "1.2.0",
            "_model_module": "@jupyter-widgets/controls"
          }
        },
        "1ea5a7d8173b4038b14dfda79b5b9a51": {
          "model_module": "@jupyter-widgets/base",
          "model_name": "LayoutModel",
          "model_module_version": "1.2.0",
          "state": {
            "_view_name": "LayoutView",
            "grid_template_rows": null,
            "right": null,
            "justify_content": null,
            "_view_module": "@jupyter-widgets/base",
            "overflow": null,
            "_model_module_version": "1.2.0",
            "_view_count": null,
            "flex_flow": null,
            "width": null,
            "min_width": null,
            "border": null,
            "align_items": null,
            "bottom": null,
            "_model_module": "@jupyter-widgets/base",
            "top": null,
            "grid_column": null,
            "overflow_y": null,
            "overflow_x": null,
            "grid_auto_flow": null,
            "grid_area": null,
            "grid_template_columns": null,
            "flex": null,
            "_model_name": "LayoutModel",
            "justify_items": null,
            "grid_row": null,
            "max_height": null,
            "align_content": null,
            "visibility": null,
            "align_self": null,
            "height": null,
            "min_height": null,
            "padding": null,
            "grid_auto_rows": null,
            "grid_gap": null,
            "max_width": null,
            "order": null,
            "_view_module_version": "1.2.0",
            "grid_template_areas": null,
            "object_position": null,
            "object_fit": null,
            "grid_auto_columns": null,
            "margin": null,
            "display": null,
            "left": null
          }
        },
        "78493696c2b74509a9a71ca4d1003565": {
          "model_module": "@jupyter-widgets/controls",
          "model_name": "ProgressStyleModel",
          "model_module_version": "1.5.0",
          "state": {
            "_view_name": "StyleView",
            "_model_name": "ProgressStyleModel",
            "description_width": "",
            "_view_module": "@jupyter-widgets/base",
            "_model_module_version": "1.5.0",
            "_view_count": null,
            "_view_module_version": "1.2.0",
            "bar_color": null,
            "_model_module": "@jupyter-widgets/controls"
          }
        },
        "d1fde1fb4d84465189e4de944b1aceef": {
          "model_module": "@jupyter-widgets/base",
          "model_name": "LayoutModel",
          "model_module_version": "1.2.0",
          "state": {
            "_view_name": "LayoutView",
            "grid_template_rows": null,
            "right": null,
            "justify_content": null,
            "_view_module": "@jupyter-widgets/base",
            "overflow": null,
            "_model_module_version": "1.2.0",
            "_view_count": null,
            "flex_flow": null,
            "width": null,
            "min_width": null,
            "border": null,
            "align_items": null,
            "bottom": null,
            "_model_module": "@jupyter-widgets/base",
            "top": null,
            "grid_column": null,
            "overflow_y": null,
            "overflow_x": null,
            "grid_auto_flow": null,
            "grid_area": null,
            "grid_template_columns": null,
            "flex": "2",
            "_model_name": "LayoutModel",
            "justify_items": null,
            "grid_row": null,
            "max_height": null,
            "align_content": null,
            "visibility": null,
            "align_self": null,
            "height": null,
            "min_height": null,
            "padding": null,
            "grid_auto_rows": null,
            "grid_gap": null,
            "max_width": null,
            "order": null,
            "_view_module_version": "1.2.0",
            "grid_template_areas": null,
            "object_position": null,
            "object_fit": null,
            "grid_auto_columns": null,
            "margin": null,
            "display": null,
            "left": null
          }
        },
        "fac6fca493d54079ab783678f42da098": {
          "model_module": "@jupyter-widgets/controls",
          "model_name": "DescriptionStyleModel",
          "model_module_version": "1.5.0",
          "state": {
            "_view_name": "StyleView",
            "_model_name": "DescriptionStyleModel",
            "description_width": "",
            "_view_module": "@jupyter-widgets/base",
            "_model_module_version": "1.5.0",
            "_view_count": null,
            "_view_module_version": "1.2.0",
            "_model_module": "@jupyter-widgets/controls"
          }
        },
        "c767a4da71614a44b25c6c163dbe9d5e": {
          "model_module": "@jupyter-widgets/base",
          "model_name": "LayoutModel",
          "model_module_version": "1.2.0",
          "state": {
            "_view_name": "LayoutView",
            "grid_template_rows": null,
            "right": null,
            "justify_content": null,
            "_view_module": "@jupyter-widgets/base",
            "overflow": null,
            "_model_module_version": "1.2.0",
            "_view_count": null,
            "flex_flow": null,
            "width": null,
            "min_width": null,
            "border": null,
            "align_items": null,
            "bottom": null,
            "_model_module": "@jupyter-widgets/base",
            "top": null,
            "grid_column": null,
            "overflow_y": null,
            "overflow_x": null,
            "grid_auto_flow": null,
            "grid_area": null,
            "grid_template_columns": null,
            "flex": null,
            "_model_name": "LayoutModel",
            "justify_items": null,
            "grid_row": null,
            "max_height": null,
            "align_content": null,
            "visibility": null,
            "align_self": null,
            "height": null,
            "min_height": null,
            "padding": null,
            "grid_auto_rows": null,
            "grid_gap": null,
            "max_width": null,
            "order": null,
            "_view_module_version": "1.2.0",
            "grid_template_areas": null,
            "object_position": null,
            "object_fit": null,
            "grid_auto_columns": null,
            "margin": null,
            "display": null,
            "left": null
          }
        },
        "631017fe3fa74a0cbf8de0ae288b9d1b": {
          "model_module": "@jupyter-widgets/controls",
          "model_name": "HBoxModel",
          "model_module_version": "1.5.0",
          "state": {
            "_view_name": "HBoxView",
            "_dom_classes": [],
            "_model_name": "HBoxModel",
            "_view_module": "@jupyter-widgets/controls",
            "_model_module_version": "1.5.0",
            "_view_count": null,
            "_view_module_version": "1.5.0",
            "box_style": "",
            "layout": "IPY_MODEL_9cbdc777100147e59c8ba7e399dffba0",
            "_model_module": "@jupyter-widgets/controls",
            "children": [
              "IPY_MODEL_c3bad78e7ab0493baffd1f31f25db7ad",
              "IPY_MODEL_5493eda65d9d45d087168b22338af4b0",
              "IPY_MODEL_bd5e17d7dbc946e391092a39d8822616"
            ]
          }
        },
        "9cbdc777100147e59c8ba7e399dffba0": {
          "model_module": "@jupyter-widgets/base",
          "model_name": "LayoutModel",
          "model_module_version": "1.2.0",
          "state": {
            "_view_name": "LayoutView",
            "grid_template_rows": null,
            "right": null,
            "justify_content": null,
            "_view_module": "@jupyter-widgets/base",
            "overflow": null,
            "_model_module_version": "1.2.0",
            "_view_count": null,
            "flex_flow": "row wrap",
            "width": "100%",
            "min_width": null,
            "border": null,
            "align_items": null,
            "bottom": null,
            "_model_module": "@jupyter-widgets/base",
            "top": null,
            "grid_column": null,
            "overflow_y": null,
            "overflow_x": null,
            "grid_auto_flow": null,
            "grid_area": null,
            "grid_template_columns": null,
            "flex": null,
            "_model_name": "LayoutModel",
            "justify_items": null,
            "grid_row": null,
            "max_height": null,
            "align_content": null,
            "visibility": null,
            "align_self": null,
            "height": null,
            "min_height": null,
            "padding": null,
            "grid_auto_rows": null,
            "grid_gap": null,
            "max_width": null,
            "order": null,
            "_view_module_version": "1.2.0",
            "grid_template_areas": null,
            "object_position": null,
            "object_fit": null,
            "grid_auto_columns": null,
            "margin": null,
            "display": "inline-flex",
            "left": null
          }
        },
        "c3bad78e7ab0493baffd1f31f25db7ad": {
          "model_module": "@jupyter-widgets/controls",
          "model_name": "HTMLModel",
          "model_module_version": "1.5.0",
          "state": {
            "_view_name": "HTMLView",
            "style": "IPY_MODEL_8fed653f50fe44d8adddece2fb5dab29",
            "_dom_classes": [],
            "description": "",
            "_model_name": "HTMLModel",
            "placeholder": "​",
            "_view_module": "@jupyter-widgets/controls",
            "_model_module_version": "1.5.0",
            "value": "Validating: 100%",
            "_view_count": null,
            "_view_module_version": "1.5.0",
            "description_tooltip": null,
            "_model_module": "@jupyter-widgets/controls",
            "layout": "IPY_MODEL_31e9d8a4e266457b8fd53fe71b924db2"
          }
        },
        "5493eda65d9d45d087168b22338af4b0": {
          "model_module": "@jupyter-widgets/controls",
          "model_name": "FloatProgressModel",
          "model_module_version": "1.5.0",
          "state": {
            "_view_name": "ProgressView",
            "style": "IPY_MODEL_b5f1432b1a79483b9423dfca4d48ae21",
            "_dom_classes": [],
            "description": "",
            "_model_name": "FloatProgressModel",
            "bar_style": "",
            "max": 2159,
            "_view_module": "@jupyter-widgets/controls",
            "_model_module_version": "1.5.0",
            "value": 2159,
            "_view_count": null,
            "_view_module_version": "1.5.0",
            "orientation": "horizontal",
            "min": 0,
            "description_tooltip": null,
            "_model_module": "@jupyter-widgets/controls",
            "layout": "IPY_MODEL_38a5d7c2cc1b432eb716dfae569f7e0c"
          }
        },
        "bd5e17d7dbc946e391092a39d8822616": {
          "model_module": "@jupyter-widgets/controls",
          "model_name": "HTMLModel",
          "model_module_version": "1.5.0",
          "state": {
            "_view_name": "HTMLView",
            "style": "IPY_MODEL_f65578cb3fd1459a8ab72540e8dc8477",
            "_dom_classes": [],
            "description": "",
            "_model_name": "HTMLModel",
            "placeholder": "​",
            "_view_module": "@jupyter-widgets/controls",
            "_model_module_version": "1.5.0",
            "value": " 2159/2159 [02:18&lt;00:00, 15.40it/s]",
            "_view_count": null,
            "_view_module_version": "1.5.0",
            "description_tooltip": null,
            "_model_module": "@jupyter-widgets/controls",
            "layout": "IPY_MODEL_2f20f3789c2e480b86c258cbcc482b1b"
          }
        },
        "8fed653f50fe44d8adddece2fb5dab29": {
          "model_module": "@jupyter-widgets/controls",
          "model_name": "DescriptionStyleModel",
          "model_module_version": "1.5.0",
          "state": {
            "_view_name": "StyleView",
            "_model_name": "DescriptionStyleModel",
            "description_width": "",
            "_view_module": "@jupyter-widgets/base",
            "_model_module_version": "1.5.0",
            "_view_count": null,
            "_view_module_version": "1.2.0",
            "_model_module": "@jupyter-widgets/controls"
          }
        },
        "31e9d8a4e266457b8fd53fe71b924db2": {
          "model_module": "@jupyter-widgets/base",
          "model_name": "LayoutModel",
          "model_module_version": "1.2.0",
          "state": {
            "_view_name": "LayoutView",
            "grid_template_rows": null,
            "right": null,
            "justify_content": null,
            "_view_module": "@jupyter-widgets/base",
            "overflow": null,
            "_model_module_version": "1.2.0",
            "_view_count": null,
            "flex_flow": null,
            "width": null,
            "min_width": null,
            "border": null,
            "align_items": null,
            "bottom": null,
            "_model_module": "@jupyter-widgets/base",
            "top": null,
            "grid_column": null,
            "overflow_y": null,
            "overflow_x": null,
            "grid_auto_flow": null,
            "grid_area": null,
            "grid_template_columns": null,
            "flex": null,
            "_model_name": "LayoutModel",
            "justify_items": null,
            "grid_row": null,
            "max_height": null,
            "align_content": null,
            "visibility": null,
            "align_self": null,
            "height": null,
            "min_height": null,
            "padding": null,
            "grid_auto_rows": null,
            "grid_gap": null,
            "max_width": null,
            "order": null,
            "_view_module_version": "1.2.0",
            "grid_template_areas": null,
            "object_position": null,
            "object_fit": null,
            "grid_auto_columns": null,
            "margin": null,
            "display": null,
            "left": null
          }
        },
        "b5f1432b1a79483b9423dfca4d48ae21": {
          "model_module": "@jupyter-widgets/controls",
          "model_name": "ProgressStyleModel",
          "model_module_version": "1.5.0",
          "state": {
            "_view_name": "StyleView",
            "_model_name": "ProgressStyleModel",
            "description_width": "",
            "_view_module": "@jupyter-widgets/base",
            "_model_module_version": "1.5.0",
            "_view_count": null,
            "_view_module_version": "1.2.0",
            "bar_color": null,
            "_model_module": "@jupyter-widgets/controls"
          }
        },
        "38a5d7c2cc1b432eb716dfae569f7e0c": {
          "model_module": "@jupyter-widgets/base",
          "model_name": "LayoutModel",
          "model_module_version": "1.2.0",
          "state": {
            "_view_name": "LayoutView",
            "grid_template_rows": null,
            "right": null,
            "justify_content": null,
            "_view_module": "@jupyter-widgets/base",
            "overflow": null,
            "_model_module_version": "1.2.0",
            "_view_count": null,
            "flex_flow": null,
            "width": null,
            "min_width": null,
            "border": null,
            "align_items": null,
            "bottom": null,
            "_model_module": "@jupyter-widgets/base",
            "top": null,
            "grid_column": null,
            "overflow_y": null,
            "overflow_x": null,
            "grid_auto_flow": null,
            "grid_area": null,
            "grid_template_columns": null,
            "flex": "2",
            "_model_name": "LayoutModel",
            "justify_items": null,
            "grid_row": null,
            "max_height": null,
            "align_content": null,
            "visibility": null,
            "align_self": null,
            "height": null,
            "min_height": null,
            "padding": null,
            "grid_auto_rows": null,
            "grid_gap": null,
            "max_width": null,
            "order": null,
            "_view_module_version": "1.2.0",
            "grid_template_areas": null,
            "object_position": null,
            "object_fit": null,
            "grid_auto_columns": null,
            "margin": null,
            "display": null,
            "left": null
          }
        },
        "f65578cb3fd1459a8ab72540e8dc8477": {
          "model_module": "@jupyter-widgets/controls",
          "model_name": "DescriptionStyleModel",
          "model_module_version": "1.5.0",
          "state": {
            "_view_name": "StyleView",
            "_model_name": "DescriptionStyleModel",
            "description_width": "",
            "_view_module": "@jupyter-widgets/base",
            "_model_module_version": "1.5.0",
            "_view_count": null,
            "_view_module_version": "1.2.0",
            "_model_module": "@jupyter-widgets/controls"
          }
        },
        "2f20f3789c2e480b86c258cbcc482b1b": {
          "model_module": "@jupyter-widgets/base",
          "model_name": "LayoutModel",
          "model_module_version": "1.2.0",
          "state": {
            "_view_name": "LayoutView",
            "grid_template_rows": null,
            "right": null,
            "justify_content": null,
            "_view_module": "@jupyter-widgets/base",
            "overflow": null,
            "_model_module_version": "1.2.0",
            "_view_count": null,
            "flex_flow": null,
            "width": null,
            "min_width": null,
            "border": null,
            "align_items": null,
            "bottom": null,
            "_model_module": "@jupyter-widgets/base",
            "top": null,
            "grid_column": null,
            "overflow_y": null,
            "overflow_x": null,
            "grid_auto_flow": null,
            "grid_area": null,
            "grid_template_columns": null,
            "flex": null,
            "_model_name": "LayoutModel",
            "justify_items": null,
            "grid_row": null,
            "max_height": null,
            "align_content": null,
            "visibility": null,
            "align_self": null,
            "height": null,
            "min_height": null,
            "padding": null,
            "grid_auto_rows": null,
            "grid_gap": null,
            "max_width": null,
            "order": null,
            "_view_module_version": "1.2.0",
            "grid_template_areas": null,
            "object_position": null,
            "object_fit": null,
            "grid_auto_columns": null,
            "margin": null,
            "display": null,
            "left": null
          }
        },
        "829796fd924140c999670fb6549fb590": {
          "model_module": "@jupyter-widgets/controls",
          "model_name": "HBoxModel",
          "model_module_version": "1.5.0",
          "state": {
            "_view_name": "HBoxView",
            "_dom_classes": [],
            "_model_name": "HBoxModel",
            "_view_module": "@jupyter-widgets/controls",
            "_model_module_version": "1.5.0",
            "_view_count": null,
            "_view_module_version": "1.5.0",
            "box_style": "",
            "layout": "IPY_MODEL_440cdc37ad4f4ba2b6c7f881e70b4614",
            "_model_module": "@jupyter-widgets/controls",
            "children": [
              "IPY_MODEL_fb2fb30849434db6a6176d9b00598894",
              "IPY_MODEL_9823c80dc9b94dab95ee36354af81335",
              "IPY_MODEL_75f0722db4e0412187ca23e395e76a73"
            ]
          }
        },
        "440cdc37ad4f4ba2b6c7f881e70b4614": {
          "model_module": "@jupyter-widgets/base",
          "model_name": "LayoutModel",
          "model_module_version": "1.2.0",
          "state": {
            "_view_name": "LayoutView",
            "grid_template_rows": null,
            "right": null,
            "justify_content": null,
            "_view_module": "@jupyter-widgets/base",
            "overflow": null,
            "_model_module_version": "1.2.0",
            "_view_count": null,
            "flex_flow": "row wrap",
            "width": "100%",
            "min_width": null,
            "border": null,
            "align_items": null,
            "bottom": null,
            "_model_module": "@jupyter-widgets/base",
            "top": null,
            "grid_column": null,
            "overflow_y": null,
            "overflow_x": null,
            "grid_auto_flow": null,
            "grid_area": null,
            "grid_template_columns": null,
            "flex": null,
            "_model_name": "LayoutModel",
            "justify_items": null,
            "grid_row": null,
            "max_height": null,
            "align_content": null,
            "visibility": null,
            "align_self": null,
            "height": null,
            "min_height": null,
            "padding": null,
            "grid_auto_rows": null,
            "grid_gap": null,
            "max_width": null,
            "order": null,
            "_view_module_version": "1.2.0",
            "grid_template_areas": null,
            "object_position": null,
            "object_fit": null,
            "grid_auto_columns": null,
            "margin": null,
            "display": "inline-flex",
            "left": null
          }
        },
        "fb2fb30849434db6a6176d9b00598894": {
          "model_module": "@jupyter-widgets/controls",
          "model_name": "HTMLModel",
          "model_module_version": "1.5.0",
          "state": {
            "_view_name": "HTMLView",
            "style": "IPY_MODEL_7d39e20e8e914be18796dea8c1e23af8",
            "_dom_classes": [],
            "description": "",
            "_model_name": "HTMLModel",
            "placeholder": "​",
            "_view_module": "@jupyter-widgets/controls",
            "_model_module_version": "1.5.0",
            "value": "Validating: 100%",
            "_view_count": null,
            "_view_module_version": "1.5.0",
            "description_tooltip": null,
            "_model_module": "@jupyter-widgets/controls",
            "layout": "IPY_MODEL_f353f87d8ebb46f9b513ca6fd5c156a2"
          }
        },
        "9823c80dc9b94dab95ee36354af81335": {
          "model_module": "@jupyter-widgets/controls",
          "model_name": "FloatProgressModel",
          "model_module_version": "1.5.0",
          "state": {
            "_view_name": "ProgressView",
            "style": "IPY_MODEL_7eada05bbb84475b8a2f6f28e8b2974e",
            "_dom_classes": [],
            "description": "",
            "_model_name": "FloatProgressModel",
            "bar_style": "",
            "max": 2159,
            "_view_module": "@jupyter-widgets/controls",
            "_model_module_version": "1.5.0",
            "value": 2159,
            "_view_count": null,
            "_view_module_version": "1.5.0",
            "orientation": "horizontal",
            "min": 0,
            "description_tooltip": null,
            "_model_module": "@jupyter-widgets/controls",
            "layout": "IPY_MODEL_6b084d5021b34dedb8c5fd0a9fa4d417"
          }
        },
        "75f0722db4e0412187ca23e395e76a73": {
          "model_module": "@jupyter-widgets/controls",
          "model_name": "HTMLModel",
          "model_module_version": "1.5.0",
          "state": {
            "_view_name": "HTMLView",
            "style": "IPY_MODEL_112993e16691463bb8dc25c7161b7eee",
            "_dom_classes": [],
            "description": "",
            "_model_name": "HTMLModel",
            "placeholder": "​",
            "_view_module": "@jupyter-widgets/controls",
            "_model_module_version": "1.5.0",
            "value": " 2159/2159 [02:18&lt;00:00, 15.28it/s]",
            "_view_count": null,
            "_view_module_version": "1.5.0",
            "description_tooltip": null,
            "_model_module": "@jupyter-widgets/controls",
            "layout": "IPY_MODEL_a146393edff3459faa8293d8e5e15b2f"
          }
        },
        "7d39e20e8e914be18796dea8c1e23af8": {
          "model_module": "@jupyter-widgets/controls",
          "model_name": "DescriptionStyleModel",
          "model_module_version": "1.5.0",
          "state": {
            "_view_name": "StyleView",
            "_model_name": "DescriptionStyleModel",
            "description_width": "",
            "_view_module": "@jupyter-widgets/base",
            "_model_module_version": "1.5.0",
            "_view_count": null,
            "_view_module_version": "1.2.0",
            "_model_module": "@jupyter-widgets/controls"
          }
        },
        "f353f87d8ebb46f9b513ca6fd5c156a2": {
          "model_module": "@jupyter-widgets/base",
          "model_name": "LayoutModel",
          "model_module_version": "1.2.0",
          "state": {
            "_view_name": "LayoutView",
            "grid_template_rows": null,
            "right": null,
            "justify_content": null,
            "_view_module": "@jupyter-widgets/base",
            "overflow": null,
            "_model_module_version": "1.2.0",
            "_view_count": null,
            "flex_flow": null,
            "width": null,
            "min_width": null,
            "border": null,
            "align_items": null,
            "bottom": null,
            "_model_module": "@jupyter-widgets/base",
            "top": null,
            "grid_column": null,
            "overflow_y": null,
            "overflow_x": null,
            "grid_auto_flow": null,
            "grid_area": null,
            "grid_template_columns": null,
            "flex": null,
            "_model_name": "LayoutModel",
            "justify_items": null,
            "grid_row": null,
            "max_height": null,
            "align_content": null,
            "visibility": null,
            "align_self": null,
            "height": null,
            "min_height": null,
            "padding": null,
            "grid_auto_rows": null,
            "grid_gap": null,
            "max_width": null,
            "order": null,
            "_view_module_version": "1.2.0",
            "grid_template_areas": null,
            "object_position": null,
            "object_fit": null,
            "grid_auto_columns": null,
            "margin": null,
            "display": null,
            "left": null
          }
        },
        "7eada05bbb84475b8a2f6f28e8b2974e": {
          "model_module": "@jupyter-widgets/controls",
          "model_name": "ProgressStyleModel",
          "model_module_version": "1.5.0",
          "state": {
            "_view_name": "StyleView",
            "_model_name": "ProgressStyleModel",
            "description_width": "",
            "_view_module": "@jupyter-widgets/base",
            "_model_module_version": "1.5.0",
            "_view_count": null,
            "_view_module_version": "1.2.0",
            "bar_color": null,
            "_model_module": "@jupyter-widgets/controls"
          }
        },
        "6b084d5021b34dedb8c5fd0a9fa4d417": {
          "model_module": "@jupyter-widgets/base",
          "model_name": "LayoutModel",
          "model_module_version": "1.2.0",
          "state": {
            "_view_name": "LayoutView",
            "grid_template_rows": null,
            "right": null,
            "justify_content": null,
            "_view_module": "@jupyter-widgets/base",
            "overflow": null,
            "_model_module_version": "1.2.0",
            "_view_count": null,
            "flex_flow": null,
            "width": null,
            "min_width": null,
            "border": null,
            "align_items": null,
            "bottom": null,
            "_model_module": "@jupyter-widgets/base",
            "top": null,
            "grid_column": null,
            "overflow_y": null,
            "overflow_x": null,
            "grid_auto_flow": null,
            "grid_area": null,
            "grid_template_columns": null,
            "flex": "2",
            "_model_name": "LayoutModel",
            "justify_items": null,
            "grid_row": null,
            "max_height": null,
            "align_content": null,
            "visibility": null,
            "align_self": null,
            "height": null,
            "min_height": null,
            "padding": null,
            "grid_auto_rows": null,
            "grid_gap": null,
            "max_width": null,
            "order": null,
            "_view_module_version": "1.2.0",
            "grid_template_areas": null,
            "object_position": null,
            "object_fit": null,
            "grid_auto_columns": null,
            "margin": null,
            "display": null,
            "left": null
          }
        },
        "112993e16691463bb8dc25c7161b7eee": {
          "model_module": "@jupyter-widgets/controls",
          "model_name": "DescriptionStyleModel",
          "model_module_version": "1.5.0",
          "state": {
            "_view_name": "StyleView",
            "_model_name": "DescriptionStyleModel",
            "description_width": "",
            "_view_module": "@jupyter-widgets/base",
            "_model_module_version": "1.5.0",
            "_view_count": null,
            "_view_module_version": "1.2.0",
            "_model_module": "@jupyter-widgets/controls"
          }
        },
        "a146393edff3459faa8293d8e5e15b2f": {
          "model_module": "@jupyter-widgets/base",
          "model_name": "LayoutModel",
          "model_module_version": "1.2.0",
          "state": {
            "_view_name": "LayoutView",
            "grid_template_rows": null,
            "right": null,
            "justify_content": null,
            "_view_module": "@jupyter-widgets/base",
            "overflow": null,
            "_model_module_version": "1.2.0",
            "_view_count": null,
            "flex_flow": null,
            "width": null,
            "min_width": null,
            "border": null,
            "align_items": null,
            "bottom": null,
            "_model_module": "@jupyter-widgets/base",
            "top": null,
            "grid_column": null,
            "overflow_y": null,
            "overflow_x": null,
            "grid_auto_flow": null,
            "grid_area": null,
            "grid_template_columns": null,
            "flex": null,
            "_model_name": "LayoutModel",
            "justify_items": null,
            "grid_row": null,
            "max_height": null,
            "align_content": null,
            "visibility": null,
            "align_self": null,
            "height": null,
            "min_height": null,
            "padding": null,
            "grid_auto_rows": null,
            "grid_gap": null,
            "max_width": null,
            "order": null,
            "_view_module_version": "1.2.0",
            "grid_template_areas": null,
            "object_position": null,
            "object_fit": null,
            "grid_auto_columns": null,
            "margin": null,
            "display": null,
            "left": null
          }
        },
        "47893e875ad94fd98c2c7a90bbfc91f8": {
          "model_module": "@jupyter-widgets/controls",
          "model_name": "HBoxModel",
          "model_module_version": "1.5.0",
          "state": {
            "_view_name": "HBoxView",
            "_dom_classes": [],
            "_model_name": "HBoxModel",
            "_view_module": "@jupyter-widgets/controls",
            "_model_module_version": "1.5.0",
            "_view_count": null,
            "_view_module_version": "1.5.0",
            "box_style": "",
            "layout": "IPY_MODEL_94d103489c7d46b0a8eb525029469314",
            "_model_module": "@jupyter-widgets/controls",
            "children": [
              "IPY_MODEL_5ba5353ee2e74c94a0a7f99628f0046f",
              "IPY_MODEL_714406f119704ac59f15502e8b9aa6bb",
              "IPY_MODEL_9a022cb84b5344b48e5016fdf440da4d"
            ]
          }
        },
        "94d103489c7d46b0a8eb525029469314": {
          "model_module": "@jupyter-widgets/base",
          "model_name": "LayoutModel",
          "model_module_version": "1.2.0",
          "state": {
            "_view_name": "LayoutView",
            "grid_template_rows": null,
            "right": null,
            "justify_content": null,
            "_view_module": "@jupyter-widgets/base",
            "overflow": null,
            "_model_module_version": "1.2.0",
            "_view_count": null,
            "flex_flow": "row wrap",
            "width": "100%",
            "min_width": null,
            "border": null,
            "align_items": null,
            "bottom": null,
            "_model_module": "@jupyter-widgets/base",
            "top": null,
            "grid_column": null,
            "overflow_y": null,
            "overflow_x": null,
            "grid_auto_flow": null,
            "grid_area": null,
            "grid_template_columns": null,
            "flex": null,
            "_model_name": "LayoutModel",
            "justify_items": null,
            "grid_row": null,
            "max_height": null,
            "align_content": null,
            "visibility": null,
            "align_self": null,
            "height": null,
            "min_height": null,
            "padding": null,
            "grid_auto_rows": null,
            "grid_gap": null,
            "max_width": null,
            "order": null,
            "_view_module_version": "1.2.0",
            "grid_template_areas": null,
            "object_position": null,
            "object_fit": null,
            "grid_auto_columns": null,
            "margin": null,
            "display": "inline-flex",
            "left": null
          }
        },
        "5ba5353ee2e74c94a0a7f99628f0046f": {
          "model_module": "@jupyter-widgets/controls",
          "model_name": "HTMLModel",
          "model_module_version": "1.5.0",
          "state": {
            "_view_name": "HTMLView",
            "style": "IPY_MODEL_44a8ba3a4e4e47599152bd2383e584db",
            "_dom_classes": [],
            "description": "",
            "_model_name": "HTMLModel",
            "placeholder": "​",
            "_view_module": "@jupyter-widgets/controls",
            "_model_module_version": "1.5.0",
            "value": "Validating: 100%",
            "_view_count": null,
            "_view_module_version": "1.5.0",
            "description_tooltip": null,
            "_model_module": "@jupyter-widgets/controls",
            "layout": "IPY_MODEL_ed90634506a94a81a7ca45c3a7e0ea4e"
          }
        },
        "714406f119704ac59f15502e8b9aa6bb": {
          "model_module": "@jupyter-widgets/controls",
          "model_name": "FloatProgressModel",
          "model_module_version": "1.5.0",
          "state": {
            "_view_name": "ProgressView",
            "style": "IPY_MODEL_5f2d9f6fa1c24a94ab464f4e4a9b9dd0",
            "_dom_classes": [],
            "description": "",
            "_model_name": "FloatProgressModel",
            "bar_style": "",
            "max": 2159,
            "_view_module": "@jupyter-widgets/controls",
            "_model_module_version": "1.5.0",
            "value": 2159,
            "_view_count": null,
            "_view_module_version": "1.5.0",
            "orientation": "horizontal",
            "min": 0,
            "description_tooltip": null,
            "_model_module": "@jupyter-widgets/controls",
            "layout": "IPY_MODEL_f870c4701e474f0faa881cfd95290383"
          }
        },
        "9a022cb84b5344b48e5016fdf440da4d": {
          "model_module": "@jupyter-widgets/controls",
          "model_name": "HTMLModel",
          "model_module_version": "1.5.0",
          "state": {
            "_view_name": "HTMLView",
            "style": "IPY_MODEL_aabd39e1f7de4c3e908d4cf59df03310",
            "_dom_classes": [],
            "description": "",
            "_model_name": "HTMLModel",
            "placeholder": "​",
            "_view_module": "@jupyter-widgets/controls",
            "_model_module_version": "1.5.0",
            "value": " 2159/2159 [02:20&lt;00:00, 15.07it/s]",
            "_view_count": null,
            "_view_module_version": "1.5.0",
            "description_tooltip": null,
            "_model_module": "@jupyter-widgets/controls",
            "layout": "IPY_MODEL_fcbe2d8e3b8c418aaaf94a879a610be7"
          }
        },
        "44a8ba3a4e4e47599152bd2383e584db": {
          "model_module": "@jupyter-widgets/controls",
          "model_name": "DescriptionStyleModel",
          "model_module_version": "1.5.0",
          "state": {
            "_view_name": "StyleView",
            "_model_name": "DescriptionStyleModel",
            "description_width": "",
            "_view_module": "@jupyter-widgets/base",
            "_model_module_version": "1.5.0",
            "_view_count": null,
            "_view_module_version": "1.2.0",
            "_model_module": "@jupyter-widgets/controls"
          }
        },
        "ed90634506a94a81a7ca45c3a7e0ea4e": {
          "model_module": "@jupyter-widgets/base",
          "model_name": "LayoutModel",
          "model_module_version": "1.2.0",
          "state": {
            "_view_name": "LayoutView",
            "grid_template_rows": null,
            "right": null,
            "justify_content": null,
            "_view_module": "@jupyter-widgets/base",
            "overflow": null,
            "_model_module_version": "1.2.0",
            "_view_count": null,
            "flex_flow": null,
            "width": null,
            "min_width": null,
            "border": null,
            "align_items": null,
            "bottom": null,
            "_model_module": "@jupyter-widgets/base",
            "top": null,
            "grid_column": null,
            "overflow_y": null,
            "overflow_x": null,
            "grid_auto_flow": null,
            "grid_area": null,
            "grid_template_columns": null,
            "flex": null,
            "_model_name": "LayoutModel",
            "justify_items": null,
            "grid_row": null,
            "max_height": null,
            "align_content": null,
            "visibility": null,
            "align_self": null,
            "height": null,
            "min_height": null,
            "padding": null,
            "grid_auto_rows": null,
            "grid_gap": null,
            "max_width": null,
            "order": null,
            "_view_module_version": "1.2.0",
            "grid_template_areas": null,
            "object_position": null,
            "object_fit": null,
            "grid_auto_columns": null,
            "margin": null,
            "display": null,
            "left": null
          }
        },
        "5f2d9f6fa1c24a94ab464f4e4a9b9dd0": {
          "model_module": "@jupyter-widgets/controls",
          "model_name": "ProgressStyleModel",
          "model_module_version": "1.5.0",
          "state": {
            "_view_name": "StyleView",
            "_model_name": "ProgressStyleModel",
            "description_width": "",
            "_view_module": "@jupyter-widgets/base",
            "_model_module_version": "1.5.0",
            "_view_count": null,
            "_view_module_version": "1.2.0",
            "bar_color": null,
            "_model_module": "@jupyter-widgets/controls"
          }
        },
        "f870c4701e474f0faa881cfd95290383": {
          "model_module": "@jupyter-widgets/base",
          "model_name": "LayoutModel",
          "model_module_version": "1.2.0",
          "state": {
            "_view_name": "LayoutView",
            "grid_template_rows": null,
            "right": null,
            "justify_content": null,
            "_view_module": "@jupyter-widgets/base",
            "overflow": null,
            "_model_module_version": "1.2.0",
            "_view_count": null,
            "flex_flow": null,
            "width": null,
            "min_width": null,
            "border": null,
            "align_items": null,
            "bottom": null,
            "_model_module": "@jupyter-widgets/base",
            "top": null,
            "grid_column": null,
            "overflow_y": null,
            "overflow_x": null,
            "grid_auto_flow": null,
            "grid_area": null,
            "grid_template_columns": null,
            "flex": "2",
            "_model_name": "LayoutModel",
            "justify_items": null,
            "grid_row": null,
            "max_height": null,
            "align_content": null,
            "visibility": null,
            "align_self": null,
            "height": null,
            "min_height": null,
            "padding": null,
            "grid_auto_rows": null,
            "grid_gap": null,
            "max_width": null,
            "order": null,
            "_view_module_version": "1.2.0",
            "grid_template_areas": null,
            "object_position": null,
            "object_fit": null,
            "grid_auto_columns": null,
            "margin": null,
            "display": null,
            "left": null
          }
        },
        "aabd39e1f7de4c3e908d4cf59df03310": {
          "model_module": "@jupyter-widgets/controls",
          "model_name": "DescriptionStyleModel",
          "model_module_version": "1.5.0",
          "state": {
            "_view_name": "StyleView",
            "_model_name": "DescriptionStyleModel",
            "description_width": "",
            "_view_module": "@jupyter-widgets/base",
            "_model_module_version": "1.5.0",
            "_view_count": null,
            "_view_module_version": "1.2.0",
            "_model_module": "@jupyter-widgets/controls"
          }
        },
        "fcbe2d8e3b8c418aaaf94a879a610be7": {
          "model_module": "@jupyter-widgets/base",
          "model_name": "LayoutModel",
          "model_module_version": "1.2.0",
          "state": {
            "_view_name": "LayoutView",
            "grid_template_rows": null,
            "right": null,
            "justify_content": null,
            "_view_module": "@jupyter-widgets/base",
            "overflow": null,
            "_model_module_version": "1.2.0",
            "_view_count": null,
            "flex_flow": null,
            "width": null,
            "min_width": null,
            "border": null,
            "align_items": null,
            "bottom": null,
            "_model_module": "@jupyter-widgets/base",
            "top": null,
            "grid_column": null,
            "overflow_y": null,
            "overflow_x": null,
            "grid_auto_flow": null,
            "grid_area": null,
            "grid_template_columns": null,
            "flex": null,
            "_model_name": "LayoutModel",
            "justify_items": null,
            "grid_row": null,
            "max_height": null,
            "align_content": null,
            "visibility": null,
            "align_self": null,
            "height": null,
            "min_height": null,
            "padding": null,
            "grid_auto_rows": null,
            "grid_gap": null,
            "max_width": null,
            "order": null,
            "_view_module_version": "1.2.0",
            "grid_template_areas": null,
            "object_position": null,
            "object_fit": null,
            "grid_auto_columns": null,
            "margin": null,
            "display": null,
            "left": null
          }
        }
      }
    }
  },
  "cells": [
    {
      "cell_type": "markdown",
      "metadata": {
        "id": "view-in-github",
        "colab_type": "text"
      },
      "source": [
        "<a href=\"https://colab.research.google.com/github/katearb/Data-Science-Notebooks/blob/master/3_Sequence_Labeling.ipynb\" target=\"_parent\"><img src=\"https://colab.research.google.com/assets/colab-badge.svg\" alt=\"Open In Colab\"/></a>"
      ]
    },
    {
      "cell_type": "code",
      "execution_count": null,
      "metadata": {
        "id": "A_pEHqIIDNrv"
      },
      "outputs": [],
      "source": [
        "!wget https://github.com/katearb/files/raw/main/ner_dataset.csv.zip"
      ]
    },
    {
      "cell_type": "code",
      "source": [
        "!unzip /content/ner_dataset.csv.zip"
      ],
      "metadata": {
        "colab": {
          "base_uri": "https://localhost:8080/"
        },
        "id": "N8x-ZYAQDRgv",
        "outputId": "762a498c-bf2e-4ed1-920f-1cf71200624b"
      },
      "execution_count": null,
      "outputs": [
        {
          "output_type": "stream",
          "name": "stdout",
          "text": [
            "Archive:  /content/ner_dataset.csv.zip\n",
            "  inflating: ner_dataset.csv         \n"
          ]
        }
      ]
    },
    {
      "cell_type": "code",
      "source": [
        "import pandas as pd\n",
        "import numpy as np\n",
        "from sklearn.model_selection import train_test_split\n",
        "from functools import wraps\n",
        "import time\n",
        "import re"
      ],
      "metadata": {
        "id": "cj5DwD0ZEx_i"
      },
      "execution_count": null,
      "outputs": []
    },
    {
      "cell_type": "code",
      "source": [
        "def timing(func):\n",
        "    \"\"\"timefunc's doc\"\"\"\n",
        "\n",
        "    @wraps(func)\n",
        "    def time_closure(*args, **kwargs):\n",
        "        \"\"\"time_wrapper's doc string\"\"\"\n",
        "        start = time.perf_counter()\n",
        "        result = func(*args, **kwargs)\n",
        "        time_elapsed = time.perf_counter() - start\n",
        "        print(f\"Function: {func.__name__}, Time: {time_elapsed}\")\n",
        "        return result, time_elapsed\n",
        "\n",
        "    return time_closure"
      ],
      "metadata": {
        "id": "dLZruBCYt_bk"
      },
      "execution_count": null,
      "outputs": []
    },
    {
      "cell_type": "code",
      "source": [
        "data = pd.read_csv(r'/content/ner_dataset.csv', encoding='unicode_escape')\n",
        "data.fillna(method = 'ffill', inplace = True)"
      ],
      "metadata": {
        "id": "y1iUR-lUFSA8"
      },
      "execution_count": null,
      "outputs": []
    },
    {
      "cell_type": "markdown",
      "source": [
        "### Data Exploration"
      ],
      "metadata": {
        "id": "sPmQ3G_PHFp5"
      }
    },
    {
      "cell_type": "code",
      "source": [
        "import matplotlib.pyplot as plt\n",
        "import seaborn as sns "
      ],
      "metadata": {
        "id": "Uz3_s_l_rqDo"
      },
      "execution_count": null,
      "outputs": []
    },
    {
      "cell_type": "code",
      "source": [
        "data.shape"
      ],
      "metadata": {
        "colab": {
          "base_uri": "https://localhost:8080/"
        },
        "id": "nmQ4P9a1fTPB",
        "outputId": "3bb28fe1-3457-48b0-bbbf-2a2623701d26"
      },
      "execution_count": null,
      "outputs": [
        {
          "output_type": "execute_result",
          "data": {
            "text/plain": [
              "(1048575, 4)"
            ]
          },
          "metadata": {},
          "execution_count": 14
        }
      ]
    },
    {
      "cell_type": "code",
      "source": [
        "word_len = pd.Series([len(x) for x in data['Word']])"
      ],
      "metadata": {
        "id": "0yJGzgL8Mf0V"
      },
      "execution_count": null,
      "outputs": []
    },
    {
      "cell_type": "code",
      "source": [
        "plt.figure(figsize=(15, 8))\n",
        "sns.histplot(data=word_len, binwidth=1)\n",
        "plt.gca().set(xlabel='Word lenght', ylabel='Count', title='Word lenght distribution')\n",
        "plt.show()"
      ],
      "metadata": {
        "colab": {
          "base_uri": "https://localhost:8080/"
        },
        "id": "EX1hsCCTG_e6",
        "outputId": "3ab0b05c-cd8a-44ae-eec1-6b178f709c8a"
      },
      "execution_count": null,
      "outputs": [
        {
          "output_type": "display_data",
          "data": {
            "image/png": "[encoded data removed]",
            "text/plain": [
              "<Figure size 1080x576 with 1 Axes>"
            ]
          },
          "metadata": {
            "needs_background": "light"
          }
        }
      ]
    },
    {
      "cell_type": "code",
      "source": [
        "plt.figure(figsize=(15, 5))\n",
        "sns.boxplot(data=word_len, orient='h')"
      ],
      "metadata": {
        "colab": {
          "base_uri": "https://localhost:8080/"
        },
        "id": "JOZQ6vvKHsYn",
        "outputId": "a2914ec3-21b5-411a-e836-2bbadec06fe1"
      },
      "execution_count": null,
      "outputs": [
        {
          "output_type": "execute_result",
          "data": {
            "text/plain": [
              "<matplotlib.axes._subplots.AxesSubplot at 0x7f1a01cffa10>"
            ]
          },
          "metadata": {},
          "execution_count": 44
        },
        {
          "output_type": "display_data",
          "data": {
            "image/png": "[encoded data removed]",
            "text/plain": [
              "<Figure size 1080x360 with 1 Axes>"
            ]
          },
          "metadata": {
            "needs_background": "light"
          }
        }
      ]
    },
    {
      "cell_type": "code",
      "source": [
        "# vocabulary size\n",
        "print('Vocabulary size:', len(set(data['Word'])))"
      ],
      "metadata": {
        "colab": {
          "base_uri": "https://localhost:8080/"
        },
        "id": "Crr8ehssqxOp",
        "outputId": "efb624a4-d9bf-4b75-bd24-a398f7321646"
      },
      "execution_count": null,
      "outputs": [
        {
          "output_type": "stream",
          "name": "stdout",
          "text": [
            "Vocabulary size: 35178\n"
          ]
        }
      ]
    },
    {
      "cell_type": "code",
      "source": [
        "# top frequent words\n",
        "bar_info = data['Word'].value_counts()[:50]\n",
        "\n",
        "plt.figure(figsize=(25, 8))\n",
        "plt.xticks(rotation=-45)\n",
        "plt.title('Top-50 frequent words')\n",
        "\n",
        "sns.barplot(x=bar_info.index, y=bar_info)\n",
        "\n",
        "plt.gca().set(ylabel='Count')\n",
        "plt.show()"
      ],
      "metadata": {
        "colab": {
          "base_uri": "https://localhost:8080/"
        },
        "id": "x8WoX0Q1HwBj",
        "outputId": "a3a09cb3-2d8d-47f2-d585-24c1609b2137"
      },
      "execution_count": null,
      "outputs": [
        {
          "output_type": "display_data",
          "data": {
            "image/png": "[encoded data removed]",
            "text/plain": [
              "<Figure size 1800x576 with 1 Axes>"
            ]
          },
          "metadata": {
            "needs_background": "light"
          }
        }
      ]
    },
    {
      "cell_type": "markdown",
      "source": [
        "In the top of the most frequent words, most are stopwords and punctuation, but some NERs are persented too: U.S., Mr., President etc."
      ],
      "metadata": {
        "id": "fxWMbUhkE8Xy"
      }
    },
    {
      "cell_type": "code",
      "source": [
        "# top tags\n",
        "bar_info = data['Tag'].value_counts()[1:]\n",
        "\n",
        "plt.figure(figsize=(20, 5))\n",
        "plt.xticks(rotation=-45)\n",
        "plt.title('Top frequent tags')\n",
        "\n",
        "sns.barplot(x=bar_info.index, y=bar_info)\n",
        "\n",
        "plt.gca().set(ylabel='Count')\n",
        "plt.show()"
      ],
      "metadata": {
        "colab": {
          "base_uri": "https://localhost:8080/"
        },
        "id": "PUIPSSshti0k",
        "outputId": "40ceca60-6da2-492e-cad6-18205165bca8"
      },
      "execution_count": null,
      "outputs": [
        {
          "output_type": "display_data",
          "data": {
            "image/png": "[encoded data removed]",
            "text/plain": [
              "<Figure size 1440x360 with 1 Axes>"
            ]
          },
          "metadata": {
            "needs_background": "light"
          }
        }
      ]
    },
    {
      "cell_type": "markdown",
      "source": [
        "Most frequent NER tag is B-geo. It is almost twice more frequent compared to the second place (B-tim). Almost a half of the tags is extremely rare: art, eve and nat.\n",
        "\n",
        "\"Per\" tag is the only tag where \"I\" prefix is more frequent than \"B\" prefix. This means that most of \"Per\" entities contain more than > 2 tokens inside."
      ],
      "metadata": {
        "id": "1M6Tu8OfFiqm"
      }
    },
    {
      "cell_type": "code",
      "source": [
        "# top NER\n",
        "bar_info = data[data['Tag'] != 'O']['Word'].value_counts()[:20]\n",
        "\n",
        "plt.figure(figsize=(25, 8))\n",
        "plt.xticks(rotation=-45)\n",
        "plt.title('Top-50 frequent NER')\n",
        "\n",
        "sns.barplot(x=bar_info.index, y=bar_info)\n",
        "\n",
        "plt.gca().set(ylabel='Count')\n",
        "plt.show()"
      ],
      "metadata": {
        "colab": {
          "base_uri": "https://localhost:8080/"
        },
        "id": "GJGIIq0Br69S",
        "outputId": "88b33fb0-0a88-445a-ed9c-704f66cf2cca"
      },
      "execution_count": null,
      "outputs": [
        {
          "output_type": "display_data",
          "data": {
            "image/png": "[encoded data removed]",
            "text/plain": [
              "<Figure size 1800x576 with 1 Axes>"
            ]
          },
          "metadata": {
            "needs_background": "light"
          }
        }
      ]
    },
    {
      "cell_type": "markdown",
      "source": [
        "This bar chart explains the previous one. Most frequent ner tokens are connected with geographical places (countries names)  or are time-related (weekdays). Top-2 and top-3 tokens are person-related."
      ],
      "metadata": {
        "id": "-s0t8ajVGUSX"
      }
    },
    {
      "cell_type": "markdown",
      "source": [
        "# HMM"
      ],
      "metadata": {
        "id": "2S2z3JsMMjem"
      }
    },
    {
      "cell_type": "code",
      "source": [
        "class HMMTagger():\n",
        "    def __init__(self, states, observations):\n",
        "        \"\"\"Initialize HMM model with states and observations\n",
        "        :param states: array with unique hidden states (list)\n",
        "        :param observations: array with unique observations (list)\n",
        "        \"\"\"\n",
        "        # add 'Unk' to handle unkown tokens\n",
        "        self.states = states\n",
        "        self.observations = [*observations, 'Unk']\n",
        "        self.states_num = len(self.states)\n",
        "        self.observations_num = len(self.observations)\n",
        "\n",
        "        self.init_prob = np.zeros(shape=(1, self.states_num))\n",
        "        self.transition_matrix = np.zeros(shape=(self.states_num,self.states_num))\n",
        "        self.emission_matrix = np.zeros(shape=(self.states_num, self.observations_num))\n",
        "\n",
        "        self.states_to_idx = {state:idx for idx, state in enumerate(self.states)}\n",
        "        self.observations_to_idx = {obs:idx for idx, obs in enumerate(self.observations)}\n",
        "        \n",
        "\n",
        "    def _update_init_prob(self, train_data):\n",
        "      initials = [sentence[0][0] for sentence in train_data]\n",
        "      initials_count = {tag: initials.count(self.states_to_idx[tag]) for tag in self.states}\n",
        "      total = sum(initials_count.values())\n",
        "\n",
        "      for i, tag in enumerate(self.states):\n",
        "        self.init_prob[0][i] = initials_count[tag] / total\n",
        "\n",
        "    def _normalize(self, matrix):\n",
        "        for i, row in enumerate(matrix):\n",
        "            sum_val = sum(row)\n",
        "            matrix[i] = row / sum_val\n",
        "        return matrix\n",
        "\n",
        "    def _update_transition_matrix(self, train_data):\n",
        "        tag_seq = [[tag for tag, word in sentence] for sentence in train_data]\n",
        "        transition = np.zeros(shape=(self.states_num,self.states_num))\n",
        "\n",
        "        pair_count = np.zeros(shape=(self.states_num,self.states_num))\n",
        "        tag_count = np.zeros(shape=(self.states_num))\n",
        "\n",
        "        for sentence in tag_seq:\n",
        "          for i, tag in enumerate(sentence):\n",
        "            tag_count[tag] += 1\n",
        "            if i > 0:\n",
        "              pair_count[sentence[i-1], tag] += 1\n",
        "        \n",
        "        for i in range(self.states_num):\n",
        "          for j in range(self.states_num):\n",
        "            transition[i, j] = pair_count[i, j] / tag_count[i]\n",
        "        \n",
        "        self.transition_matrix = self._normalize(transition)\n",
        "\n",
        "    def _update_emission_matrix(self, train_data):\n",
        "\n",
        "      tag_word_count = np.zeros(shape=(self.states_num,self.observations_num))\n",
        "      tag_count = np.zeros(shape=(self.states_num))\n",
        "      emission = np.zeros(shape=(self.states_num, self.observations_num))\n",
        "\n",
        "      for sentence in train_data:\n",
        "        for tag, word in sentence:\n",
        "          tag_count[tag] += 1\n",
        "          tag_word_count[tag, word] += 1\n",
        "      \n",
        "      voc_size = self.observations_num\n",
        "      for i in range(len(tag_count)):\n",
        "        for obs in range(self.observations_num):\n",
        "          emission[i, obs] = (tag_word_count[i, obs] + 1) / (tag_count[i] + voc_size)\n",
        "      \n",
        "      self.emission_matrix = self._normalize(emission)\n",
        "      return tag_count, tag_word_count\n",
        "\n",
        "    @timing\n",
        "    def fit(self, train_data):\n",
        "        \"\"\"Estimate initial probability vector, transition and emission matrices\n",
        "        :param train_data: list of sentecnes where each sentence is represented by list of tuples (state, observation)\n",
        "        \n",
        "        Example: train_data = [[('O', 'Thousands'),\n",
        "                                ('O', 'of'),\n",
        "                                ('O', 'demonstrators'),\n",
        "                                ('O', 'have'),\n",
        "                                ('O', 'marched'),\n",
        "                                ('O', 'through'),\n",
        "                                ('B-geo', 'London')],\n",
        "                               [('B-gpe', 'Iranian'),\n",
        "                                ('O', 'officials'),\n",
        "                                ('O', 'say'),\n",
        "                                ('O', 'they'),\n",
        "                                ('O', 'expect'),\n",
        "                                ('O', 'to'),\n",
        "                                ('O', 'get'),\n",
        "                                ('O', 'access')]]\n",
        "                                \n",
        "        \"\"\"\n",
        "        train_data = [[(self.states_to_idx[tag], \n",
        "                        self.observations_to_idx[word]) for tag, word in sentence] for sentence in train_data]\n",
        "        self._update_init_prob(train_data)\n",
        "        self._update_transition_matrix(train_data)\n",
        "        self._update_emission_matrix(train_data)\n",
        "\n",
        "    def __viterbi(self, obs_sequence_indices):\n",
        "        \"\"\"Decode incoming sequence of observations into the most propable sequence of hidden states using Viterbi algorithm\n",
        "        : param obs_sequence_indices: list of observations indices\n",
        "        :return: list of hidden states indices\n",
        "        \"\"\"\n",
        "        tmp = [0]*self.states_num\n",
        "\n",
        "        delta = [tmp[:]]  # Compute initial state probabilities\n",
        "        for i in range(self.states_num):\n",
        "          delta[0][i] = self.init_prob[0,i] * self.emission_matrix[i, obs_sequence_indices[0]]\n",
        "\n",
        "        phi = [tmp[:]]\n",
        "\n",
        "        for obs in obs_sequence_indices[1:]:  # For all observations except the inital one\n",
        "          delta_t = tmp[:]\n",
        "          phi_t = tmp[:]\n",
        "          for j in range(self.states_num):   # Following formula 33 in Rabiner'89\n",
        "            tdelta = tmp[:]\n",
        "            tphimax = -1.0\n",
        "            for i in range(self.states_num):\n",
        "              tphi_tmp = delta[-1][i] * self.transition_matrix[i,j]\n",
        "              if (tphi_tmp > tphimax):\n",
        "                tphimax = tphi_tmp\n",
        "                phi_t[j] = i\n",
        "              tdelta[i] = tphi_tmp * self.emission_matrix[j, obs]\n",
        "            delta_t[j] = max(tdelta)\n",
        "          delta.append(delta_t)\n",
        "          phi.append(phi_t)\n",
        "\n",
        "        # Backtrack the path through the states  (Formula 34 in Rabiner'89)\n",
        "        tmax = -1.0\n",
        "        for i in range(self.states_num):\n",
        "          if (delta[-1][i] > tmax):\n",
        "            tmax = delta[-1][i]\n",
        "            state_seq = [i]  # Last state with maximum probability\n",
        "\n",
        "        phi.reverse()  # Because we start from the end of the sequence\n",
        "        for tphi in phi[:-1]:\n",
        "          state_seq.append(tphi[state_seq[-1]])\n",
        "        return reversed(state_seq)\n",
        "\n",
        "    @timing\n",
        "    def predict(self, obser_seq):\n",
        "        \"\"\"Decode observable sequences using Viterbi algorithm\n",
        "        :param obser_seq: list of sentences where each sentence is represented by list of observations\n",
        "        :return: list of the most probable hidden states\n",
        "\n",
        "        Example: obser_seq = [['The','military','says','the','blast'],\n",
        "                              ['The','attack','prompted','Scandinavian','monitors','overseeing','Sri','Lanka']]\n",
        "        \"\"\"\n",
        "        idx_to_states = {v: k for k, v in self.states_to_idx.items()}\n",
        "        data = [[self.observations_to_idx[word] for word in sentence] for sentence in obser_seq]\n",
        "        decoded_sequences = [self.__viterbi(sentence) for sentence in data]\n",
        "\n",
        "        return [[idx_to_states[idx] for idx in decoded_seq] for decoded_seq in decoded_sequences]"
      ],
      "metadata": {
        "id": "xOm2IPUpMk1e"
      },
      "execution_count": null,
      "outputs": []
    },
    {
      "cell_type": "code",
      "source": [
        "def prepare_hmm_data(data):\n",
        "  take_word_tag = lambda x: [(t, w) for w, t in zip(x['Word'], x['Tag'])]\n",
        "  data_grouped = data.groupby(\"Sentence #\").apply(take_word_tag)\n",
        "\n",
        "  return data_grouped.to_list()"
      ],
      "metadata": {
        "id": "7UoTeO1HOnyN"
      },
      "execution_count": null,
      "outputs": []
    },
    {
      "cell_type": "code",
      "source": [
        "# prepare data got HMM\n",
        "hmm_data = prepare_hmm_data(data)\n",
        "\n",
        "# train test split\n",
        "train_hmm_data, test_hmm_data = train_test_split(hmm_data, test_size=0.1, random_state=100)\n",
        "\n",
        "test_hmm_true = [[tag for tag, word in sentence] for sentence in test_hmm_data]\n",
        "test_hmm_data = [[word for tag, word in sentence] for sentence in test_hmm_data]"
      ],
      "metadata": {
        "id": "S2Tldtk7VUlU"
      },
      "execution_count": null,
      "outputs": []
    },
    {
      "cell_type": "code",
      "source": [
        "# fit HMM\n",
        "states = set(data['Tag'])\n",
        "observ = set(data['Word'])\n",
        "test_hmm = HMMTagger(states, observ)\n",
        "_, hmm_train_time = test_hmm.fit(train_hmm_data)              "
      ],
      "metadata": {
        "id": "cO6OfqlKNpxB",
        "colab": {
          "base_uri": "https://localhost:8080/"
        },
        "outputId": "14141652-8d3e-4a47-945e-6b384b7cbd30"
      },
      "execution_count": null,
      "outputs": [
        {
          "output_type": "stream",
          "name": "stdout",
          "text": [
            "Function: fit, Time: 4.543928881999818\n"
          ]
        }
      ]
    },
    {
      "cell_type": "code",
      "source": [
        "# predict with HMM\n",
        "hmm_preds, hmm_pred_time = test_hmm.predict(test_hmm_data)"
      ],
      "metadata": {
        "id": "9TFwIZOXYf7M",
        "colab": {
          "base_uri": "https://localhost:8080/"
        },
        "outputId": "db44f87b-5a6a-4917-bcb7-121563f6a1d6"
      },
      "execution_count": null,
      "outputs": [
        {
          "output_type": "stream",
          "name": "stdout",
          "text": [
            "Function: predict, Time: 28.961273798000093\n"
          ]
        }
      ]
    },
    {
      "cell_type": "markdown",
      "source": [
        "# Spacy"
      ],
      "metadata": {
        "id": "C6M16ZO2ZM2c"
      }
    },
    {
      "cell_type": "code",
      "source": [
        "import spacy\n",
        "from spacy import displacy\n",
        "from collections import Counter\n",
        "import en_core_web_sm\n",
        "import re"
      ],
      "metadata": {
        "id": "7A09BFQKw2YY"
      },
      "execution_count": null,
      "outputs": []
    },
    {
      "cell_type": "code",
      "source": [
        "nlp = en_core_web_sm.load()"
      ],
      "metadata": {
        "id": "bSOEoG73VZTO"
      },
      "execution_count": null,
      "outputs": []
    },
    {
      "cell_type": "markdown",
      "source": [
        "##### prepare data"
      ],
      "metadata": {
        "id": "fKvJsVWcTc7o"
      }
    },
    {
      "cell_type": "code",
      "source": [
        "def get_sentences_str(data):\n",
        "  join_str = lambda x: ' '.join(x['Word'])\n",
        "  data_grouped = data.groupby(\"Sentence #\").apply(join_str)\n",
        "  return [s for s in data_grouped]"
      ],
      "metadata": {
        "id": "jj4HUXa-NkVa"
      },
      "execution_count": null,
      "outputs": []
    },
    {
      "cell_type": "code",
      "source": [
        "data_spacy = get_sentences_str(data)"
      ],
      "metadata": {
        "id": "921efphlr0Ve"
      },
      "execution_count": null,
      "outputs": []
    },
    {
      "cell_type": "markdown",
      "source": [
        "#### Predict"
      ],
      "metadata": {
        "id": "-yhffZtHVb0G"
      }
    },
    {
      "cell_type": "code",
      "source": [
        "@timing\n",
        "def predict_tag_spacy(word_series):\n",
        "  preds = []\n",
        "  tokens = []\n",
        "  for sentence in word_series:\n",
        "    text = nlp(sentence)\n",
        "    preds.extend([X.ent_type_ for X in text])\n",
        "    tokens.extend(text)\n",
        "  \n",
        "  return preds, tokens"
      ],
      "metadata": {
        "id": "BIeKEXBlVbZ-"
      },
      "execution_count": null,
      "outputs": []
    },
    {
      "cell_type": "code",
      "source": [
        "spacy_preds,  spacy_pred_time = predict_tag_spacy(data_spacy)"
      ],
      "metadata": {
        "id": "Y4ldsmKQ2wq4",
        "colab": {
          "base_uri": "https://localhost:8080/"
        },
        "outputId": "d870d710-dde6-4910-cc7a-8d143e2ebfe1"
      },
      "execution_count": null,
      "outputs": [
        {
          "output_type": "stream",
          "name": "stdout",
          "text": [
            "Function: predict_tag_spacy, Time: 555.7774025869985\n"
          ]
        }
      ]
    },
    {
      "cell_type": "markdown",
      "source": [
        "Spacy is pretrained so it doesn't require fit step.\n",
        "\n",
        "While working with spacy I faced several problems:\n",
        "\n",
        "1. Spacy uses its own tagger and its tokenization doesn't match the given one which makes comparing preds and ground truth impossible.\n",
        "2. Spacy has its own tagging which doesn't match the given one. It is connected not only with the fact that BIOS-tagging is used in the dataset but not in the spacy tagging, but also the semantic content of the spacy tags does not match and cannot be converted to the given tags unambiguously."
      ],
      "metadata": {
        "id": "JcVLex0KICAZ"
      }
    },
    {
      "cell_type": "code",
      "source": [
        "spacy_tokens = spacy_preds[1]\n",
        "spacy_preds = spacy_preds[0]"
      ],
      "metadata": {
        "id": "_SpTc-Jj1cLP"
      },
      "execution_count": null,
      "outputs": []
    },
    {
      "cell_type": "code",
      "source": [
        "spacy_preds = [pred if pred != '' else 'O' for pred in spacy_preds]"
      ],
      "metadata": {
        "id": "gQKeq3Ze7k5l"
      },
      "execution_count": null,
      "outputs": []
    },
    {
      "cell_type": "code",
      "source": [
        "bar_info = pd.Series(spacy_preds).value_counts()[1:]\n",
        "\n",
        "plt.figure(figsize=(20, 5))\n",
        "plt.xticks(rotation=-45)\n",
        "plt.title('Top frequent tags')\n",
        "\n",
        "sns.barplot(x=bar_info.index, y=bar_info)\n",
        "\n",
        "plt.gca().set(ylabel='Count')\n",
        "plt.show()"
      ],
      "metadata": {
        "colab": {
          "base_uri": "https://localhost:8080/",
          "height": 385
        },
        "id": "agB8dlbYWD3W",
        "outputId": "06852925-79ee-41f7-9385-7099df95b120"
      },
      "execution_count": null,
      "outputs": [
        {
          "output_type": "display_data",
          "data": {
            "image/png": "[encoded data removed]",
            "text/plain": [
              "<Figure size 1440x360 with 1 Axes>"
            ]
          },
          "metadata": {
            "needs_background": "light"
          }
        }
      ]
    },
    {
      "cell_type": "markdown",
      "source": [
        "The distribution of tags predicted by spacy is similar to the ground truth distribution -- the tags in the top are in the same sequence: GPE (geo), DATE (tim), ORG (org), PERSON (per).\n",
        "\n",
        "Both WORK_OF_ART anf the original \"art\" are closely connected and are placed in the second half of the top. Same id for EVENT and eve, but as I have already mentioned these tags might represented a lit bit different tags so they cannot be translated obviously."
      ],
      "metadata": {
        "id": "I_Wp9aj-JhcU"
      }
    },
    {
      "cell_type": "code",
      "source": [
        "# top NER\n",
        "spacy_tokens = [str(token) for token in spacy_tokens]\n",
        "spacy_data = pd.DataFrame([spacy_tokens, spacy_preds]).T\n",
        "spacy_data.columns = ['tokens', 'preds']\n",
        "\n",
        "bar_info = spacy_data[spacy_data['preds'] == 'CARDINAL']['tokens'].value_counts()[:20]\n",
        "\n",
        "plt.figure(figsize=(25, 8))\n",
        "plt.xticks(rotation=-45)\n",
        "plt.title('Top-50 frequent NER')\n",
        "\n",
        "sns.barplot(x=bar_info.index, y=bar_info)\n",
        "\n",
        "plt.gca().set(ylabel='Count')\n",
        "plt.show()"
      ],
      "metadata": {
        "colab": {
          "base_uri": "https://localhost:8080/",
          "height": 533
        },
        "id": "r7_C9Lvs7o-e",
        "outputId": "46703693-55aa-482a-8cd7-d3108046e064"
      },
      "execution_count": null,
      "outputs": [
        {
          "output_type": "display_data",
          "data": {
            "image/png": "[encoded data removed]",
            "text/plain": [
              "<Figure size 1800x576 with 1 Axes>"
            ]
          },
          "metadata": {
            "needs_background": "light"
          }
        }
      ]
    },
    {
      "cell_type": "markdown",
      "source": [
        "Top of the most frequent NER tokens looks different from the original distribution. All of the tokens are numbers related: it could be dates or money. However, we do not see here any geopolitical tokens that are widely spread through the original NER top."
      ],
      "metadata": {
        "id": "ShGCcgG4Lxup"
      }
    },
    {
      "cell_type": "markdown",
      "source": [
        "# CRF"
      ],
      "metadata": {
        "id": "gnrW7WTNFv1m"
      }
    },
    {
      "cell_type": "code",
      "source": [
        "!pip install sklearn_crfsuite\n",
        "!pip install -U 'scikit-learn<0.24'"
      ],
      "metadata": {
        "id": "ZVz4J85EnGKR"
      },
      "execution_count": null,
      "outputs": []
    },
    {
      "cell_type": "code",
      "source": [
        "from sklearn.model_selection import cross_val_predict\n",
        "from sklearn_crfsuite.metrics import flat_classification_report\n",
        "from sklearn_crfsuite import CRF"
      ],
      "metadata": {
        "id": "JRHP6mxenI60"
      },
      "execution_count": null,
      "outputs": []
    },
    {
      "cell_type": "markdown",
      "source": [
        "### prepare data"
      ],
      "metadata": {
        "id": "Lx_Ri-JvnQ6r"
      }
    },
    {
      "cell_type": "code",
      "source": [
        "class SentenceGetter(object):\n",
        "    \n",
        "    def __init__(self, data):\n",
        "        self.n_sent = 1\n",
        "        self.data = data\n",
        "        self.empty = False\n",
        "        agg_func = lambda s: [(w, p, t) for w, p, t in zip(s[\"Word\"].values.tolist(),\n",
        "                                                           s[\"POS\"].values.tolist(),\n",
        "                                                           s[\"Tag\"].values.tolist())]\n",
        "        self.grouped = self.data.groupby(\"Sentence #\").apply(agg_func)\n",
        "        self.sentences = [s for s in self.grouped]\n",
        "    \n",
        "    def get_next(self):\n",
        "        try:\n",
        "            s = self.grouped[\"Sentence: {}\".format(self.n_sent)]\n",
        "            self.n_sent += 1\n",
        "            return s\n",
        "        except:\n",
        "            return None"
      ],
      "metadata": {
        "id": "xPn4UEkQMVMt"
      },
      "execution_count": null,
      "outputs": []
    },
    {
      "cell_type": "code",
      "source": [
        "def word2features(sent, i):\n",
        "    word = sent[i][0]\n",
        "    postag = sent[i][1]\n",
        "\n",
        "    features = {\n",
        "        'bias': 1.0,\n",
        "        'word.lower()': word.lower(),\n",
        "        'word[-3:]': word[-3:],\n",
        "        'word[-2:]': word[-2:],\n",
        "        'word.isupper()': word.isupper(),\n",
        "        'word.istitle()': word.istitle(),\n",
        "        'word.isdigit()': word.isdigit(),\n",
        "        'postag': postag,\n",
        "        'postag[:2]': postag[:2],\n",
        "    }\n",
        "    if i > 0:\n",
        "        word1 = sent[i-1][0]\n",
        "        postag1 = sent[i-1][1]\n",
        "        features.update({\n",
        "            '-1:word.lower()': word1.lower(),\n",
        "            '-1:word.istitle()': word1.istitle(),\n",
        "            '-1:word.isupper()': word1.isupper(),\n",
        "            '-1:postag': postag1,\n",
        "            '-1:postag[:2]': postag1[:2],\n",
        "        })\n",
        "    else:\n",
        "        features['BOS'] = True\n",
        "\n",
        "    if i < len(sent)-1:\n",
        "        word1 = sent[i+1][0]\n",
        "        postag1 = sent[i+1][1]\n",
        "        features.update({\n",
        "            '+1:word.lower()': word1.lower(),\n",
        "            '+1:word.istitle()': word1.istitle(),\n",
        "            '+1:word.isupper()': word1.isupper(),\n",
        "            '+1:postag': postag1,\n",
        "            '+1:postag[:2]': postag1[:2],\n",
        "        })\n",
        "    else:\n",
        "        features['EOS'] = True\n",
        "\n",
        "    return features\n",
        "\n",
        "\n",
        "def sent2features(sent):\n",
        "    return [word2features(sent, i) for i in range(len(sent))]\n",
        "\n",
        "def sent2labels(sent):\n",
        "    return [label for token, postag, label in sent]\n",
        "\n",
        "def sent2tokens(sent):\n",
        "    return [token for token, postag, label in sent]"
      ],
      "metadata": {
        "id": "u6MjwfA8M9Iu"
      },
      "execution_count": null,
      "outputs": []
    },
    {
      "cell_type": "code",
      "source": [
        "# prepare data\n",
        "getter = SentenceGetter(data)\n",
        "sentences = getter.sentences\n",
        "\n",
        "X = [sent2features(s) for s in sentences]\n",
        "y = [sent2labels(s) for s in sentences]\n",
        "\n",
        "# train test split\n",
        "crf_x_train, crf_x_test, crf_y_train, crf_y_test = train_test_split(X, y, test_size=0.1, \n",
        "                                                    random_state=100)"
      ],
      "metadata": {
        "id": "5IG3WhN9IfNz"
      },
      "execution_count": null,
      "outputs": []
    },
    {
      "cell_type": "code",
      "source": [
        "# define model\n",
        "crf = CRF(algorithm='lbfgs',\n",
        "          c1=0.1,\n",
        "          c2=0.1,\n",
        "          max_iterations=100,\n",
        "          all_possible_transitions=False)"
      ],
      "metadata": {
        "id": "I-vT_vZINDUD"
      },
      "execution_count": null,
      "outputs": []
    },
    {
      "cell_type": "code",
      "source": [
        "@timing\n",
        "def fit_crf(X, y, crf):\n",
        "  crf.fit(X, y)"
      ],
      "metadata": {
        "id": "c8DqgxhXNozn"
      },
      "execution_count": null,
      "outputs": []
    },
    {
      "cell_type": "code",
      "source": [
        "# fit crf\n",
        "_, crf_train_time = fit_crf(crf_x_train, crf_y_train, crf)"
      ],
      "metadata": {
        "colab": {
          "base_uri": "https://localhost:8080/"
        },
        "id": "Xbhz97Xc3ass",
        "outputId": "c65d358c-6ab9-4050-e8c0-b15e711267be"
      },
      "execution_count": null,
      "outputs": [
        {
          "output_type": "stream",
          "name": "stdout",
          "text": [
            "Function: fit_crf, Time: 330.2442900789997\n"
          ]
        }
      ]
    },
    {
      "cell_type": "code",
      "source": [
        "@timing\n",
        "def predict_crf(X, crf):\n",
        "  return crf.predict(X)"
      ],
      "metadata": {
        "id": "oxedKdM2ng6a"
      },
      "execution_count": null,
      "outputs": []
    },
    {
      "cell_type": "code",
      "source": [
        "# predict with crf\n",
        "crf_pred, crf_pred_time = predict_crf(crf_x_test, crf)"
      ],
      "metadata": {
        "id": "6xbqkvHxP89-",
        "colab": {
          "base_uri": "https://localhost:8080/"
        },
        "outputId": "c15d0f27-2c1c-4e1c-99c6-1f2788eadffb"
      },
      "execution_count": null,
      "outputs": [
        {
          "output_type": "stream",
          "name": "stdout",
          "text": [
            "Function: predict_crf, Time: 1.7301195620002545\n"
          ]
        }
      ]
    },
    {
      "cell_type": "markdown",
      "source": [
        "# BERT"
      ],
      "metadata": {
        "id": "1Ff0I3mTXYX-"
      }
    },
    {
      "cell_type": "code",
      "source": [
        "!pip install transformers\n",
        "!pip install pytorch_lightning"
      ],
      "metadata": {
        "id": "OtwrkMExXpYM"
      },
      "execution_count": null,
      "outputs": []
    },
    {
      "cell_type": "code",
      "source": [
        "import torch\n",
        "from torch.utils.data import Dataset, DataLoader\n",
        "from transformers import BertTokenizerFast, BertConfig, BertForTokenClassification\n",
        "from torch import cuda\n",
        "import pytorch_lightning as pl\n",
        "from pytorch_lightning.callbacks import ModelCheckpoint"
      ],
      "metadata": {
        "id": "bv24Y-fQXZox"
      },
      "execution_count": null,
      "outputs": []
    },
    {
      "cell_type": "markdown",
      "source": [
        "#### prepare data"
      ],
      "metadata": {
        "id": "wjXL3_IsXbsv"
      }
    },
    {
      "cell_type": "code",
      "source": [
        "def get_sentence_tags(data):\n",
        "  sentences_tags = []\n",
        "  sentence_numbers = data['Sentence #'].unique()\n",
        "  for number in sentence_numbers:\n",
        "    sentence_info = data[data['Sentence #'] == number]\n",
        "    sentence_str = sentence_info['Word']\n",
        "    sentence_tags = ','.join(sentence_info['Tag'])\n",
        "    sentences_tags.append([sentence_str, sentence_tags])\n",
        "  \n",
        "  return pd.DataFrame(sentences_tags, columns=['Sentence', 'Tags'])"
      ],
      "metadata": {
        "id": "V_M5xB9QXjkw"
      },
      "execution_count": null,
      "outputs": []
    },
    {
      "cell_type": "code",
      "source": [
        "# data_bert = get_sentence_tags(data)\n",
        "# data_bert.to_csv('data_bert.csv')"
      ],
      "metadata": {
        "id": "2V89JZnnZAGb"
      },
      "execution_count": null,
      "outputs": []
    },
    {
      "cell_type": "code",
      "source": [
        "def load_data_bert(path):\n",
        "  data_bert = pd.read_csv(path,\n",
        "                          index_col=0)\n",
        "  sentences = []\n",
        "  for i, sent in enumerate(data_bert['Sentence']):\n",
        "    sent = re.split('\\n\\d+ +', sent)\n",
        "    sent[0] = re.sub('\\d+ +', '', sent[0])\n",
        "    sent[-1] = re.sub('\\nName: Word, dtype: object', '', sent[-1])\n",
        "    sentences.append(sent)\n",
        "  data_bert['Sentence'] = sentences\n",
        "  \n",
        "  return data_bert"
      ],
      "metadata": {
        "id": "SfVQUgkzxnKP"
      },
      "execution_count": null,
      "outputs": []
    },
    {
      "cell_type": "code",
      "source": [
        "class BertDataset(Dataset):\n",
        "    def __init__(self, tokenizer, sentences, labels, max_len):\n",
        "        self.len = len(sentences)\n",
        "        self.sentences = sentences\n",
        "        self.labels = labels\n",
        "        self.tokenizer = tokenizer\n",
        "        self.max_len = max_len\n",
        "        \n",
        "    def __getitem__(self, index):\n",
        "        sentence = self.sentences[index]\n",
        "        inputs = self.tokenizer.encode_plus(\n",
        "            sentence,\n",
        "            None,\n",
        "            add_special_tokens=True,\n",
        "            max_length=self.max_len,\n",
        "            padding='max_length',\n",
        "            return_token_type_ids=True,\n",
        "            truncation='longest_first',\n",
        "            is_split_into_words=True\n",
        "        )\n",
        "        ids = inputs['input_ids']\n",
        "        mask = inputs['attention_mask']\n",
        "\n",
        "        label = [labels2ids[label] for label in self.labels[index].split(',')][:len(ids)-2]\n",
        "        label = [0] + label + [0] * self.max_len\n",
        "        label = label[:self.max_len]\n",
        "\n",
        "        return {\n",
        "            'ids': torch.tensor(ids, dtype=torch.long),\n",
        "            'mask': torch.tensor(mask, dtype=torch.long),\n",
        "            'tags': torch.tensor(label, dtype=torch.long)\n",
        "        } \n",
        "    \n",
        "    def __len__(self):\n",
        "        return self.len"
      ],
      "metadata": {
        "id": "2OmF7g_ebsn8"
      },
      "execution_count": null,
      "outputs": []
    },
    {
      "cell_type": "code",
      "source": [
        "# load pre-prepared data\n",
        "data_bert = load_data_bert('https://raw.githubusercontent.com/katearb/files/main/data_bert2.csv')\n",
        "\n",
        "labels2ids = {label: i for i, label in enumerate(data['Tag'].unique())}"
      ],
      "metadata": {
        "id": "ceFFLrtJNei2"
      },
      "execution_count": null,
      "outputs": []
    },
    {
      "cell_type": "code",
      "source": [
        "# train-test split\n",
        "tokenizer = BertTokenizerFast.from_pretrained('bert-base-cased')\n",
        "MAX_LEN = 50\n",
        "\n",
        "train_dataset, test_dataset = train_test_split(data_bert, test_size=0.1, )\n",
        "train_dataset, val_dataset = train_test_split(train_dataset, test_size=0.1)\n",
        "\n",
        "train_dataset.index = [i for i in range(len(train_dataset))]\n",
        "val_dataset.index = [i for i in range(len(val_dataset))]\n",
        "test_dataset.index = [i for i in range(len(test_dataset))]\n",
        "\n",
        "\n",
        "print(\"FULL Dataset: {}\".format(data_bert.shape))\n",
        "print(\"TRAIN Dataset: {}\".format(train_dataset.shape))\n",
        "print(\"VAL Dataset: {}\".format(val_dataset.shape))\n",
        "print(\"TEST Dataset: {}\".format(test_dataset.shape))\n",
        "\n",
        "# define datasets\n",
        "training_set = BertDataset(tokenizer, train_dataset['Sentence'], train_dataset['Tags'], MAX_LEN)\n",
        "validating_set = BertDataset(tokenizer, val_dataset['Sentence'], val_dataset['Tags'], MAX_LEN)\n",
        "testing_set = BertDataset(tokenizer, test_dataset['Sentence'], test_dataset['Tags'], MAX_LEN)"
      ],
      "metadata": {
        "colab": {
          "base_uri": "https://localhost:8080/",
          "height": 214,
          "referenced_widgets": [
            "5844b8277b3f4e8eb9f0bcac9a9f9427",
            "551cf3f30a5749ab9cf14180b0b16534",
            "59a774378a484ee2b8dd65b30671590a",
            "de7a883aec8c473baccc21a8a19c5ffe",
            "338e3d6d3d1c49118c934b67b73be1e4",
            "502bf514be714917af138d8e132d8063",
            "d16682f6098441aabe63fc2deca9fa5b",
            "ba1d40b0672443bead3d6b9a1a32aa5a",
            "a920e4c3009848a1b9c1dc68d0f42f68",
            "3b3636d93b8943e58c896615c7705f07",
            "17e6fa5e6b26416e842ac099a3cefe5a",
            "49dfefd9aebc4628906a23a68f0fe492",
            "e6b0e66856dd495a91e46752485ddcb1",
            "87137664d5f24f1fa025d626ae2df61b",
            "66b05822ee434a4b98d67b1e85f5b926",
            "b98b11c94b0a4b49b730347c6830a20c",
            "348a8b9376164ba4a00f8a5fa3638afc",
            "b4e1182d4414412691c0c72a16e92f5f",
            "1bf6d6e4eca44024a579b7aaeda4fc70",
            "2acf5f941c4540ec8391e1a8b2e34040",
            "b62518d68613483e99f28379d2d6efc4",
            "2b228be977a041c59ad1809be4cef9eb",
            "0135cbdd5cc84fa58204545251a6fe8c",
            "fdcf724677804a2196af7066aadcf2ae",
            "057ee253b0c74f18a4797c6820d4c511",
            "c15e02a31993471dbec5b04d7982a700",
            "c9e9ba638e7344169c47b31ef079ae9a",
            "316a24b23fbf440eba42c9d2d44e0d7f",
            "8d627a4a1bc848eaa2716dedefd356d7",
            "320047ad334749dc9c16cab856bbaef6",
            "0d2848a01e644519934649d031a47347",
            "4083373e493246609523536bcda3c6cc",
            "a8868beefeee43b28fd42ab209bcc2cb",
            "78d8d7695bc54e13bc7ef27f801442af",
            "35cd7ea4e94f4207a022a40913538595",
            "6e4a4d7288db45bea9f4da05efbe41f7",
            "73be81c0c1f441489166a8da427f5ed8",
            "51cb2e89cbd54c67a688ad8522049d17",
            "35a637333c1643ac88e5466c5ed12bc9",
            "8a23adb77f554efb966b5f2fe63fc7c9",
            "5d02bd16e2ed43e1b389773e71536c20",
            "5911ad55ff214d36b961395906af4999",
            "3f9fda193b484361bc076bb83a706b26",
            "282393fa18194dc88405b3b0fd5316b4"
          ]
        },
        "id": "NJHxFL3ZdpeH",
        "outputId": "53aef6fe-1c37-4abe-9cc5-4ef235a79fa0"
      },
      "execution_count": null,
      "outputs": [
        {
          "output_type": "display_data",
          "data": {
            "application/vnd.jupyter.widget-view+json": {
              "model_id": "5844b8277b3f4e8eb9f0bcac9a9f9427",
              "version_minor": 0,
              "version_major": 2
            },
            "text/plain": [
              "Downloading:   0%|          | 0.00/29.0 [00:00<?, ?B/s]"
            ]
          },
          "metadata": {}
        },
        {
          "output_type": "display_data",
          "data": {
            "application/vnd.jupyter.widget-view+json": {
              "model_id": "49dfefd9aebc4628906a23a68f0fe492",
              "version_minor": 0,
              "version_major": 2
            },
            "text/plain": [
              "Downloading:   0%|          | 0.00/208k [00:00<?, ?B/s]"
            ]
          },
          "metadata": {}
        },
        {
          "output_type": "display_data",
          "data": {
            "application/vnd.jupyter.widget-view+json": {
              "model_id": "0135cbdd5cc84fa58204545251a6fe8c",
              "version_minor": 0,
              "version_major": 2
            },
            "text/plain": [
              "Downloading:   0%|          | 0.00/426k [00:00<?, ?B/s]"
            ]
          },
          "metadata": {}
        },
        {
          "output_type": "display_data",
          "data": {
            "application/vnd.jupyter.widget-view+json": {
              "model_id": "78d8d7695bc54e13bc7ef27f801442af",
              "version_minor": 0,
              "version_major": 2
            },
            "text/plain": [
              "Downloading:   0%|          | 0.00/570 [00:00<?, ?B/s]"
            ]
          },
          "metadata": {}
        },
        {
          "output_type": "stream",
          "name": "stdout",
          "text": [
            "FULL Dataset: (47959, 2)\n",
            "TRAIN Dataset: (38846, 2)\n",
            "VAL Dataset: (4317, 2)\n",
            "TEST Dataset: (4796, 2)\n"
          ]
        }
      ]
    },
    {
      "cell_type": "code",
      "source": [
        "# define data loaders\n",
        "TRAIN_BATCH_SIZE = 4\n",
        "VALID_BATCH_SIZE = 2\n",
        "\n",
        "train_params = {'batch_size': TRAIN_BATCH_SIZE,\n",
        "                'shuffle': True,\n",
        "                'num_workers': 2\n",
        "                }\n",
        "\n",
        "test_params = {'batch_size': VALID_BATCH_SIZE,\n",
        "                'shuffle': False,\n",
        "                'num_workers': 2\n",
        "                }\n",
        "\n",
        "training_loader = DataLoader(training_set, **train_params)\n",
        "validation_loader = DataLoader(validating_set, **test_params)\n",
        "test_loader = DataLoader(testing_set, **test_params)"
      ],
      "metadata": {
        "id": "cqioLpF8eZqU"
      },
      "execution_count": null,
      "outputs": []
    },
    {
      "cell_type": "markdown",
      "source": [
        "### Define model"
      ],
      "metadata": {
        "id": "VtIfobelarZO"
      }
    },
    {
      "cell_type": "code",
      "source": [
        "device = 'cuda' if cuda.is_available() else 'cpu'\n",
        "print(device)\n",
        "\n",
        "EPOCHS = 2\n",
        "LEARNING_RATE = 1e-05"
      ],
      "metadata": {
        "id": "raBJSk3eZAb5"
      },
      "execution_count": null,
      "outputs": []
    },
    {
      "cell_type": "code",
      "source": [
        "class BertModel(pl.LightningModule):\n",
        "\n",
        "    def __init__(self,):\n",
        "        super(BertModel, self).__init__()\n",
        "        model = BertForTokenClassification.from_pretrained('bert-base-uncased', num_labels=len(labels2ids))\n",
        "        self.model = model\n",
        "\n",
        "    def configure_optimizers(self):\n",
        "        optimizer = torch.optim.Adam(\n",
        "                self.model.parameters(),\n",
        "                lr=2e-5,\n",
        "                )\n",
        "        return optimizer\n",
        "\n",
        "    def training_step(self, batch, batch_idx):\n",
        "        labels = batch[\"tags\"]\n",
        "        input_ids = batch[\"ids\"]\n",
        "        attention_mask = batch[\"mask\"]\n",
        "\n",
        "        loss, _ = self.model(\n",
        "                input_ids,\n",
        "                attention_mask=attention_mask,\n",
        "                labels=labels,\n",
        "                return_dict=False\n",
        "                )\n",
        "\n",
        "        self.log('train_loss', loss)\n",
        "\n",
        "        return loss\n",
        "\n",
        "    def validation_step(self, batch, batch_idx):\n",
        "        labels = batch[\"tags\"]\n",
        "        input_ids = batch[\"ids\"]\n",
        "        attention_mask = batch[\"mask\"]\n",
        "\n",
        "        loss, logits = self.model(\n",
        "                input_ids,\n",
        "                attention_mask=attention_mask,\n",
        "                labels=labels,\n",
        "                return_dict=False)\n",
        "        \n",
        "        preds = torch.argmax(logits, dim=1)\n",
        "\n",
        "        correct_count = sum([torch.sum(lab[:len(pred)] == pred) for lab, pred in zip(labels, preds)])\n",
        "\n",
        "        if self.on_gpu:\n",
        "            correct_count = correct_count.cuda(loss.device.index)\n",
        "\n",
        "        self.log('val_loss', loss)"
      ],
      "metadata": {
        "id": "5eejaEEvOsjw"
      },
      "execution_count": null,
      "outputs": []
    },
    {
      "cell_type": "code",
      "source": [
        "@timing\n",
        "def make_bert_predictions(model, test_loader):\n",
        "  with torch.no_grad():\n",
        "    bert_preds = []\n",
        "    for batch_ndx, sample in enumerate(test_loader):\n",
        "      input_ids = sample[\"ids\"]\n",
        "      attention_mask = sample[\"mask\"]\n",
        "      sent_lengths = torch.sum(attention_mask, dim=1)\n",
        "\n",
        "      logits = model(\n",
        "              input_ids,\n",
        "              attention_mask=attention_mask,\n",
        "              return_dict=False\n",
        "              )\n",
        "      preds = torch.argmax(logits[0], dim=2)\n",
        "      preds = [sent[:sent_len] for sent, sent_len in zip (preds, sent_lengths)]\n",
        "      bert_preds.extend(preds)\n",
        "\n",
        "  return bert_preds"
      ],
      "metadata": {
        "id": "sFL1XCnn-y19"
      },
      "execution_count": null,
      "outputs": []
    },
    {
      "cell_type": "code",
      "source": [
        "# checkpoint_callback = ModelCheckpoint(dirpath=r'/content/drive/MyDrive/ner_bert_checkpoints2')\n",
        "# model = BertModel()\n",
        "# trainer = pl.Trainer(gpus=1, precision=16, limit_train_batches=0.5, callbacks=[checkpoint_callback], default_root_dir=r'/content/drive/MyDrive/ner_bert_checkpoints3')"
      ],
      "metadata": {
        "id": "LxJF8WtV7b9b"
      },
      "execution_count": null,
      "outputs": []
    },
    {
      "cell_type": "code",
      "source": [
        "# trainer.fit(model, training_loader, validation_loader)"
      ],
      "metadata": {
        "colab": {
          "base_uri": "https://localhost:8080/",
          "height": 240,
          "referenced_widgets": [
            "160836ad526946dcaf25d8607b02eec5",
            "5324180278d54e18aa2b04f8a6fc3f50",
            "ddc99b7a76604b558546ece3d442c2e2",
            "f7f032e58337414986f265f921d9d20f",
            "76a38d71808c4667afc8cb9dc7a9c4b6",
            "dab044cc4b0a4b6697ecd6afd54dbea3",
            "7d45766186014c33bddb7cca01c87576",
            "77005a78617a4fa7a7d0765c83c489f0",
            "bd73c670b5c24ab3ab9e313ba7bbd938",
            "3f709d376ca3459d9a26364a5de0653a",
            "e0577c995fd546a8ab329840a01513d2",
            "c5b3887759c74f34978125b484902f5d",
            "23a237c724c4466899dbb9fb723295e3",
            "b95e8eb6133f423085085fff9527a970",
            "1ebce883ff614f41b746bcccff939dbc",
            "f5cdf2faf69b437f9d487a21b8cdacad",
            "3ef078dc21c445b890d6ce0b931b8eb6",
            "1c78ffbba998476380e5d3bbc9272301",
            "90ca80ec2d054cd8ab5d02af52c7d58e",
            "bd6360970749465c93a53b89bf1dd20e",
            "b01add1963954c879ac6f48b8b1c8218",
            "28725e97dbcc40cf82896636652ebc8f",
            "3ecb350482084e9dae373fc0fc35bad6",
            "1464a1efa0494a0a81f6279035ffd2ac",
            "0fbed498baa44764ae1fab61eab2cbc5",
            "0cd5bbea2df1477a8c1926712f90a812",
            "21054c8b36c3402092f2b98555ee55ab",
            "b981a42babe64485904807b04673a9e3",
            "e442b11a53bd438f95af362bee8259cf",
            "9fd50eb43a584b1bac13f181508c8c7a",
            "1e4af110946340119d566b171cb037bf",
            "7443950b091d4f8f86a6995f4abe5eec",
            "da63405cb820439da19e4e46d25fdbca",
            "8d17b1c2a02641d7997975af8b6e38e8",
            "14c554ae9632451f8cc082386a5e0426",
            "35f4656c4451462a8c14d8b4113689c2",
            "22c00b90c18d409c82dc34a9ab441b95",
            "4dae62f41be941749b7e2bbeace8edd6",
            "9849de6e75e743cfac7e32e9d0e7c46c",
            "1ea5a7d8173b4038b14dfda79b5b9a51",
            "78493696c2b74509a9a71ca4d1003565",
            "d1fde1fb4d84465189e4de944b1aceef",
            "fac6fca493d54079ab783678f42da098",
            "c767a4da71614a44b25c6c163dbe9d5e",
            "631017fe3fa74a0cbf8de0ae288b9d1b",
            "9cbdc777100147e59c8ba7e399dffba0",
            "c3bad78e7ab0493baffd1f31f25db7ad",
            "5493eda65d9d45d087168b22338af4b0",
            "bd5e17d7dbc946e391092a39d8822616",
            "8fed653f50fe44d8adddece2fb5dab29",
            "31e9d8a4e266457b8fd53fe71b924db2",
            "b5f1432b1a79483b9423dfca4d48ae21",
            "38a5d7c2cc1b432eb716dfae569f7e0c",
            "f65578cb3fd1459a8ab72540e8dc8477",
            "2f20f3789c2e480b86c258cbcc482b1b",
            "829796fd924140c999670fb6549fb590",
            "440cdc37ad4f4ba2b6c7f881e70b4614",
            "fb2fb30849434db6a6176d9b00598894",
            "9823c80dc9b94dab95ee36354af81335",
            "75f0722db4e0412187ca23e395e76a73",
            "7d39e20e8e914be18796dea8c1e23af8",
            "f353f87d8ebb46f9b513ca6fd5c156a2",
            "7eada05bbb84475b8a2f6f28e8b2974e",
            "6b084d5021b34dedb8c5fd0a9fa4d417",
            "112993e16691463bb8dc25c7161b7eee",
            "a146393edff3459faa8293d8e5e15b2f",
            "47893e875ad94fd98c2c7a90bbfc91f8",
            "94d103489c7d46b0a8eb525029469314",
            "5ba5353ee2e74c94a0a7f99628f0046f",
            "714406f119704ac59f15502e8b9aa6bb",
            "9a022cb84b5344b48e5016fdf440da4d",
            "44a8ba3a4e4e47599152bd2383e584db",
            "ed90634506a94a81a7ca45c3a7e0ea4e",
            "5f2d9f6fa1c24a94ab464f4e4a9b9dd0",
            "f870c4701e474f0faa881cfd95290383",
            "aabd39e1f7de4c3e908d4cf59df03310",
            "fcbe2d8e3b8c418aaaf94a879a610be7"
          ]
        },
        "id": "7wDKvDusRbQc",
        "outputId": "79df6832-bb8e-4961-8d5c-c240cb6c9281"
      },
      "execution_count": null,
      "outputs": [
        {
          "output_type": "stream",
          "name": "stderr",
          "text": [
            "LOCAL_RANK: 0 - CUDA_VISIBLE_DEVICES: [0]\n",
            "Missing logger folder: /content/drive/MyDrive/ner_bert_checkpoints3/lightning_logs\n",
            "\n",
            "  | Name  | Type                       | Params\n",
            "-----------------------------------------------------\n",
            "0 | model | BertForTokenClassification | 108 M \n",
            "-----------------------------------------------------\n",
            "108 M     Trainable params\n",
            "0         Non-trainable params\n",
            "108 M     Total params\n",
            "217.809   Total estimated model params size (MB)\n"
          ]
        },
        {
          "output_type": "display_data",
          "data": {
            "application/vnd.jupyter.widget-view+json": {
              "model_id": "160836ad526946dcaf25d8607b02eec5",
              "version_minor": 0,
              "version_major": 2
            },
            "text/plain": [
              "Validation sanity check: 0it [00:00, ?it/s]"
            ]
          },
          "metadata": {}
        },
        {
          "output_type": "display_data",
          "data": {
            "application/vnd.jupyter.widget-view+json": {
              "model_id": "c5b3887759c74f34978125b484902f5d",
              "version_minor": 0,
              "version_major": 2
            },
            "text/plain": [
              "Training: 0it [00:00, ?it/s]"
            ]
          },
          "metadata": {}
        },
        {
          "output_type": "display_data",
          "data": {
            "application/vnd.jupyter.widget-view+json": {
              "model_id": "3ecb350482084e9dae373fc0fc35bad6",
              "version_minor": 0,
              "version_major": 2
            },
            "text/plain": [
              "Validating: 0it [00:00, ?it/s]"
            ]
          },
          "metadata": {}
        },
        {
          "output_type": "display_data",
          "data": {
            "application/vnd.jupyter.widget-view+json": {
              "model_id": "8d17b1c2a02641d7997975af8b6e38e8",
              "version_minor": 0,
              "version_major": 2
            },
            "text/plain": [
              "Validating: 0it [00:00, ?it/s]"
            ]
          },
          "metadata": {}
        },
        {
          "output_type": "display_data",
          "data": {
            "application/vnd.jupyter.widget-view+json": {
              "model_id": "631017fe3fa74a0cbf8de0ae288b9d1b",
              "version_minor": 0,
              "version_major": 2
            },
            "text/plain": [
              "Validating: 0it [00:00, ?it/s]"
            ]
          },
          "metadata": {}
        },
        {
          "output_type": "display_data",
          "data": {
            "application/vnd.jupyter.widget-view+json": {
              "model_id": "829796fd924140c999670fb6549fb590",
              "version_minor": 0,
              "version_major": 2
            },
            "text/plain": [
              "Validating: 0it [00:00, ?it/s]"
            ]
          },
          "metadata": {}
        },
        {
          "output_type": "display_data",
          "data": {
            "application/vnd.jupyter.widget-view+json": {
              "model_id": "47893e875ad94fd98c2c7a90bbfc91f8",
              "version_minor": 0,
              "version_major": 2
            },
            "text/plain": [
              "Validating: 0it [00:00, ?it/s]"
            ]
          },
          "metadata": {}
        }
      ]
    },
    {
      "cell_type": "code",
      "source": [
        "# load pretrained model\n",
        "bert_model = BertModel.load_from_checkpoint('/content/drive/MyDrive/ner_bert_checkpoints2/epoch=3-step=19423.ckpt')\n",
        "bert_model.eval()"
      ],
      "metadata": {
        "id": "6b8DKsBu4k6n"
      },
      "execution_count": null,
      "outputs": []
    },
    {
      "cell_type": "code",
      "source": [
        "# predict with bert\n",
        "bert_preds, bert_pred_time = make_bert_predictions(bert_model.model, test_loader)"
      ],
      "metadata": {
        "id": "JND2_W2S6y3N",
        "colab": {
          "base_uri": "https://localhost:8080/"
        },
        "outputId": "25716f8c-bd1a-4c54-cbe8-741d5c069bc1"
      },
      "execution_count": null,
      "outputs": [
        {
          "output_type": "stream",
          "name": "stdout",
          "text": [
            "Function: make_bert_predictions, Time: 1031.379366694\n"
          ]
        }
      ]
    },
    {
      "cell_type": "markdown",
      "source": [
        "BERT contains its own tokenizer either and it doesn't match the given one even if the data is given to the tokenizer in list-form. So, I keep only those sentences which tokenization is the same as the original one to make comparison."
      ],
      "metadata": {
        "id": "WjmYe3NFNRk5"
      }
    },
    {
      "cell_type": "code",
      "source": [
        "matched = []\n",
        "matched_ids = []\n",
        "\n",
        "# take preds and their ids if its length is the same as number of ground truh tags\n",
        "for i, pred in enumerate(bert_preds):\n",
        "  if (len(pred) - 2) == len(test_dataset.iloc[i, :]['Tags'].split(',')):\n",
        "    matched.append(pred[1:-1])\n",
        "    matched_ids.append(i)\n",
        "\n",
        "# make one list with tokens\n",
        "bert_preds_flatten = []\n",
        "for pred in matched:\n",
        "  bert_preds_flatten.extend(pred)\n",
        "\n",
        "# make list of true sentences\n",
        "bert_true = []\n",
        "for batch in test_loader:\n",
        "  t1, t2 = batch['tags']\n",
        "  m1, m2 = batch['mask']\n",
        "  sent_l1, sent_l2 = torch.sum(m1), torch.sum(m2)\n",
        "  bert_true.append(t1[1:sent_l1-1])\n",
        "\n",
        "# take only those which predictions we took earlier\n",
        "bert_true_matched = []\n",
        "for i, tag in enumerate(bert_true):\n",
        "  if i in matched_ids: bert_true_matched.extend(tag)\n",
        "\n",
        "\n",
        "bert_true = [*map(lambda x: x.item(), bert_true_matched)]\n",
        "bert_preds = [*map(lambda x: x.item(), bert_preds_flatten)]"
      ],
      "metadata": {
        "id": "7N6ATz-tQ-Hr"
      },
      "execution_count": null,
      "outputs": []
    },
    {
      "cell_type": "markdown",
      "source": [
        "# Bidirectional LSTM\n"
      ],
      "metadata": {
        "id": "3_V6p9WH95nS"
      }
    },
    {
      "cell_type": "code",
      "source": [
        "from random import random\n",
        "from numpy import array\n",
        "from numpy import cumsum\n",
        "from keras.models import Sequential\n",
        "from keras.layers import LSTM\n",
        "from keras.layers import Dense\n",
        "from keras.layers import TimeDistributed\n",
        "from keras.layers import Bidirectional\n",
        "from tensorflow.keras.callbacks import ModelCheckpoint, EarlyStopping \n",
        "\n",
        "from tensorflow.keras.preprocessing.sequence import pad_sequences\n",
        "from tensorflow.keras.utils import to_categorical\n",
        "from tensorflow.keras import Model,Input\n",
        "from tensorflow.keras.layers import LSTM,Embedding,Dense\n",
        "from tensorflow.keras.layers import TimeDistributed, SpatialDropout1D,Bidirectional"
      ],
      "metadata": {
        "id": "JdPaG8z5Oo3t"
      },
      "execution_count": null,
      "outputs": []
    },
    {
      "cell_type": "markdown",
      "source": [
        "#### prepare data"
      ],
      "metadata": {
        "id": "bUjAjwp_SDFu"
      }
    },
    {
      "cell_type": "code",
      "source": [
        "class Get_sentence(object):\n",
        "    def __init__(self,data):\n",
        "        self.n_sent=1\n",
        "        self.data = data\n",
        "        agg_func = lambda s:[(w,p,t) for w,p,t in zip(s[\"Word\"].values.tolist(),\n",
        "                                                     s[\"POS\"].values.tolist(),\n",
        "                                                     s[\"Tag\"].values.tolist())]\n",
        "        self.grouped = self.data.groupby(\"Sentence #\").apply(agg_func)\n",
        "        self.sentences = [s for s in self.grouped]"
      ],
      "metadata": {
        "id": "nw6Lz39fOgQA"
      },
      "execution_count": null,
      "outputs": []
    },
    {
      "cell_type": "code",
      "source": [
        "getter = Get_sentence(data)\n",
        "sentence = getter.sentences"
      ],
      "metadata": {
        "id": "NBGm8ptuOj8R"
      },
      "execution_count": null,
      "outputs": []
    },
    {
      "cell_type": "code",
      "source": [
        "words = list(set(data[\"Word\"].values))\n",
        "words.append(\"ENDPAD\")\n",
        "num_words = len(words)\n",
        "\n",
        "words_tag = list(set(data[\"Tag\"].values))\n",
        "num_words_tag = len(words_tag)"
      ],
      "metadata": {
        "id": "fEIoIzup996O"
      },
      "execution_count": null,
      "outputs": []
    },
    {
      "cell_type": "code",
      "source": [
        "word_idx = {w : i+1 for i, w in enumerate(words)}\n",
        "tag_idx = labels2ids  \n",
        "\n",
        "idx_word  = {v: k for k, v in word_idx.items()}\n",
        "idx_tag = {v: k for k, v in tag_idx.items()}"
      ],
      "metadata": {
        "id": "QLL6tyqwQL4w"
      },
      "execution_count": null,
      "outputs": []
    },
    {
      "cell_type": "code",
      "source": [
        "# padding\n",
        "max_len = 50\n",
        "X = [[word_idx[w[0]] for w in s] for s in sentence]\n",
        "X = pad_sequences(maxlen=max_len, sequences=X, padding='post', value=num_words-1)\n",
        "\n",
        "y = [[tag_idx[w[2]] for w in s] for s in sentence]\n",
        "y = pad_sequences(maxlen=max_len, sequences=y, padding='post', value=tag_idx['O'])\n",
        "y = [to_categorical(i, num_classes=num_words_tag) for i in  y]"
      ],
      "metadata": {
        "id": "u0ah65_ICvGx"
      },
      "execution_count": null,
      "outputs": []
    },
    {
      "cell_type": "code",
      "source": [
        "# train test split\n",
        "x_train, x_test, y_train, y_test = train_test_split(X, y, test_size=0.1, \n",
        "                                                    random_state=100)"
      ],
      "metadata": {
        "id": "UchZ_Z1EQVLU"
      },
      "execution_count": null,
      "outputs": []
    },
    {
      "cell_type": "markdown",
      "source": [
        "### Build model"
      ],
      "metadata": {
        "id": "876uj5fdSV0e"
      }
    },
    {
      "cell_type": "code",
      "source": [
        "input_word = Input(shape = (max_len,))\n",
        "model = Embedding(input_dim=num_words, output_dim=max_len, input_length=max_len)(input_word)\n",
        "model = SpatialDropout1D(0.1)(model)\n",
        "model = Bidirectional(LSTM(units=100, return_sequences=True, recurrent_dropout=0.1))(model)\n",
        "out = TimeDistributed(Dense(num_words_tag, activation='softmax'))(model)\n",
        "model = Model(input_word,out)\n",
        "model.summary()"
      ],
      "metadata": {
        "colab": {
          "base_uri": "https://localhost:8080/"
        },
        "id": "kaUpxs9yI69S",
        "outputId": "4136bf48-40ac-4057-cf43-a98b5a59368c"
      },
      "execution_count": null,
      "outputs": [
        {
          "output_type": "stream",
          "name": "stdout",
          "text": [
            "Model: \"model\"\n",
            "_________________________________________________________________\n",
            " Layer (type)                Output Shape              Param #   \n",
            "=================================================================\n",
            " input_1 (InputLayer)        [(None, 50)]              0         \n",
            "                                                                 \n",
            " embedding (Embedding)       (None, 50, 50)            1758950   \n",
            "                                                                 \n",
            " spatial_dropout1d (SpatialD  (None, 50, 50)           0         \n",
            " ropout1D)                                                       \n",
            "                                                                 \n",
            " bidirectional (Bidirectiona  (None, 50, 200)          120800    \n",
            " l)                                                              \n",
            "                                                                 \n",
            " time_distributed (TimeDistr  (None, 50, 17)           3417      \n",
            " ibuted)                                                         \n",
            "                                                                 \n",
            "=================================================================\n",
            "Total params: 1,883,167\n",
            "Trainable params: 1,883,167\n",
            "Non-trainable params: 0\n",
            "_________________________________________________________________\n"
          ]
        }
      ]
    },
    {
      "cell_type": "code",
      "source": [
        "model.compile(optimizer = 'adam',loss = 'categorical_crossentropy',metrics = ['accuracy'])"
      ],
      "metadata": {
        "id": "_lsnsns8QjaZ"
      },
      "execution_count": null,
      "outputs": []
    },
    {
      "cell_type": "markdown",
      "source": [
        "### Train model"
      ],
      "metadata": {
        "id": "j68dGtRpSYaM"
      }
    },
    {
      "cell_type": "code",
      "source": [
        "early_stopping = EarlyStopping(monitor = 'val_accuracy',patience =2,verbose = 0,mode = 'max',restore_best_weights = False)\n",
        "callbacks = [early_stopping]\n",
        "\n",
        "history = model.fit(\n",
        "    x_train,np.array(y_train),\n",
        "    validation_split=0.2,\n",
        "    batch_size = 64,\n",
        "    epochs = 3,\n",
        "    verbose =1\n",
        ")"
      ],
      "metadata": {
        "id": "bQEwjxPJCzKc"
      },
      "execution_count": null,
      "outputs": []
    },
    {
      "cell_type": "code",
      "source": [
        "@timing\n",
        "def make_bilstm_predictions(model, x_test):\n",
        "  preds = []\n",
        "  i = 0\n",
        "  for text in x_test:\n",
        "    preds.append(np.argmax(model.predict(np.array([text])), axis=-1)[0])\n",
        "    i += 1\n",
        "\n",
        "    if i% 100 == 0:\n",
        "      print(i)\n",
        "  return preds"
      ],
      "metadata": {
        "id": "AqF4CYafQ1vJ"
      },
      "execution_count": null,
      "outputs": []
    },
    {
      "cell_type": "code",
      "source": [
        "# make predictions wth BiLSTM-model\n",
        "bilstm_preds, bilstm_pred_time = make_bilstm_predictions(model, x_test)"
      ],
      "metadata": {
        "id": "K50YJDbQVGS-"
      },
      "execution_count": null,
      "outputs": []
    },
    {
      "cell_type": "code",
      "source": [
        "bilstm_y_test = np.argmax(np.array(y_test), axis=2)"
      ],
      "metadata": {
        "id": "8p7oXWoMi-Wl"
      },
      "execution_count": null,
      "outputs": []
    },
    {
      "cell_type": "markdown",
      "source": [
        "# Evaluation"
      ],
      "metadata": {
        "id": "BwM57fM1_tnk"
      }
    },
    {
      "cell_type": "code",
      "source": [
        "from sklearn.metrics import classification_report"
      ],
      "metadata": {
        "id": "Dw4-4_dnXHJC"
      },
      "execution_count": null,
      "outputs": []
    },
    {
      "cell_type": "code",
      "source": [
        "import warnings\n",
        "warnings.filterwarnings('ignore')"
      ],
      "metadata": {
        "id": "3UQ5koi-a1D3"
      },
      "execution_count": null,
      "outputs": []
    },
    {
      "cell_type": "code",
      "source": [
        "hmm_preds_flat = [item for sent in hmm_preds for item in sent]\n",
        "hmm_true_flat = [item for sent in test_hmm_true for item in sent]"
      ],
      "metadata": {
        "id": "Q3FX2ceUaMXY"
      },
      "execution_count": null,
      "outputs": []
    },
    {
      "cell_type": "code",
      "source": [
        "# HMM\n",
        "display(classification_report(hmm_true_flat, hmm_preds_flat))"
      ],
      "metadata": {
        "id": "Ncy118zS_zyz"
      },
      "execution_count": null,
      "outputs": []
    },
    {
      "cell_type": "markdown",
      "source": [
        "              precision    recall  f1-score   support\n",
        "\n",
        "       B-art       0.00      0.00      0.00         0\n",
        "       B-eve       0.00      0.00      0.00         1\n",
        "       B-geo       0.87      0.82      0.84      4082\n",
        "       B-gpe       0.91      0.89      0.90      1675\n",
        "       B-nat       0.00      0.00      0.00         0\n",
        "       B-org       0.60      0.78      0.68      1541\n",
        "       B-per       0.70      0.79      0.74      1505\n",
        "       B-tim       0.78      0.92      0.84      1733\n",
        "       I-art       0.00      0.00      0.00         0\n",
        "       I-eve       0.06      1.00      0.11         2\n",
        "       I-geo       0.68      0.75      0.72       687\n",
        "       I-gpe       0.45      1.00      0.62        10\n",
        "       I-nat       0.00      0.00      0.00         0\n",
        "       I-org       0.75      0.68      0.72      1768\n",
        "       I-per       0.92      0.75      0.83      2103\n",
        "       I-tim       0.43      0.86      0.57       330\n",
        "           O       0.99      0.98      0.99     89770\n",
        "\n",
        "    accuracy                           0.96    105207\n",
        "    macro avg       0.48      0.60      0.50    105207\n",
        "    weighted avg       0.96      0.96      0.96    105207"
      ],
      "metadata": {
        "id": "Z70aw4nm9knw"
      }
    },
    {
      "cell_type": "code",
      "source": [
        "crf_preds_flat = [item for sent in crf_pred for item in sent]\n",
        "crf_true_flat = [item for sent in crf_y_test for item in sent]"
      ],
      "metadata": {
        "id": "T0yRAoOpbH6p"
      },
      "execution_count": null,
      "outputs": []
    },
    {
      "cell_type": "code",
      "source": [
        "# CRF\n",
        "classification_report(crf_true_flat, crf_preds_flat)"
      ],
      "metadata": {
        "id": "dS6F_j6MAJbI"
      },
      "execution_count": null,
      "outputs": []
    },
    {
      "cell_type": "markdown",
      "source": [
        "              precision    recall  f1-score   support\n",
        "\n",
        "       B-art       0.62      0.20      0.30        41\n",
        "       B-eve       0.43      0.30      0.36        33\n",
        "       B-geo       0.86      0.92      0.89      3884\n",
        "       B-gpe       0.97      0.95      0.96      1651\n",
        "       B-nat       0.50      0.35      0.41        17\n",
        "       B-org       0.81      0.73      0.77      1997\n",
        "       B-per       0.86      0.84      0.85      1689\n",
        "       B-tim       0.94      0.89      0.91      2058\n",
        "       I-art       0.20      0.03      0.05        39\n",
        "       I-eve       0.35      0.17      0.23        36\n",
        "       I-geo       0.84      0.80      0.82       757\n",
        "       I-gpe       1.00      0.55      0.71        22\n",
        "       I-nat       0.50      0.43      0.46         7\n",
        "       I-org       0.80      0.80      0.80      1604\n",
        "       I-per       0.86      0.90      0.88      1719\n",
        "       I-tim       0.85      0.76      0.80       662\n",
        "           O       0.99      0.99      0.99     88991\n",
        "\n",
        "    accuracy                           0.97    105207\n",
        "    macro avg       0.73      0.62      0.66    105207\n",
        "    weighted avg       0.97      0.97      0.97    105207"
      ],
      "metadata": {
        "id": "T26xP0eM94TK"
      }
    },
    {
      "cell_type": "code",
      "source": [
        "# BERT\n",
        "classification_report([*map(lambda x: idx_tag[x], bert_true)], \n",
        "                      [*map(lambda x: idx_tag[x], bert_preds)])"
      ],
      "metadata": {
        "id": "shqUTaf-CiAz"
      },
      "execution_count": null,
      "outputs": []
    },
    {
      "cell_type": "markdown",
      "source": [
        "              precision    recall  f1-score   support\n",
        "\n",
        "       B-art       0.00      0.00      0.00         8\n",
        "       B-eve       0.50      0.40      0.44         5\n",
        "       B-geo       0.88      0.91      0.89       466\n",
        "       B-gpe       0.99      0.92      0.95       228\n",
        "       B-nat       0.00      0.00      0.00         2\n",
        "       B-org       0.71      0.82      0.76       214\n",
        "       B-per       0.71      0.71      0.71        59\n",
        "       B-tim       0.92      0.86      0.89       341\n",
        "       I-art       0.00      0.00      0.00        10\n",
        "       I-eve       0.00      0.00      0.00         5\n",
        "       I-geo       0.90      0.78      0.83       100\n",
        "       I-gpe       0.00      0.00      0.00         1\n",
        "       I-org       0.71      0.92      0.80       156\n",
        "       I-per       0.84      0.84      0.84        32\n",
        "       I-tim       0.87      0.76      0.81       128\n",
        "           O       0.99      0.99      0.99     14860\n",
        "\n",
        "    accuracy                           0.98     16615\n",
        "    macro avg       0.56      0.56      0.56     16615\n",
        "    weighted avg       0.98      0.98      0.98     16615"
      ],
      "metadata": {
        "id": "Jr13gMSU9_oH"
      }
    },
    {
      "cell_type": "code",
      "source": [
        "#BiLSTM\n",
        "classification_report([*map(lambda x: idx_tag[x], bilstm_y_test.flatten())],\n",
        "                      [*map(lambda x: idx_tag[x], np.array(bilstm_preds).flatten())])"
      ],
      "metadata": {
        "id": "yEpd5chMVq7i"
      },
      "execution_count": null,
      "outputs": []
    },
    {
      "cell_type": "markdown",
      "source": [
        "              precision    recall  f1-score   support\n",
        "\n",
        "       B-art       0.00      0.00      0.00        41\n",
        "       B-eve       0.00      0.00      0.00        33\n",
        "       B-geo       0.83      0.88      0.86      3884\n",
        "       B-gpe       0.95      0.94      0.94      1648\n",
        "       B-nat       0.00      0.00      0.00        17\n",
        "       B-org       0.81      0.63      0.71      1993\n",
        "       B-per       0.85      0.77      0.81      1687\n",
        "       B-tim       0.92      0.87      0.90      2056\n",
        "       I-art       0.00      0.00      0.00        39\n",
        "       I-eve       0.00      0.00      0.00        36\n",
        "       I-geo       0.80      0.70      0.75       757\n",
        "       I-gpe       0.00      0.00      0.00        22\n",
        "       I-nat       0.00      0.00      0.00         7\n",
        "       I-org       0.76      0.75      0.75      1601\n",
        "       I-per       0.83      0.87      0.85      1716\n",
        "       I-tim       0.76      0.76      0.76       662\n",
        "           O       0.99      1.00      1.00    223601\n",
        "\n",
        "    accuracy                           0.98    239800\n",
        "    macro avg       0.50      0.48      0.49    239800\n",
        "    weighted avg       0.98      0.98      0.98    239800\n"
      ],
      "metadata": {
        "id": "V96p1xKW-FO6"
      }
    },
    {
      "cell_type": "markdown",
      "source": [
        "So, the average results are almost the same for each model: accuracy is 97-98% which is caused by the high disbalance in the tags. While the majority O-tag's accuracy is extremely high, the marked tags do not feel so well. Some of them experience 0 repcision and 0 recall (e g art, nat and eve tags which are most minor tags). Most frequent ner tags are doing better (95 and 94 precision and recall respectively for B-gpe tag). These patterns are observed across all the models.\n",
        "\n",
        "In general, B-tags have better metrics than I-tags for the according classes. This means that the models do not recognize full entities well. So, in terms of full entities metrics would show worse results.\n",
        "\n",
        "Looking at macro metrics (where the influence of the majority class is the lowest), Bi-LSTM shows the lowest results compared to other models. CRF demonstrates the highest macro metrics. BERT results are something between BiLSTM and CRF."
      ],
      "metadata": {
        "id": "i5n51e_SPxQU"
      }
    },
    {
      "cell_type": "code",
      "source": [
        "bert_train_time = 9000\n",
        "bilstm_train_time = 490"
      ],
      "metadata": {
        "id": "6qRBQslsmZyT"
      },
      "execution_count": null,
      "outputs": []
    },
    {
      "cell_type": "code",
      "source": [
        "pd.DataFrame([\n",
        "              ['HMM', hmm_train_time, hmm_pred_time, 96],\n",
        "              ['CRF', crf_train_time, crf_pred_time, 97],\n",
        "              ['BERT', bert_train_time, bert_pred_time, 98],\n",
        "              ['BiLSTM', bilstm_train_time, bilstm_pred_time, 98],\n",
        "              ['Spacy', '-', spacy_pred_time * 0.1, '-']\n",
        "              ], \n",
        "             columns=['Model', 'train_time', 'pred_time', 'Accuracy'])"
      ],
      "metadata": {
        "colab": {
          "base_uri": "https://localhost:8080/",
          "height": 206
        },
        "id": "icPcGQKSnleB",
        "outputId": "00ed44aa-c309-4d8c-ac49-87e535c66851"
      },
      "execution_count": null,
      "outputs": [
        {
          "output_type": "execute_result",
          "data": {
            "text/html": [
              "\n",
              "  <div id=\"df-76dc0f65-dd22-4a37-92de-bdf112a2e868\">\n",
              "    <div class=\"colab-df-container\">\n",
              "      <div>\n",
              "<style scoped>\n",
              "    .dataframe tbody tr th:only-of-type {\n",
              "        vertical-align: middle;\n",
              "    }\n",
              "\n",
              "    .dataframe tbody tr th {\n",
              "        vertical-align: top;\n",
              "    }\n",
              "\n",
              "    .dataframe thead th {\n",
              "        text-align: right;\n",
              "    }\n",
              "</style>\n",
              "<table border=\"1\" class=\"dataframe\">\n",
              "  <thead>\n",
              "    <tr style=\"text-align: right;\">\n",
              "      <th></th>\n",
              "      <th>Model</th>\n",
              "      <th>train_time</th>\n",
              "      <th>pred_time</th>\n",
              "      <th>Accuracy</th>\n",
              "    </tr>\n",
              "  </thead>\n",
              "  <tbody>\n",
              "    <tr>\n",
              "      <th>0</th>\n",
              "      <td>HMM</td>\n",
              "      <td>4.543929</td>\n",
              "      <td>28.961274</td>\n",
              "      <td>96</td>\n",
              "    </tr>\n",
              "    <tr>\n",
              "      <th>1</th>\n",
              "      <td>CRF</td>\n",
              "      <td>330.24429</td>\n",
              "      <td>1.730120</td>\n",
              "      <td>97</td>\n",
              "    </tr>\n",
              "    <tr>\n",
              "      <th>2</th>\n",
              "      <td>BERT</td>\n",
              "      <td>9000</td>\n",
              "      <td>1031.379367</td>\n",
              "      <td>98</td>\n",
              "    </tr>\n",
              "    <tr>\n",
              "      <th>3</th>\n",
              "      <td>BiLSTM</td>\n",
              "      <td>490</td>\n",
              "      <td>449.967572</td>\n",
              "      <td>98</td>\n",
              "    </tr>\n",
              "    <tr>\n",
              "      <th>4</th>\n",
              "      <td>Spacy</td>\n",
              "      <td>-</td>\n",
              "      <td>55.577740</td>\n",
              "      <td>-</td>\n",
              "    </tr>\n",
              "  </tbody>\n",
              "</table>\n",
              "</div>\n",
              "      <button class=\"colab-df-convert\" onclick=\"convertToInteractive('df-76dc0f65-dd22-4a37-92de-bdf112a2e868')\"\n",
              "              title=\"Convert this dataframe to an interactive table.\"\n",
              "              style=\"display:none;\">\n",
              "        \n",
              "  <svg xmlns=\"http://www.w3.org/2000/svg\" height=\"24px\"viewBox=\"0 0 24 24\"\n",
              "       width=\"24px\">\n",
              "    <path d=\"M0 0h24v24H0V0z\" fill=\"none\"/>\n",
              "    <path d=\"M18.56 5.44l.94 2.06.94-2.06 2.06-.94-2.06-.94-.94-2.06-.94 2.06-2.06.94zm-11 1L8.5 8.5l.94-2.06 2.06-.94-2.06-.94L8.5 2.5l-.94 2.06-2.06.94zm10 10l.94 2.06.94-2.06 2.06-.94-2.06-.94-.94-2.06-.94 2.06-2.06.94z\"/><path d=\"M17.41 7.96l-1.37-1.37c-.4-.4-.92-.59-1.43-.59-.52 0-1.04.2-1.43.59L10.3 9.45l-7.72 7.72c-.78.78-.78 2.05 0 2.83L4 21.41c.39.39.9.59 1.41.59.51 0 1.02-.2 1.41-.59l7.78-7.78 2.81-2.81c.8-.78.8-2.07 0-2.86zM5.41 20L4 18.59l7.72-7.72 1.47 1.35L5.41 20z\"/>\n",
              "  </svg>\n",
              "      </button>\n",
              "      \n",
              "  <style>\n",
              "    .colab-df-container {\n",
              "      display:flex;\n",
              "      flex-wrap:wrap;\n",
              "      gap: 12px;\n",
              "    }\n",
              "\n",
              "    .colab-df-convert {\n",
              "      background-color: #E8F0FE;\n",
              "      border: none;\n",
              "      border-radius: 50%;\n",
              "      cursor: pointer;\n",
              "      display: none;\n",
              "      fill: #1967D2;\n",
              "      height: 32px;\n",
              "      padding: 0 0 0 0;\n",
              "      width: 32px;\n",
              "    }\n",
              "\n",
              "    .colab-df-convert:hover {\n",
              "      background-color: #E2EBFA;\n",
              "      box-shadow: 0px 1px 2px rgba(60, 64, 67, 0.3), 0px 1px 3px 1px rgba(60, 64, 67, 0.15);\n",
              "      fill: #174EA6;\n",
              "    }\n",
              "\n",
              "    [theme=dark] .colab-df-convert {\n",
              "      background-color: #3B4455;\n",
              "      fill: #D2E3FC;\n",
              "    }\n",
              "\n",
              "    [theme=dark] .colab-df-convert:hover {\n",
              "      background-color: #434B5C;\n",
              "      box-shadow: 0px 1px 3px 1px rgba(0, 0, 0, 0.15);\n",
              "      filter: drop-shadow(0px 1px 2px rgba(0, 0, 0, 0.3));\n",
              "      fill: #FFFFFF;\n",
              "    }\n",
              "  </style>\n",
              "\n",
              "      <script>\n",
              "        const buttonEl =\n",
              "          document.querySelector('#df-76dc0f65-dd22-4a37-92de-bdf112a2e868 button.colab-df-convert');\n",
              "        buttonEl.style.display =\n",
              "          google.colab.kernel.accessAllowed ? 'block' : 'none';\n",
              "\n",
              "        async function convertToInteractive(key) {\n",
              "          const element = document.querySelector('#df-76dc0f65-dd22-4a37-92de-bdf112a2e868');\n",
              "          const dataTable =\n",
              "            await google.colab.kernel.invokeFunction('convertToInteractive',\n",
              "                                                     [key], {});\n",
              "          if (!dataTable) return;\n",
              "\n",
              "          const docLinkHtml = 'Like what you see? Visit the ' +\n",
              "            '<a target=\"_blank\" href=https://colab.research.google.com/notebooks/data_table.ipynb>data table notebook</a>'\n",
              "            + ' to learn more about interactive tables.';\n",
              "          element.innerHTML = '';\n",
              "          dataTable['output_type'] = 'display_data';\n",
              "          await google.colab.output.renderOutput(dataTable, element);\n",
              "          const docLink = document.createElement('div');\n",
              "          docLink.innerHTML = docLinkHtml;\n",
              "          element.appendChild(docLink);\n",
              "        }\n",
              "      </script>\n",
              "    </div>\n",
              "  </div>\n",
              "  "
            ],
            "text/plain": [
              "    Model train_time    pred_time Accuracy\n",
              "0     HMM   4.543929    28.961274       96\n",
              "1     CRF  330.24429     1.730120       97\n",
              "2    BERT       9000  1031.379367       98\n",
              "3  BiLSTM        490   449.967572       98\n",
              "4   Spacy          -    55.577740        -"
            ]
          },
          "metadata": {},
          "execution_count": 262
        }
      ]
    },
    {
      "cell_type": "markdown",
      "source": [
        "In terms of required time, the models behauve differently.\n",
        "\n",
        "Spacy is ready-to-use straight after import. HMM model requires rally little time to fit. On the third place, CRF stays with 330 secs to get fitted. Bi-LSTM and BERT finish the top with 490 and 9000 sec respectively. Most time consuming  models are tend to show the best results.\n",
        "\n",
        "In terms of prediction time, the top would look differently. The fastest model is CRF that requires only ~2 sec to predict 10% of our data. HMM and spacy show comparable results. And Bi-LSTM requires almost 10 times more time. Anti-record here belongs to BERT again that took >1000 sec to make predictions."
      ],
      "metadata": {
        "id": "mJiyT02zTlAJ"
      }
    },
    {
      "cell_type": "markdown",
      "source": [
        "#### Conclusion\n",
        "\n",
        "Taking into consideration metrics and time recorded for fit and predict, my choice here would be CRF model as:\n",
        "1. It shows the highest macro-metrics and metrics per marked classes.\n",
        "2. It requires much less time to fit compared to NN-models and the smallest amount of time to make prediction compared to all other models.\n",
        "\n",
        "CRF is a reasonable compromise between time and quality of predictions."
      ],
      "metadata": {
        "id": "0KQcq9bNVN9g"
      }
    },
    {
      "cell_type": "code",
      "source": [
        ""
      ],
      "metadata": {
        "id": "DAjgalO3oAND"
      },
      "execution_count": null,
      "outputs": []
    }
  ]
}